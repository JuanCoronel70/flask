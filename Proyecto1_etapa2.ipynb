{
  "cells": [
    {
      "cell_type": "markdown",
      "metadata": {
        "id": "5vS8Qlxhw-BZ"
      },
      "source": [
        "# Proyecto 1 Inteligencia de Negocios\n",
        "## Problematica\n",
        "La Organización de las Naciones Unidas (ONU) adopta, el 25 de septiembre del año 2015, la\n",
        "Agenda 2030i para el desarrollo sostenible, cuyo fin es reducir la pobreza, garantizar acceso\n",
        "a la salud y educación, buscar igualdad de género y oportunidades, disminuir el impacto\n",
        "ambiental, entre otros. Esta agenda se basa en 17 objetivos de desarrollo sostenibleii (ODS)\n",
        "y 169 metas (derivadas de los diferentes ODS).\n",
        "\n"
      ]
    },
    {
      "cell_type": "markdown",
      "metadata": {
        "id": "KTjti_2S1Xfi"
      },
      "source": [
        "# 1. Analisís\n"
      ]
    },
    {
      "cell_type": "markdown",
      "source": [
        "##Oportunidades de Negocio:\n",
        "\n",
        "Eficiencia Operativa: La automatización de la clasificación de solicitudes puede aumentar la eficiencia al reducir la carga de trabajo manual. Esto puede permitir a tu ONU procesar un mayor volumen de solicitudes en menos tiempo.\n",
        "\n",
        "Toma de Decisiones Más Rápida: Al categorizar rápidamente las solicitudes en función de los ODS correspondientes, tu organización puede tomar decisiones más informadas y oportunas sobre cómo responder a cada solicitud.\n",
        "\n",
        "Seguimiento y Reporte de ODS: La clasificación automatizada facilita el seguimiento y la presentación de informes sobre el cumplimiento de los ODS. Esto puede ser esencial para demostrar el compromiso de tu organización con la sostenibilidad y la responsabilidad social.\n",
        "\n",
        "Reducción de Errores Humanos: La automatización reduce la posibilidad de errores humanos en la clasificación, lo que es especialmente importante cuando se trata de asignar solicitudes a los ODS correctos.\n",
        "\n",
        "Problemas de Negocio:\n",
        "\n",
        "Precisión de la Clasificación: La automatización de la clasificación debe ser precisa. Si el modelo o algoritmo utilizado no clasifica correctamente las solicitudes en función de los ODS, esto puede llevar a problemas de cumplimiento o a respuestas inadecuadas.\n",
        "\n",
        "Necesidad de Datos de Calidad: La calidad de los datos es fundamental para la automatización. Si los datos de entrada no son precisos o están desactualizados, la clasificación automatizada puede ser ineficaz.\n",
        "\n",
        "Integración Tecnológica: La implementación de sistemas de automatización puede requerir la integración con los sistemas existentes. Esto puede ser un desafío.\n",
        "\n",
        "Privacidad y Seguridad de los Datos: La automatización de solicitudes implica el manejo de datos sensibles. Garantizar la privacidad y la seguridad de estos datos es esencial y puede ser un desafío."
      ],
      "metadata": {
        "id": "ty44bXVPKhlE"
      }
    },
    {
      "cell_type": "markdown",
      "source": [
        "##Organizacion y roles beneficiados:\n",
        "\n",
        "Gobierno Local o Nacional-Rol de Departamento de Desarrollo Sostenible: Los gobiernos pueden usar la automatización para gestionar y clasificar solicitudes relacionadas con iniciativas de desarrollo sostenible en su jurisdicción. Los departamentos de desarrollo sostenible pueden beneficiarse al agilizar el procesamiento de solicitudes y el seguimiento de proyectos.\n",
        "\n",
        "Empresas con Iniciativas de Responsabilidad Social Corporativa (RSC)-Rol de RSC o Sostenibilidad: Las empresas que tienen iniciativas de RSC o sostenibilidad pueden usar la automatización para clasificar las solicitudes de patrocinio, donaciones o proyectos sociales. Los equipos de RSC o sostenibilidad pueden gestionar estas solicitudes de manera eficiente.\n",
        "\n",
        "Instituciones Educativas-Rol de Departamento de Becas o Ayudas: Las instituciones educativas pueden utilizar la automatización para clasificar solicitudes de becas o ayudas relacionadas con los ODS. El personal del departamento de becas o ayudas puede procesar estas solicitudes de manera más eficiente.\n",
        "\n",
        "ONGs y Agencias de Ayuda Humanitaria-Rol de Gestión de Proyectos de Ayuda: Las organizaciones no gubernamentales y las agencias de ayuda humanitaria pueden automatizar la clasificación de solicitudes de ayuda y proyectos relacionados con los ODS. Los equipos de gestión de proyectos de ayuda pueden beneficiarse al simplificar la gestión de solicitudes.\n",
        "\n",
        "Inversionistas y Fondos de Inversión Socialmente Responsables (SRI)- Rol de Evaluación de Proyectos de Inversión: Los inversionistas y los fondos de inversión SRI pueden utilizar la automatización para evaluar solicitudes de inversión en proyectos alineados con los ODS. Los equipos de evaluación de proyectos pueden acelerar el proceso de toma de decisiones.\n",
        "Emprendedores Sociales:"
      ],
      "metadata": {
        "id": "AyD4Lg0IK_VM"
      }
    },
    {
      "cell_type": "markdown",
      "source": [
        "##Grupo Estadistica:\n",
        "s.saiz@uniandes.edu.co\n",
        "Zoom\n",
        "21 – 10 - 2023\n"
      ],
      "metadata": {
        "id": "-zPUt884L_Ae"
      }
    },
    {
      "cell_type": "markdown",
      "metadata": {
        "id": "wCPmQfVgje09"
      },
      "source": [
        "## 1.1 Analisís del negocio"
      ]
    },
    {
      "cell_type": "markdown",
      "metadata": {
        "id": "_SlxWL3cjvDF"
      },
      "source": [
        "### Objetivos del negocio"
      ]
    },
    {
      "cell_type": "markdown",
      "metadata": {
        "id": "QCOKeKwojvDO"
      },
      "source": [
        "Para el negocio debemos tener en cuenta los objetivos de desarrollo sostenible planteados. Los cuales son los siguientes:\n",
        "\n",
        "- Garantizar la disponibilidad de agua y su gestión sostenible y el saneamiento para todos.\n",
        "- Garantizar el acceso a una energía asequible, segura, sostenible y moderna.\n",
        "- Promover sociedades justas, pacíficas e inclusivas.\n",
        "\n",
        "Estos objetivos se hacen para definir metas que al cumplirlas mejorarán la calidad de vida de todos los habitantes del mundo.\n",
        "Teniendo en cuenta los OBS el negocio tiene un objetivo claro:\n",
        "- Poder analizar automaticamente informacion textual recopilada sobre la opinion de habitantes sobre problematicas locales, teniendo en cuenta los ODS se hará enfasis en las opiniones relacionadas con agua, violencia y energia.\n",
        "\n",
        "UNFPA es una organización que tiene como objetivo principal la ejecuccion de los ODS. Este proceso requiere de meticula coordinación, planeación y seguimiento. El analisis de información relacionada con estos procesos es necesario para asegurar que los recursos de la organización se gasten eficientemente y puedan cumplir sus objetivos.\n",
        "<br>\n",
        "\n",
        "<hr>\n"
      ]
    },
    {
      "cell_type": "markdown",
      "metadata": {
        "id": "jprUE900m93S"
      },
      "source": [
        "### Que haremos?"
      ]
    },
    {
      "cell_type": "markdown",
      "metadata": {
        "id": "1rWkUqLql7ZU"
      },
      "source": [
        "Segun lo analizado anteriormente, creemos que un modelo de clasificación es el primer paso para lograr un analisís eficiente de la información relacionada con los ODS. Pues, una vez conocidos el ODS al que esta relacionado un texto podemos concentrar mas el analisis de la información relacionada con ese ODS."
      ]
    },
    {
      "cell_type": "markdown",
      "metadata": {
        "id": "JHRfrNOzjaFb"
      },
      "source": [
        "## 1.2 Enfoque análitico"
      ]
    },
    {
      "cell_type": "markdown",
      "metadata": {
        "id": "n5z80ElT1Z-U"
      },
      "source": [
        "Despues de explorar los datos y ver lo que el negocio desea, se decidió que el siguiente enfoque análitico para resolver el problema:\n",
        "\n",
        "1. **Tipo de aprendizaje:** Supervisado, **Tarea de aprendizaje:** Clasificación **Técnica de aprendizaje:** Regresión Logística **Algoritmo:** Tfidf (Term Frequency-Inverse Document Frequency). (Implementado por **Juan Coronel**)\n",
        "\n",
        "2. **Tipo de aprendizaje:** Supervisado, **Tarea de aprendizaje:** Clasificación **Técnica de aprendizaje:** Regresión Logística **Algoritmo:** Bag of words. (Implementado por **Julian Villate**)\n",
        "\n",
        "3. **Tipo de aprendizaje:** Supervisado, **Tarea de aprendizaje:** Clasificación **Técnica de aprendizaje:** Regresión Logística **Algoritmo:** BERT. (Implementado por **Andres Parraga**)\n",
        "\n",
        "Esta decisión es la decisión apropiada ya que los principales objetivos del proyecto son:\n",
        "\n",
        "**Desarrollar un modelo de clasificación, con técnicas de aprendizaje\n",
        "automático, que permita relacionar de manera automática un texto según los ODS**.\n"
      ]
    },
    {
      "cell_type": "markdown",
      "metadata": {
        "id": "gJ3Nx_rZ1P0T"
      },
      "source": [
        "# 2. Entendimiento de datos\n"
      ]
    },
    {
      "cell_type": "markdown",
      "metadata": {
        "id": "HDQ8TIxt1ROl"
      },
      "source": [
        "## 2.1 Perfilamiento de datos"
      ]
    },
    {
      "cell_type": "markdown",
      "metadata": {
        "id": "rrL_Rc9J2YMH"
      },
      "source": [
        "###2.1.1 Importación de librerias"
      ]
    },
    {
      "cell_type": "code",
      "execution_count": null,
      "metadata": {
        "colab": {
          "base_uri": "https://localhost:8080/"
        },
        "id": "Qc45EAbqs5qq",
        "outputId": "295637ed-1435-4d5b-ec38-7066e6417deb"
      },
      "outputs": [
        {
          "output_type": "stream",
          "name": "stdout",
          "text": [
            "Requirement already satisfied: nltk in /usr/local/lib/python3.10/dist-packages (3.8.1)\n",
            "Requirement already satisfied: click in /usr/local/lib/python3.10/dist-packages (from nltk) (8.1.7)\n",
            "Requirement already satisfied: joblib in /usr/local/lib/python3.10/dist-packages (from nltk) (1.3.2)\n",
            "Requirement already satisfied: regex>=2021.8.3 in /usr/local/lib/python3.10/dist-packages (from nltk) (2023.6.3)\n",
            "Requirement already satisfied: tqdm in /usr/local/lib/python3.10/dist-packages (from nltk) (4.66.1)\n",
            "Requirement already satisfied: spacy in /usr/local/lib/python3.10/dist-packages (3.6.1)\n",
            "Requirement already satisfied: spacy-legacy<3.1.0,>=3.0.11 in /usr/local/lib/python3.10/dist-packages (from spacy) (3.0.12)\n",
            "Requirement already satisfied: spacy-loggers<2.0.0,>=1.0.0 in /usr/local/lib/python3.10/dist-packages (from spacy) (1.0.5)\n",
            "Requirement already satisfied: murmurhash<1.1.0,>=0.28.0 in /usr/local/lib/python3.10/dist-packages (from spacy) (1.0.10)\n",
            "Requirement already satisfied: cymem<2.1.0,>=2.0.2 in /usr/local/lib/python3.10/dist-packages (from spacy) (2.0.8)\n",
            "Requirement already satisfied: preshed<3.1.0,>=3.0.2 in /usr/local/lib/python3.10/dist-packages (from spacy) (3.0.9)\n",
            "Requirement already satisfied: thinc<8.2.0,>=8.1.8 in /usr/local/lib/python3.10/dist-packages (from spacy) (8.1.12)\n",
            "Requirement already satisfied: wasabi<1.2.0,>=0.9.1 in /usr/local/lib/python3.10/dist-packages (from spacy) (1.1.2)\n",
            "Requirement already satisfied: srsly<3.0.0,>=2.4.3 in /usr/local/lib/python3.10/dist-packages (from spacy) (2.4.8)\n",
            "Requirement already satisfied: catalogue<2.1.0,>=2.0.6 in /usr/local/lib/python3.10/dist-packages (from spacy) (2.0.10)\n",
            "Requirement already satisfied: typer<0.10.0,>=0.3.0 in /usr/local/lib/python3.10/dist-packages (from spacy) (0.9.0)\n",
            "Requirement already satisfied: pathy>=0.10.0 in /usr/local/lib/python3.10/dist-packages (from spacy) (0.10.2)\n",
            "Requirement already satisfied: smart-open<7.0.0,>=5.2.1 in /usr/local/lib/python3.10/dist-packages (from spacy) (6.4.0)\n",
            "Requirement already satisfied: tqdm<5.0.0,>=4.38.0 in /usr/local/lib/python3.10/dist-packages (from spacy) (4.66.1)\n",
            "Requirement already satisfied: numpy>=1.15.0 in /usr/local/lib/python3.10/dist-packages (from spacy) (1.23.5)\n",
            "Requirement already satisfied: requests<3.0.0,>=2.13.0 in /usr/local/lib/python3.10/dist-packages (from spacy) (2.31.0)\n",
            "Requirement already satisfied: pydantic!=1.8,!=1.8.1,<3.0.0,>=1.7.4 in /usr/local/lib/python3.10/dist-packages (from spacy) (1.10.13)\n",
            "Requirement already satisfied: jinja2 in /usr/local/lib/python3.10/dist-packages (from spacy) (3.1.2)\n",
            "Requirement already satisfied: setuptools in /usr/local/lib/python3.10/dist-packages (from spacy) (67.7.2)\n",
            "Requirement already satisfied: packaging>=20.0 in /usr/local/lib/python3.10/dist-packages (from spacy) (23.2)\n",
            "Requirement already satisfied: langcodes<4.0.0,>=3.2.0 in /usr/local/lib/python3.10/dist-packages (from spacy) (3.3.0)\n",
            "Requirement already satisfied: typing-extensions>=4.2.0 in /usr/local/lib/python3.10/dist-packages (from pydantic!=1.8,!=1.8.1,<3.0.0,>=1.7.4->spacy) (4.5.0)\n",
            "Requirement already satisfied: charset-normalizer<4,>=2 in /usr/local/lib/python3.10/dist-packages (from requests<3.0.0,>=2.13.0->spacy) (3.3.0)\n",
            "Requirement already satisfied: idna<4,>=2.5 in /usr/local/lib/python3.10/dist-packages (from requests<3.0.0,>=2.13.0->spacy) (3.4)\n",
            "Requirement already satisfied: urllib3<3,>=1.21.1 in /usr/local/lib/python3.10/dist-packages (from requests<3.0.0,>=2.13.0->spacy) (2.0.6)\n",
            "Requirement already satisfied: certifi>=2017.4.17 in /usr/local/lib/python3.10/dist-packages (from requests<3.0.0,>=2.13.0->spacy) (2023.7.22)\n",
            "Requirement already satisfied: blis<0.8.0,>=0.7.8 in /usr/local/lib/python3.10/dist-packages (from thinc<8.2.0,>=8.1.8->spacy) (0.7.11)\n",
            "Requirement already satisfied: confection<1.0.0,>=0.0.1 in /usr/local/lib/python3.10/dist-packages (from thinc<8.2.0,>=8.1.8->spacy) (0.1.3)\n",
            "Requirement already satisfied: click<9.0.0,>=7.1.1 in /usr/local/lib/python3.10/dist-packages (from typer<0.10.0,>=0.3.0->spacy) (8.1.7)\n",
            "Requirement already satisfied: MarkupSafe>=2.0 in /usr/local/lib/python3.10/dist-packages (from jinja2->spacy) (2.1.3)\n",
            "2023-10-16 02:17:47.062739: I tensorflow/core/platform/cpu_feature_guard.cc:182] This TensorFlow binary is optimized to use available CPU instructions in performance-critical operations.\n",
            "To enable the following instructions: AVX2 FMA, in other operations, rebuild TensorFlow with the appropriate compiler flags.\n",
            "2023-10-16 02:17:48.543388: W tensorflow/compiler/tf2tensorrt/utils/py_utils.cc:38] TF-TRT Warning: Could not find TensorRT\n",
            "2023-10-16 02:17:50.167420: I tensorflow/compiler/xla/stream_executor/cuda/cuda_gpu_executor.cc:995] successful NUMA node read from SysFS had negative value (-1), but there must be at least one NUMA node, so returning NUMA node zero. See more at https://github.com/torvalds/linux/blob/v6.0/Documentation/ABI/testing/sysfs-bus-pci#L344-L355\n",
            "2023-10-16 02:17:50.167877: I tensorflow/compiler/xla/stream_executor/cuda/cuda_gpu_executor.cc:995] successful NUMA node read from SysFS had negative value (-1), but there must be at least one NUMA node, so returning NUMA node zero. See more at https://github.com/torvalds/linux/blob/v6.0/Documentation/ABI/testing/sysfs-bus-pci#L344-L355\n",
            "2023-10-16 02:17:50.168043: I tensorflow/compiler/xla/stream_executor/cuda/cuda_gpu_executor.cc:995] successful NUMA node read from SysFS had negative value (-1), but there must be at least one NUMA node, so returning NUMA node zero. See more at https://github.com/torvalds/linux/blob/v6.0/Documentation/ABI/testing/sysfs-bus-pci#L344-L355\n",
            "\u001b[38;5;3m⚠ As of spaCy v3.0, shortcuts like 'es' are deprecated. Please use the\n",
            "full pipeline package name 'es_core_news_sm' instead.\u001b[0m\n",
            "Collecting es-core-news-sm==3.6.0\n",
            "  Downloading https://github.com/explosion/spacy-models/releases/download/es_core_news_sm-3.6.0/es_core_news_sm-3.6.0-py3-none-any.whl (12.9 MB)\n",
            "\u001b[2K     \u001b[90m━━━━━━━━━━━━━━━━━━━━━━━━━━━━━━━━━━━━━━━━\u001b[0m \u001b[32m12.9/12.9 MB\u001b[0m \u001b[31m13.3 MB/s\u001b[0m eta \u001b[36m0:00:00\u001b[0m\n",
            "\u001b[?25hRequirement already satisfied: spacy<3.7.0,>=3.6.0 in /usr/local/lib/python3.10/dist-packages (from es-core-news-sm==3.6.0) (3.6.1)\n",
            "Requirement already satisfied: spacy-legacy<3.1.0,>=3.0.11 in /usr/local/lib/python3.10/dist-packages (from spacy<3.7.0,>=3.6.0->es-core-news-sm==3.6.0) (3.0.12)\n",
            "Requirement already satisfied: spacy-loggers<2.0.0,>=1.0.0 in /usr/local/lib/python3.10/dist-packages (from spacy<3.7.0,>=3.6.0->es-core-news-sm==3.6.0) (1.0.5)\n",
            "Requirement already satisfied: murmurhash<1.1.0,>=0.28.0 in /usr/local/lib/python3.10/dist-packages (from spacy<3.7.0,>=3.6.0->es-core-news-sm==3.6.0) (1.0.10)\n",
            "Requirement already satisfied: cymem<2.1.0,>=2.0.2 in /usr/local/lib/python3.10/dist-packages (from spacy<3.7.0,>=3.6.0->es-core-news-sm==3.6.0) (2.0.8)\n",
            "Requirement already satisfied: preshed<3.1.0,>=3.0.2 in /usr/local/lib/python3.10/dist-packages (from spacy<3.7.0,>=3.6.0->es-core-news-sm==3.6.0) (3.0.9)\n",
            "Requirement already satisfied: thinc<8.2.0,>=8.1.8 in /usr/local/lib/python3.10/dist-packages (from spacy<3.7.0,>=3.6.0->es-core-news-sm==3.6.0) (8.1.12)\n",
            "Requirement already satisfied: wasabi<1.2.0,>=0.9.1 in /usr/local/lib/python3.10/dist-packages (from spacy<3.7.0,>=3.6.0->es-core-news-sm==3.6.0) (1.1.2)\n",
            "Requirement already satisfied: srsly<3.0.0,>=2.4.3 in /usr/local/lib/python3.10/dist-packages (from spacy<3.7.0,>=3.6.0->es-core-news-sm==3.6.0) (2.4.8)\n",
            "Requirement already satisfied: catalogue<2.1.0,>=2.0.6 in /usr/local/lib/python3.10/dist-packages (from spacy<3.7.0,>=3.6.0->es-core-news-sm==3.6.0) (2.0.10)\n",
            "Requirement already satisfied: typer<0.10.0,>=0.3.0 in /usr/local/lib/python3.10/dist-packages (from spacy<3.7.0,>=3.6.0->es-core-news-sm==3.6.0) (0.9.0)\n",
            "Requirement already satisfied: pathy>=0.10.0 in /usr/local/lib/python3.10/dist-packages (from spacy<3.7.0,>=3.6.0->es-core-news-sm==3.6.0) (0.10.2)\n",
            "Requirement already satisfied: smart-open<7.0.0,>=5.2.1 in /usr/local/lib/python3.10/dist-packages (from spacy<3.7.0,>=3.6.0->es-core-news-sm==3.6.0) (6.4.0)\n",
            "Requirement already satisfied: tqdm<5.0.0,>=4.38.0 in /usr/local/lib/python3.10/dist-packages (from spacy<3.7.0,>=3.6.0->es-core-news-sm==3.6.0) (4.66.1)\n",
            "Requirement already satisfied: numpy>=1.15.0 in /usr/local/lib/python3.10/dist-packages (from spacy<3.7.0,>=3.6.0->es-core-news-sm==3.6.0) (1.23.5)\n",
            "Requirement already satisfied: requests<3.0.0,>=2.13.0 in /usr/local/lib/python3.10/dist-packages (from spacy<3.7.0,>=3.6.0->es-core-news-sm==3.6.0) (2.31.0)\n",
            "Requirement already satisfied: pydantic!=1.8,!=1.8.1,<3.0.0,>=1.7.4 in /usr/local/lib/python3.10/dist-packages (from spacy<3.7.0,>=3.6.0->es-core-news-sm==3.6.0) (1.10.13)\n",
            "Requirement already satisfied: jinja2 in /usr/local/lib/python3.10/dist-packages (from spacy<3.7.0,>=3.6.0->es-core-news-sm==3.6.0) (3.1.2)\n",
            "Requirement already satisfied: setuptools in /usr/local/lib/python3.10/dist-packages (from spacy<3.7.0,>=3.6.0->es-core-news-sm==3.6.0) (67.7.2)\n",
            "Requirement already satisfied: packaging>=20.0 in /usr/local/lib/python3.10/dist-packages (from spacy<3.7.0,>=3.6.0->es-core-news-sm==3.6.0) (23.2)\n",
            "Requirement already satisfied: langcodes<4.0.0,>=3.2.0 in /usr/local/lib/python3.10/dist-packages (from spacy<3.7.0,>=3.6.0->es-core-news-sm==3.6.0) (3.3.0)\n",
            "Requirement already satisfied: typing-extensions>=4.2.0 in /usr/local/lib/python3.10/dist-packages (from pydantic!=1.8,!=1.8.1,<3.0.0,>=1.7.4->spacy<3.7.0,>=3.6.0->es-core-news-sm==3.6.0) (4.5.0)\n",
            "Requirement already satisfied: charset-normalizer<4,>=2 in /usr/local/lib/python3.10/dist-packages (from requests<3.0.0,>=2.13.0->spacy<3.7.0,>=3.6.0->es-core-news-sm==3.6.0) (3.3.0)\n",
            "Requirement already satisfied: idna<4,>=2.5 in /usr/local/lib/python3.10/dist-packages (from requests<3.0.0,>=2.13.0->spacy<3.7.0,>=3.6.0->es-core-news-sm==3.6.0) (3.4)\n",
            "Requirement already satisfied: urllib3<3,>=1.21.1 in /usr/local/lib/python3.10/dist-packages (from requests<3.0.0,>=2.13.0->spacy<3.7.0,>=3.6.0->es-core-news-sm==3.6.0) (2.0.6)\n",
            "Requirement already satisfied: certifi>=2017.4.17 in /usr/local/lib/python3.10/dist-packages (from requests<3.0.0,>=2.13.0->spacy<3.7.0,>=3.6.0->es-core-news-sm==3.6.0) (2023.7.22)\n",
            "Requirement already satisfied: blis<0.8.0,>=0.7.8 in /usr/local/lib/python3.10/dist-packages (from thinc<8.2.0,>=8.1.8->spacy<3.7.0,>=3.6.0->es-core-news-sm==3.6.0) (0.7.11)\n",
            "Requirement already satisfied: confection<1.0.0,>=0.0.1 in /usr/local/lib/python3.10/dist-packages (from thinc<8.2.0,>=8.1.8->spacy<3.7.0,>=3.6.0->es-core-news-sm==3.6.0) (0.1.3)\n",
            "Requirement already satisfied: click<9.0.0,>=7.1.1 in /usr/local/lib/python3.10/dist-packages (from typer<0.10.0,>=0.3.0->spacy<3.7.0,>=3.6.0->es-core-news-sm==3.6.0) (8.1.7)\n",
            "Requirement already satisfied: MarkupSafe>=2.0 in /usr/local/lib/python3.10/dist-packages (from jinja2->spacy<3.7.0,>=3.6.0->es-core-news-sm==3.6.0) (2.1.3)\n",
            "Installing collected packages: es-core-news-sm\n",
            "Successfully installed es-core-news-sm-3.6.0\n",
            "\u001b[38;5;2m✔ Download and installation successful\u001b[0m\n",
            "You can now load the package via spacy.load('es_core_news_sm')\n",
            "Collecting unidecode\n",
            "  Downloading Unidecode-1.3.7-py3-none-any.whl (235 kB)\n",
            "\u001b[2K     \u001b[90m━━━━━━━━━━━━━━━━━━━━━━━━━━━━━━━━━━━━━━━━\u001b[0m \u001b[32m235.5/235.5 kB\u001b[0m \u001b[31m4.8 MB/s\u001b[0m eta \u001b[36m0:00:00\u001b[0m\n",
            "\u001b[?25hInstalling collected packages: unidecode\n",
            "Successfully installed unidecode-1.3.7\n"
          ]
        }
      ],
      "source": [
        "!pip install nltk\n",
        "!pip install spacy\n",
        "!python -m spacy download es\n",
        "!pip install unidecode\n"
      ]
    },
    {
      "cell_type": "code",
      "execution_count": null,
      "metadata": {
        "colab": {
          "base_uri": "https://localhost:8080/"
        },
        "id": "MDBX7QbQ0PQk",
        "outputId": "47813f05-d2d3-467f-ef09-131ebeaedc80"
      },
      "outputs": [
        {
          "output_type": "stream",
          "name": "stderr",
          "text": [
            "[nltk_data] Downloading package punkt to /root/nltk_data...\n",
            "[nltk_data]   Unzipping tokenizers/punkt.zip.\n",
            "[nltk_data] Downloading package stopwords to /root/nltk_data...\n",
            "[nltk_data]   Unzipping corpora/stopwords.zip.\n"
          ]
        },
        {
          "output_type": "execute_result",
          "data": {
            "text/plain": [
              "True"
            ]
          },
          "metadata": {},
          "execution_count": 2
        }
      ],
      "source": [
        "# librería Natural Language Toolkit, usada para trabajar con textos\n",
        "import nltk\n",
        "import numpy as np\n",
        "\n",
        "# librerías bases\n",
        "import pandas as pd\n",
        "import matplotlib.pyplot as plt\n",
        "from unidecode import unidecode\n",
        "from sklearn.model_selection import train_test_split\n",
        "import seaborn as sns\n",
        "# Librerias para hacer el entrenamiento y la regresion logistica con parametros adecuados\n",
        "from sklearn.model_selection import GridSearchCV\n",
        "from sklearn.pipeline import Pipeline\n",
        "from sklearn.linear_model import LogisticRegression\n",
        "from sklearn.feature_extraction.text import TfidfVectorizer\n",
        "from sklearn.feature_extraction.text import CountVectorizer\n",
        "from sklearn.naive_bayes import MultinomialNB\n",
        "from sklearn.metrics import accuracy_score\n",
        "from sklearn.metrics import confusion_matrix\n",
        "from sklearn.metrics import accuracy_score, precision_score, recall_score, f1_score, confusion_matrix\n",
        "\n",
        "# librería para lematizar los textos en español y realizar flexiones gramaticales\n",
        "# Nota: Un lema es la forma base de una palabra.\n",
        "import spacy\n",
        "\n",
        "# librería para limpiar el texto con expresiones regulares, regex de python\n",
        "import re\n",
        "\n",
        "# Punkt nos permite separar un texto en frases.\n",
        "nltk.download('punkt')\n",
        "\n",
        "# Descargamos todas las palabras vacias, es decir, aquellas que no aportan nada al significado del texto\n",
        "nltk.download('stopwords')\n",
        "\n",
        "\n"
      ]
    },
    {
      "cell_type": "code",
      "execution_count": null,
      "metadata": {
        "colab": {
          "base_uri": "https://localhost:8080/"
        },
        "id": "HTcWBZvA17cT",
        "outputId": "f72242dc-12fa-4e62-cca0-c6ccea110531"
      },
      "outputs": [
        {
          "output_type": "stream",
          "name": "stdout",
          "text": [
            "Palabra: Los, POS: DET, Flexión gramatical: Definite=Def|Gender=Masc|Number=Plur|PronType=Art\n",
            "Palabra: gatos, POS: NOUN, Flexión gramatical: Gender=Masc|Number=Plur\n",
            "Palabra: están, POS: AUX, Flexión gramatical: Mood=Ind|Number=Plur|Person=3|Tense=Pres|VerbForm=Fin\n",
            "Palabra: saltando, POS: VERB, Flexión gramatical: VerbForm=Ger\n",
            "Palabra: sobre, POS: ADP, Flexión gramatical: \n",
            "Palabra: las, POS: DET, Flexión gramatical: Definite=Def|Gender=Fem|Number=Plur|PronType=Art\n",
            "Palabra: cajas, POS: NOUN, Flexión gramatical: Gender=Fem|Number=Plur\n",
            "Palabra: ., POS: PUNCT, Flexión gramatical: PunctType=Peri\n"
          ]
        }
      ],
      "source": [
        "import spacy\n",
        "\n",
        "# Carga el modelo en español\n",
        "nlp = spacy.load(\"es_core_news_sm\")\n",
        "\n",
        "# Texto que deseas analizar\n",
        "texto = \"Los gatos están saltando sobre las cajas.\"\n",
        "\n",
        "# Procesa el texto\n",
        "doc = nlp(texto)\n",
        "\n",
        "# Itera a través de las palabras del texto y obtén información gramatical\n",
        "for token in doc:\n",
        "    print(f\"Palabra: {token.text}, POS: {token.pos_}, Flexión gramatical: {token.morph}\")\n",
        "\n"
      ]
    },
    {
      "cell_type": "markdown",
      "metadata": {
        "id": "Lr1AvJ9b41z2"
      },
      "source": [
        "###2.1.2 Lectura de los datos"
      ]
    },
    {
      "cell_type": "markdown",
      "metadata": {
        "id": "kIoexVtlGMwP"
      },
      "source": [
        "Note que efecitvamente al cargar los datos esperamos un dataframe con 3000 filas y 2 columnas (texto, sdg)"
      ]
    },
    {
      "cell_type": "code",
      "execution_count": null,
      "metadata": {
        "colab": {
          "base_uri": "https://localhost:8080/"
        },
        "id": "9PQDcxJW5Cjg",
        "outputId": "65bbe0d9-32ca-4e0a-853f-77e0248bfbcd"
      },
      "outputs": [
        {
          "output_type": "execute_result",
          "data": {
            "text/plain": [
              "(3000, 2)"
            ]
          },
          "metadata": {},
          "execution_count": 4
        }
      ],
      "source": [
        "# Usamos la libreria pandas para leer el archivo excel\n",
        "data = pd.read_excel(\"./data/cat_6716.xlsx\")\n",
        "data.shape"
      ]
    },
    {
      "cell_type": "markdown",
      "metadata": {
        "id": "lAAws9EDEp8h"
      },
      "source": [
        "- Se muestra un ejemplo de los datos presentes en el dataframe:"
      ]
    },
    {
      "cell_type": "code",
      "execution_count": null,
      "metadata": {
        "colab": {
          "base_uri": "https://localhost:8080/",
          "height": 206
        },
        "id": "nG3mdxrZEqfF",
        "outputId": "809f8459-73bb-4f72-8deb-7f5ec79e3761"
      },
      "outputs": [
        {
          "output_type": "execute_result",
          "data": {
            "text/plain": [
              "                                      Textos_espanol  sdg\n",
              "0  Es importante destacar que, en un año de sequí...    6\n",
              "1  Hay una gran cantidad de literatura sobre Aust...    6\n",
              "2  Los procesos de descentralización, emprendidos...    6\n",
              "3  Esto puede tener consecuencias sustanciales pa...    6\n",
              "4  La función de beneficio también incorpora pará...    6"
            ],
            "text/html": [
              "\n",
              "  <div id=\"df-2eeb5446-e698-4b9c-a706-b723c7b0d2a9\" class=\"colab-df-container\">\n",
              "    <div>\n",
              "<style scoped>\n",
              "    .dataframe tbody tr th:only-of-type {\n",
              "        vertical-align: middle;\n",
              "    }\n",
              "\n",
              "    .dataframe tbody tr th {\n",
              "        vertical-align: top;\n",
              "    }\n",
              "\n",
              "    .dataframe thead th {\n",
              "        text-align: right;\n",
              "    }\n",
              "</style>\n",
              "<table border=\"1\" class=\"dataframe\">\n",
              "  <thead>\n",
              "    <tr style=\"text-align: right;\">\n",
              "      <th></th>\n",
              "      <th>Textos_espanol</th>\n",
              "      <th>sdg</th>\n",
              "    </tr>\n",
              "  </thead>\n",
              "  <tbody>\n",
              "    <tr>\n",
              "      <th>0</th>\n",
              "      <td>Es importante destacar que, en un año de sequí...</td>\n",
              "      <td>6</td>\n",
              "    </tr>\n",
              "    <tr>\n",
              "      <th>1</th>\n",
              "      <td>Hay una gran cantidad de literatura sobre Aust...</td>\n",
              "      <td>6</td>\n",
              "    </tr>\n",
              "    <tr>\n",
              "      <th>2</th>\n",
              "      <td>Los procesos de descentralización, emprendidos...</td>\n",
              "      <td>6</td>\n",
              "    </tr>\n",
              "    <tr>\n",
              "      <th>3</th>\n",
              "      <td>Esto puede tener consecuencias sustanciales pa...</td>\n",
              "      <td>6</td>\n",
              "    </tr>\n",
              "    <tr>\n",
              "      <th>4</th>\n",
              "      <td>La función de beneficio también incorpora pará...</td>\n",
              "      <td>6</td>\n",
              "    </tr>\n",
              "  </tbody>\n",
              "</table>\n",
              "</div>\n",
              "    <div class=\"colab-df-buttons\">\n",
              "\n",
              "  <div class=\"colab-df-container\">\n",
              "    <button class=\"colab-df-convert\" onclick=\"convertToInteractive('df-2eeb5446-e698-4b9c-a706-b723c7b0d2a9')\"\n",
              "            title=\"Convert this dataframe to an interactive table.\"\n",
              "            style=\"display:none;\">\n",
              "\n",
              "  <svg xmlns=\"http://www.w3.org/2000/svg\" height=\"24px\" viewBox=\"0 -960 960 960\">\n",
              "    <path d=\"M120-120v-720h720v720H120Zm60-500h600v-160H180v160Zm220 220h160v-160H400v160Zm0 220h160v-160H400v160ZM180-400h160v-160H180v160Zm440 0h160v-160H620v160ZM180-180h160v-160H180v160Zm440 0h160v-160H620v160Z\"/>\n",
              "  </svg>\n",
              "    </button>\n",
              "\n",
              "  <style>\n",
              "    .colab-df-container {\n",
              "      display:flex;\n",
              "      gap: 12px;\n",
              "    }\n",
              "\n",
              "    .colab-df-convert {\n",
              "      background-color: #E8F0FE;\n",
              "      border: none;\n",
              "      border-radius: 50%;\n",
              "      cursor: pointer;\n",
              "      display: none;\n",
              "      fill: #1967D2;\n",
              "      height: 32px;\n",
              "      padding: 0 0 0 0;\n",
              "      width: 32px;\n",
              "    }\n",
              "\n",
              "    .colab-df-convert:hover {\n",
              "      background-color: #E2EBFA;\n",
              "      box-shadow: 0px 1px 2px rgba(60, 64, 67, 0.3), 0px 1px 3px 1px rgba(60, 64, 67, 0.15);\n",
              "      fill: #174EA6;\n",
              "    }\n",
              "\n",
              "    .colab-df-buttons div {\n",
              "      margin-bottom: 4px;\n",
              "    }\n",
              "\n",
              "    [theme=dark] .colab-df-convert {\n",
              "      background-color: #3B4455;\n",
              "      fill: #D2E3FC;\n",
              "    }\n",
              "\n",
              "    [theme=dark] .colab-df-convert:hover {\n",
              "      background-color: #434B5C;\n",
              "      box-shadow: 0px 1px 3px 1px rgba(0, 0, 0, 0.15);\n",
              "      filter: drop-shadow(0px 1px 2px rgba(0, 0, 0, 0.3));\n",
              "      fill: #FFFFFF;\n",
              "    }\n",
              "  </style>\n",
              "\n",
              "    <script>\n",
              "      const buttonEl =\n",
              "        document.querySelector('#df-2eeb5446-e698-4b9c-a706-b723c7b0d2a9 button.colab-df-convert');\n",
              "      buttonEl.style.display =\n",
              "        google.colab.kernel.accessAllowed ? 'block' : 'none';\n",
              "\n",
              "      async function convertToInteractive(key) {\n",
              "        const element = document.querySelector('#df-2eeb5446-e698-4b9c-a706-b723c7b0d2a9');\n",
              "        const dataTable =\n",
              "          await google.colab.kernel.invokeFunction('convertToInteractive',\n",
              "                                                    [key], {});\n",
              "        if (!dataTable) return;\n",
              "\n",
              "        const docLinkHtml = 'Like what you see? Visit the ' +\n",
              "          '<a target=\"_blank\" href=https://colab.research.google.com/notebooks/data_table.ipynb>data table notebook</a>'\n",
              "          + ' to learn more about interactive tables.';\n",
              "        element.innerHTML = '';\n",
              "        dataTable['output_type'] = 'display_data';\n",
              "        await google.colab.output.renderOutput(dataTable, element);\n",
              "        const docLink = document.createElement('div');\n",
              "        docLink.innerHTML = docLinkHtml;\n",
              "        element.appendChild(docLink);\n",
              "      }\n",
              "    </script>\n",
              "  </div>\n",
              "\n",
              "\n",
              "<div id=\"df-6de0939e-d4df-4b8f-9abc-10d0559cfc7a\">\n",
              "  <button class=\"colab-df-quickchart\" onclick=\"quickchart('df-6de0939e-d4df-4b8f-9abc-10d0559cfc7a')\"\n",
              "            title=\"Suggest charts.\"\n",
              "            style=\"display:none;\">\n",
              "\n",
              "<svg xmlns=\"http://www.w3.org/2000/svg\" height=\"24px\"viewBox=\"0 0 24 24\"\n",
              "     width=\"24px\">\n",
              "    <g>\n",
              "        <path d=\"M19 3H5c-1.1 0-2 .9-2 2v14c0 1.1.9 2 2 2h14c1.1 0 2-.9 2-2V5c0-1.1-.9-2-2-2zM9 17H7v-7h2v7zm4 0h-2V7h2v10zm4 0h-2v-4h2v4z\"/>\n",
              "    </g>\n",
              "</svg>\n",
              "  </button>\n",
              "\n",
              "<style>\n",
              "  .colab-df-quickchart {\n",
              "      --bg-color: #E8F0FE;\n",
              "      --fill-color: #1967D2;\n",
              "      --hover-bg-color: #E2EBFA;\n",
              "      --hover-fill-color: #174EA6;\n",
              "      --disabled-fill-color: #AAA;\n",
              "      --disabled-bg-color: #DDD;\n",
              "  }\n",
              "\n",
              "  [theme=dark] .colab-df-quickchart {\n",
              "      --bg-color: #3B4455;\n",
              "      --fill-color: #D2E3FC;\n",
              "      --hover-bg-color: #434B5C;\n",
              "      --hover-fill-color: #FFFFFF;\n",
              "      --disabled-bg-color: #3B4455;\n",
              "      --disabled-fill-color: #666;\n",
              "  }\n",
              "\n",
              "  .colab-df-quickchart {\n",
              "    background-color: var(--bg-color);\n",
              "    border: none;\n",
              "    border-radius: 50%;\n",
              "    cursor: pointer;\n",
              "    display: none;\n",
              "    fill: var(--fill-color);\n",
              "    height: 32px;\n",
              "    padding: 0;\n",
              "    width: 32px;\n",
              "  }\n",
              "\n",
              "  .colab-df-quickchart:hover {\n",
              "    background-color: var(--hover-bg-color);\n",
              "    box-shadow: 0 1px 2px rgba(60, 64, 67, 0.3), 0 1px 3px 1px rgba(60, 64, 67, 0.15);\n",
              "    fill: var(--button-hover-fill-color);\n",
              "  }\n",
              "\n",
              "  .colab-df-quickchart-complete:disabled,\n",
              "  .colab-df-quickchart-complete:disabled:hover {\n",
              "    background-color: var(--disabled-bg-color);\n",
              "    fill: var(--disabled-fill-color);\n",
              "    box-shadow: none;\n",
              "  }\n",
              "\n",
              "  .colab-df-spinner {\n",
              "    border: 2px solid var(--fill-color);\n",
              "    border-color: transparent;\n",
              "    border-bottom-color: var(--fill-color);\n",
              "    animation:\n",
              "      spin 1s steps(1) infinite;\n",
              "  }\n",
              "\n",
              "  @keyframes spin {\n",
              "    0% {\n",
              "      border-color: transparent;\n",
              "      border-bottom-color: var(--fill-color);\n",
              "      border-left-color: var(--fill-color);\n",
              "    }\n",
              "    20% {\n",
              "      border-color: transparent;\n",
              "      border-left-color: var(--fill-color);\n",
              "      border-top-color: var(--fill-color);\n",
              "    }\n",
              "    30% {\n",
              "      border-color: transparent;\n",
              "      border-left-color: var(--fill-color);\n",
              "      border-top-color: var(--fill-color);\n",
              "      border-right-color: var(--fill-color);\n",
              "    }\n",
              "    40% {\n",
              "      border-color: transparent;\n",
              "      border-right-color: var(--fill-color);\n",
              "      border-top-color: var(--fill-color);\n",
              "    }\n",
              "    60% {\n",
              "      border-color: transparent;\n",
              "      border-right-color: var(--fill-color);\n",
              "    }\n",
              "    80% {\n",
              "      border-color: transparent;\n",
              "      border-right-color: var(--fill-color);\n",
              "      border-bottom-color: var(--fill-color);\n",
              "    }\n",
              "    90% {\n",
              "      border-color: transparent;\n",
              "      border-bottom-color: var(--fill-color);\n",
              "    }\n",
              "  }\n",
              "</style>\n",
              "\n",
              "  <script>\n",
              "    async function quickchart(key) {\n",
              "      const quickchartButtonEl =\n",
              "        document.querySelector('#' + key + ' button');\n",
              "      quickchartButtonEl.disabled = true;  // To prevent multiple clicks.\n",
              "      quickchartButtonEl.classList.add('colab-df-spinner');\n",
              "      try {\n",
              "        const charts = await google.colab.kernel.invokeFunction(\n",
              "            'suggestCharts', [key], {});\n",
              "      } catch (error) {\n",
              "        console.error('Error during call to suggestCharts:', error);\n",
              "      }\n",
              "      quickchartButtonEl.classList.remove('colab-df-spinner');\n",
              "      quickchartButtonEl.classList.add('colab-df-quickchart-complete');\n",
              "    }\n",
              "    (() => {\n",
              "      let quickchartButtonEl =\n",
              "        document.querySelector('#df-6de0939e-d4df-4b8f-9abc-10d0559cfc7a button');\n",
              "      quickchartButtonEl.style.display =\n",
              "        google.colab.kernel.accessAllowed ? 'block' : 'none';\n",
              "    })();\n",
              "  </script>\n",
              "</div>\n",
              "    </div>\n",
              "  </div>\n"
            ]
          },
          "metadata": {},
          "execution_count": 5
        }
      ],
      "source": [
        "data.head()"
      ]
    },
    {
      "cell_type": "markdown",
      "metadata": {
        "id": "OntQcba_GJSL"
      },
      "source": [
        "- Se hace una descripción de los datos para destacar las variables categóricas o numéricas:"
      ]
    },
    {
      "cell_type": "code",
      "execution_count": null,
      "metadata": {
        "colab": {
          "base_uri": "https://localhost:8080/"
        },
        "id": "aEEpJr7gGdqP",
        "outputId": "b5762d52-710a-48c9-fa86-1fbe6cb42d3d"
      },
      "outputs": [
        {
          "output_type": "execute_result",
          "data": {
            "text/plain": [
              "Textos_espanol    object\n",
              "sdg                int64\n",
              "dtype: object"
            ]
          },
          "metadata": {},
          "execution_count": 6
        }
      ],
      "source": [
        "data.dtypes"
      ]
    },
    {
      "cell_type": "markdown",
      "metadata": {
        "id": "IgM6heOFGjlK"
      },
      "source": [
        "Note que en efecto todas las sentencias, como se espera, son strings y son clasificadas en la etiqueta numerica sdg."
      ]
    },
    {
      "cell_type": "markdown",
      "metadata": {
        "id": "uu4di8IRG--H"
      },
      "source": [
        "- Describamos la variable numerica, sdg, con sus caracteristicas estadisticas para tener una observacion mas profunda de esta variable:"
      ]
    },
    {
      "cell_type": "code",
      "execution_count": null,
      "metadata": {
        "colab": {
          "base_uri": "https://localhost:8080/"
        },
        "id": "T4RDXW32GyRN",
        "outputId": "9237b554-269b-40a0-c31a-6cdbe47a2300"
      },
      "outputs": [
        {
          "output_type": "execute_result",
          "data": {
            "text/plain": [
              "count    3000.000000\n",
              "mean        9.666667\n",
              "std         4.497662\n",
              "min         6.000000\n",
              "25%         6.000000\n",
              "50%         7.000000\n",
              "75%        16.000000\n",
              "max        16.000000\n",
              "Name: sdg, dtype: float64"
            ]
          },
          "metadata": {},
          "execution_count": 7
        }
      ],
      "source": [
        "data['sdg'].describe()"
      ]
    },
    {
      "cell_type": "markdown",
      "metadata": {
        "id": "ogg_G7YiHPrR"
      },
      "source": [
        "Note que la etiqueta mas presente en el archivo es 16 y la menos presente es 6, informacion muy importante a tener en cuenta mas adelante."
      ]
    },
    {
      "cell_type": "markdown",
      "metadata": {
        "id": "bCHka886MZu3"
      },
      "source": [
        "- Para entender las sentencias, se realizan 'estadísticas descriptivas' para poder obtener un análisis de los textos:"
      ]
    },
    {
      "cell_type": "code",
      "execution_count": null,
      "metadata": {
        "colab": {
          "base_uri": "https://localhost:8080/"
        },
        "id": "57yI4LLPNAdb",
        "outputId": "7518b201-fcdb-4bc0-f263-05f0104c705f"
      },
      "outputs": [
        {
          "output_type": "stream",
          "name": "stdout",
          "text": [
            "Número de palabras por oración:\n",
            "0       103\n",
            "1       142\n",
            "2        89\n",
            "3       116\n",
            "4       111\n",
            "       ... \n",
            "2995    159\n",
            "2996    140\n",
            "2997    122\n",
            "2998    151\n",
            "2999    102\n",
            "Name: Num_Palabras, Length: 3000, dtype: int64\n",
            "\n",
            "Longitud promedio (palabras) de las oraciones: 119.54\n",
            "Longitud máxima (palabras) de las oraciones: 266\n",
            "Longitud mínima (palabras) de las oraciones: 24\n"
          ]
        }
      ],
      "source": [
        "# Número de palabras por oración\n",
        "data['Num_Palabras'] = data['Textos_espanol'].apply(lambda text: len(text.split(' ')))\n",
        "print(\"Número de palabras por oración:\")\n",
        "print(data['Num_Palabras'])\n",
        "\n",
        "# Longitud promedio de las oraciones\n",
        "promedio_longitud = data['Num_Palabras'].mean()\n",
        "print(f\"\\nLongitud promedio (palabras) de las oraciones: {round(promedio_longitud, 2)}\")\n",
        "\n",
        "# Longitud máxima y mínima de las oraciones\n",
        "longitud_maxima = data['Num_Palabras'].max()\n",
        "longitud_minima = data['Num_Palabras'].min()\n",
        "print(f\"Longitud máxima (palabras) de las oraciones: {round(longitud_maxima, 2)}\")\n",
        "print(f\"Longitud mínima (palabras) de las oraciones: {longitud_minima}\")\n",
        "\n",
        "# Eliminar la columna 'Num_Palabras'\n",
        "data = data.drop(columns=['Num_Palabras'])"
      ]
    },
    {
      "cell_type": "markdown",
      "metadata": {
        "id": "93IZte-dOyHr"
      },
      "source": [
        "##2.2 Calidad de datos"
      ]
    },
    {
      "cell_type": "markdown",
      "metadata": {
        "id": "Ho6EeJCKO6la"
      },
      "source": [
        "###2.2.1 Unicidad\n",
        "Verifiquemos el numero de filas duplicadas, es decir, el numero de filas que tienen exactamente los mismos valores en las mismas columnas"
      ]
    },
    {
      "cell_type": "code",
      "execution_count": null,
      "metadata": {
        "colab": {
          "base_uri": "https://localhost:8080/"
        },
        "id": "fHDJZpr1PCSj",
        "outputId": "51f6e2f5-59b6-4e4e-e11b-ca4efb1259b8"
      },
      "outputs": [
        {
          "output_type": "execute_result",
          "data": {
            "text/plain": [
              "0"
            ]
          },
          "metadata": {},
          "execution_count": 9
        }
      ],
      "source": [
        "data.duplicated().sum()"
      ]
    },
    {
      "cell_type": "markdown",
      "metadata": {
        "id": "dHeXM_llPExy"
      },
      "source": [
        "¡Excelente! no hay filas duplicadas, por lo cual no tenemos necesidad de tomar medidas al respecto."
      ]
    },
    {
      "cell_type": "markdown",
      "metadata": {
        "id": "Up2h26IoPRNC"
      },
      "source": [
        "###2.2.2 Completitud\n",
        "Note que la completitud se muestra en porcentaje de valores no nulos, es decir, una completitud de 100% indica que no hay ningun valor nulo en esa columna"
      ]
    },
    {
      "cell_type": "code",
      "execution_count": null,
      "metadata": {
        "colab": {
          "base_uri": "https://localhost:8080/"
        },
        "id": "KLAyxzwOPVgb",
        "outputId": "97d42a2a-dc14-49dd-98a1-08a226f4e45b"
      },
      "outputs": [
        {
          "output_type": "stream",
          "name": "stdout",
          "text": [
            "Textos_espanol    100.0\n",
            "sdg               100.0\n",
            "dtype: float64\n"
          ]
        }
      ],
      "source": [
        "completitud = data.count() / len(data) * 100\n",
        "print(completitud)"
      ]
    },
    {
      "cell_type": "markdown",
      "metadata": {
        "id": "WI5rBG_kPduu"
      },
      "source": [
        "¡Excelente! no hay valores nulos, todas las filas estan completas, por lo cual no tenemos necesidad de tomar medidas al respecto. Lo cual tiene mucho sentido, porque si son textos no podemos tener una fila sin ninguna palabra o sin etiqueta."
      ]
    },
    {
      "cell_type": "markdown",
      "metadata": {
        "id": "ciSdibUjP2fl"
      },
      "source": [
        "###2.2.3 Consistencia"
      ]
    },
    {
      "cell_type": "markdown",
      "metadata": {
        "id": "1kGU8vejTD8Y"
      },
      "source": [
        "Hay muchos errores de inconsitencia en los datos puesto que el Negocio ha realizado una toma de datos con valores mal formateados. Por ejemplo, hay muchos textos que en las tildes el formato esta mal declarado y aparece asi: \"provocarÃ¡ una reducciÃ³n del caudal de los rÃ\\xados que estÃ¡n\". Ademas, tambien hay muchas palabras que tienen muchos codigos y elementos que no tienen sentido ni aportan valor, como por ejemplo:  \"El Tribunal de ApelaciÃ\\x83Â³n de InmigraciÃ\\x83Â³n\". Finalmente, hay muchas sentencias en idioma ingles, se esperaba que todas las sentencias esten en español.\n",
        "\n",
        "- Decisiones tomadas:\n",
        "  - Dado que poner un encoding no sirve para arreglar estos errores, se pueden solucionar manualmente ya que por ejemplo Ã³ representa una tilde en la o, Ã¡ representa una tilde en la a y asi sucesivamente.\n",
        "\n",
        "  - Las palabras que tienen muchos elementos o simbolos desconocidos seran eliminadas o no tenidas en cuenta para el modelo\n",
        "  \n",
        "  - Para las sentencias en ingles se ha tomado la decision de DECISIOOOOOOOOOOON INGLEEEES."
      ]
    },
    {
      "cell_type": "markdown",
      "metadata": {
        "id": "2n6OhN40P-8v"
      },
      "source": [
        "###2.2.4 Validez\n",
        "Miremos que tan validos son los valores en la columnas, para eso, tenemos que imprimir los valores unicos de cada columna y comprobar que resultados atipicos obtenemos"
      ]
    },
    {
      "cell_type": "code",
      "execution_count": null,
      "metadata": {
        "colab": {
          "base_uri": "https://localhost:8080/"
        },
        "id": "GaI2oxc_QBPn",
        "outputId": "b96b0374-f6ec-4f28-9150-cb8993e9928a"
      },
      "outputs": [
        {
          "output_type": "stream",
          "name": "stdout",
          "text": [
            "Valores únicos de Textos_espanol: ['Es importante destacar que, en un año de sequía, se espera que disminuyan todos los aportes, pero que aumente la demanda de agua de los cultivos y de la vegetación, lo que provocará una reducción del caudal de los ríos que están conectados hidrológicamente con el acuífero, así como una menor disponibilidad de agua para otros ecosistemas dependientes de las aguas subterráneas. Estas externalidades espaciales pueden incluir el agotamiento de los cursos de agua y el descenso del nivel freático local. Por ejemplo, el bombeo continuo del pozo B provocará el agotamiento de los cursos de agua y la reducción de su caudal.'\n",
            " 'Hay una gran cantidad de literatura sobre Australia en esta área que sugiere fuertemente que el comercio de agua, especialmente en los mercados a corto plazo, no solo permite mitigar sustancialmente los impactos de las sequías en la agricultura, sino que ahora los agricultores lo consideran como un medio útil y básico. instrumento en su caja de herramientas de gestión de riesgos. Los desafíos políticos para Australia en el área de la regulación del agua en la agricultura están más en las áreas de cómo ajustar el sistema existente y los problemas de solidez relacionados con el cambio climático. Si bien el ejemplo australiano ilustra las posibles ganancias de eficiencia que surgen del comercio de agua, especialmente para gestionar la escasez de agua en circunstancias de sequía, la elección de un instrumento siempre debe considerar la gama completa de costos y beneficios.'\n",
            " 'Los procesos de descentralización, emprendidos para una serie de actividades que antes realizaba el gobierno central, llevaron a modificaciones importantes en la forma en que se administraba y operaba el sector del agua. Las únicas excepciones a esta tendencia fueron Azerbaiyán, Bielorrusia y Turkmenistán, donde la gestión del sector del agua ha permanecido fuertemente centralizada. En Azerbaiyán, por ejemplo, la empresa nacional AZERSU JSC suministra agua al 65 % de la población, con un 10 % proporcionado por pequeños operadores privados y un 25 % por los propios hogares.'\n",
            " ...\n",
            " 'En este libro, el autor argumenta que el activismo judicial dirigido a la protección de los derechos humanos y la dignidad y el derecho al debido proceso es un elemento esencial del estado de derecho democrático en una democracia constitucional en lugar de ser una “extralimitación judicial”. Dicho de otra manera, aquí se sostiene que la protección de los derechos humanos, especialmente de los vulnerables y marginados, a través de la toma de decisiones judiciales en una democracia constitucional no equivale a que los jueces “hagan leyes” (en oposición a interpretar la ley). Más bien representa a los tribunales interpretando y explicando lo que la constitución ordena que el derecho estatutario y consuetudinario es o debe ser si aún no lo es.'\n",
            " '* Facultad de Derecho, Universidad de Manchester. 1 SW v Secretary of State for the Home Department (Adjudicatorâ€™s questions) Somalia [2005] UKIAT00037, apartado 20. El Tribunal de ApelaciÃ³n de InmigraciÃ³n, el tribunal judicial independiente del Reino Unido responsable de resolver los recursos contra las decisiones iniciales de asilo de la DirecciÃ³n de InmigraciÃ³n y Nacionalidad, pasÃ³ a denominarse Tribunal de Asilo e InmigraciÃ³n en abril de 2005. Véase además R. Thomas, \"Evaluating Tribunal Adjudication: Administrative Justice and Asylum Appeals\", Legal Studies 25/3 (2005) pp. 462-498. La mayor parte de las resoluciones del Tribunal, aunque no todas, a las que se hace referencia a continuación pueden consultarse en su sitio web . 2 C. Blake, â€oeJudging Asylum and Immigration Claims: The Human Rights Act and the Refugee Convention\", Public Money & Management 21/3 (2001) pp. 25, 27. Evaluación de la credibilidad de las solicitudes de asilo: EU and UK Approaches Examined '\n",
            " 'Este caso 1 constituye el primer pronunciamiento de la Corte Internacional de Justicia (CIJ) sobre la obligación de extraditar o juzgar ( aut dedere aut judicare ) en derecho internacional. Es el segundo caso contencioso en el que la CIJ considera que el país demandado ha incumplido las obligaciones que le incumben en virtud de un convenio de derechos humanos. La CIJ amplió el corpus de normas que ha reconocido formalmente como normas imperativas ( jus cogens ) y también reforzó el principio de que los ex jefes de Estado están sujetos a la jurisdicción universal por violaciones graves del derecho internacional.']\n",
            "\n",
            "Rango de valores de sdg: [6, 16]\n"
          ]
        }
      ],
      "source": [
        "# Mostrar los valores únicos de las columnas categóricas\n",
        "for col in data.select_dtypes(include=['object']):\n",
        "    print(f\"Valores únicos de {col}: {data[col].unique()}\")\n",
        "\n",
        "# Mostrar el rango de valores de las columnas numéricas\n",
        "for col in data.select_dtypes(include=['float64', 'int64']):\n",
        "    print(f\"\\nRango de valores de {col}: [{data[col].min()}, {data[col].max()}]\")"
      ]
    },
    {
      "cell_type": "markdown",
      "metadata": {
        "id": "zrSXlAO8QPcy"
      },
      "source": [
        "Note que no hay errores de invalidez puesto que el rango de valores esperados para las etiquetas es correcto, no se sale de lo definido en el proyecto y todos los textos son strings."
      ]
    },
    {
      "cell_type": "markdown",
      "metadata": {
        "id": "6OOlWRc-VNYo"
      },
      "source": [
        "##2.3 Limpieza y preparacion de datos\n",
        "Es necesario que limpiemos y preparemos los datos antes de comenzar con el modelo. Para empezar, porque no todos los datos vienen en un formato perfecto, si no que tenemos que considerar el idioma y los errores del texto para asi modificarlo y dejarlo ideal para ingresarlo en el modelo."
      ]
    },
    {
      "cell_type": "markdown",
      "metadata": {
        "id": "pyzp7bZpqdDl"
      },
      "source": [
        "###2.3.1 Limpieza de datos"
      ]
    },
    {
      "cell_type": "markdown",
      "metadata": {
        "id": "nrjjgDbVVYU7"
      },
      "source": [
        "- **Cambios en consistencia:** Vamos a cambiar el error en las tildes antes mencionada de manera manual para no perder tantas palabras que pueden representar un determinismo muy importante en el modelo:"
      ]
    },
    {
      "cell_type": "code",
      "execution_count": null,
      "metadata": {
        "colab": {
          "base_uri": "https://localhost:8080/"
        },
        "id": "3i2oJ4rhV_CN",
        "outputId": "f22c9dc2-2efd-4161-9bf3-fe586d08be9e"
      },
      "outputs": [
        {
          "output_type": "stream",
          "name": "stdout",
          "text": [
            "Los acuerdos y arreglos varÃan en tÃ©rminos de cobertura geogrÃ¡fica -abarcando todas las aguas compartidas por las partes contratantes o sÃ³lo cuencas especÃficas-, asÃ como en tÃ©rminos de alcance. Algunos ejemplos son las comisiones mixtas creadas entre Croacia y Bosnia y Herzegovina, Croacia y Eslovenia, Croacia y Hungría, Croacia y Montenegro, Serbia y Rumanía, Serbia y Hungría y Rumanía y Hungría. En 2005 se creó el Comité de la Cuenca Hidrográfica del Lago Ohrid.\n"
          ]
        }
      ],
      "source": [
        "# Primero miremos como esta una fila antes de los cambios a realizar\n",
        "valor = data.at[293, 'Textos_espanol']\n",
        "print(valor)"
      ]
    },
    {
      "cell_type": "code",
      "execution_count": null,
      "metadata": {
        "colab": {
          "base_uri": "https://localhost:8080/"
        },
        "id": "n_aRXqVrXLz_",
        "outputId": "f9ab91b6-32a8-4f77-dc51-5ee9e66a6e89"
      },
      "outputs": [
        {
          "output_type": "stream",
          "name": "stdout",
          "text": [
            "Los acuerdos y arreglos varian en terminos de cobertura geografica -abarcando todas las aguas compartidas por las partes contratantes o solo cuencas especificas-, asi como en terminos de alcance. Algunos ejemplos son las comisiones mixtas creadas entre Croacia y Bosnia y Herzegovina, Croacia y Eslovenia, Croacia y Hungría, Croacia y Montenegro, Serbia y Rumanía, Serbia y Hungría y Rumanía y Hungría. En 2005 se creó el Comité de la Cuenca Hidrográfica del Lago Ohrid.\n"
          ]
        }
      ],
      "source": [
        "# Ahora hagamos el cambio manual de las tildes en todas las filas y miremos el resultado\n",
        "\n",
        "data['Textos_espanol'] = data['Textos_espanol'].str.replace('Ã¡', 'a')\n",
        "data['Textos_espanol'] = data['Textos_espanol'].str.replace('Ã©', 'e')\n",
        "data['Textos_espanol'] = data['Textos_espanol'].str.replace('Ã³', 'o')\n",
        "# Tambien realicemos un cambio para que se pueda detectar la ñ\n",
        "data['Textos_espanol'] = data['Textos_espanol'].str.replace('Ã±', 'ñ')\n",
        "data['Textos_espanol'] = data['Textos_espanol'].str.replace('Ã', 'i')\n",
        "\n",
        "\n",
        "\n",
        "\n",
        "# Ahora veamos como esta la fila actualizada\n",
        "valor = data.at[293, 'Textos_espanol']\n",
        "print(valor)\n"
      ]
    },
    {
      "cell_type": "code",
      "execution_count": null,
      "metadata": {
        "colab": {
          "base_uri": "https://localhost:8080/",
          "height": 53
        },
        "id": "VQXGnvZxZubW",
        "outputId": "fdf4612d-c340-4651-9f7c-661e45ad5c84"
      },
      "outputs": [
        {
          "output_type": "execute_result",
          "data": {
            "text/plain": [
              "Empty DataFrame\n",
              "Columns: [Textos_espanol]\n",
              "Index: []"
            ],
            "text/html": [
              "\n",
              "  <div id=\"df-cad7796f-2526-4eaf-8527-0604f8ea65fa\" class=\"colab-df-container\">\n",
              "    <div>\n",
              "<style scoped>\n",
              "    .dataframe tbody tr th:only-of-type {\n",
              "        vertical-align: middle;\n",
              "    }\n",
              "\n",
              "    .dataframe tbody tr th {\n",
              "        vertical-align: top;\n",
              "    }\n",
              "\n",
              "    .dataframe thead th {\n",
              "        text-align: right;\n",
              "    }\n",
              "</style>\n",
              "<table border=\"1\" class=\"dataframe\">\n",
              "  <thead>\n",
              "    <tr style=\"text-align: right;\">\n",
              "      <th></th>\n",
              "      <th>Textos_espanol</th>\n",
              "    </tr>\n",
              "  </thead>\n",
              "  <tbody>\n",
              "  </tbody>\n",
              "</table>\n",
              "</div>\n",
              "    <div class=\"colab-df-buttons\">\n",
              "\n",
              "  <div class=\"colab-df-container\">\n",
              "    <button class=\"colab-df-convert\" onclick=\"convertToInteractive('df-cad7796f-2526-4eaf-8527-0604f8ea65fa')\"\n",
              "            title=\"Convert this dataframe to an interactive table.\"\n",
              "            style=\"display:none;\">\n",
              "\n",
              "  <svg xmlns=\"http://www.w3.org/2000/svg\" height=\"24px\" viewBox=\"0 -960 960 960\">\n",
              "    <path d=\"M120-120v-720h720v720H120Zm60-500h600v-160H180v160Zm220 220h160v-160H400v160Zm0 220h160v-160H400v160ZM180-400h160v-160H180v160Zm440 0h160v-160H620v160ZM180-180h160v-160H180v160Zm440 0h160v-160H620v160Z\"/>\n",
              "  </svg>\n",
              "    </button>\n",
              "\n",
              "  <style>\n",
              "    .colab-df-container {\n",
              "      display:flex;\n",
              "      gap: 12px;\n",
              "    }\n",
              "\n",
              "    .colab-df-convert {\n",
              "      background-color: #E8F0FE;\n",
              "      border: none;\n",
              "      border-radius: 50%;\n",
              "      cursor: pointer;\n",
              "      display: none;\n",
              "      fill: #1967D2;\n",
              "      height: 32px;\n",
              "      padding: 0 0 0 0;\n",
              "      width: 32px;\n",
              "    }\n",
              "\n",
              "    .colab-df-convert:hover {\n",
              "      background-color: #E2EBFA;\n",
              "      box-shadow: 0px 1px 2px rgba(60, 64, 67, 0.3), 0px 1px 3px 1px rgba(60, 64, 67, 0.15);\n",
              "      fill: #174EA6;\n",
              "    }\n",
              "\n",
              "    .colab-df-buttons div {\n",
              "      margin-bottom: 4px;\n",
              "    }\n",
              "\n",
              "    [theme=dark] .colab-df-convert {\n",
              "      background-color: #3B4455;\n",
              "      fill: #D2E3FC;\n",
              "    }\n",
              "\n",
              "    [theme=dark] .colab-df-convert:hover {\n",
              "      background-color: #434B5C;\n",
              "      box-shadow: 0px 1px 3px 1px rgba(0, 0, 0, 0.15);\n",
              "      filter: drop-shadow(0px 1px 2px rgba(0, 0, 0, 0.3));\n",
              "      fill: #FFFFFF;\n",
              "    }\n",
              "  </style>\n",
              "\n",
              "    <script>\n",
              "      const buttonEl =\n",
              "        document.querySelector('#df-cad7796f-2526-4eaf-8527-0604f8ea65fa button.colab-df-convert');\n",
              "      buttonEl.style.display =\n",
              "        google.colab.kernel.accessAllowed ? 'block' : 'none';\n",
              "\n",
              "      async function convertToInteractive(key) {\n",
              "        const element = document.querySelector('#df-cad7796f-2526-4eaf-8527-0604f8ea65fa');\n",
              "        const dataTable =\n",
              "          await google.colab.kernel.invokeFunction('convertToInteractive',\n",
              "                                                    [key], {});\n",
              "        if (!dataTable) return;\n",
              "\n",
              "        const docLinkHtml = 'Like what you see? Visit the ' +\n",
              "          '<a target=\"_blank\" href=https://colab.research.google.com/notebooks/data_table.ipynb>data table notebook</a>'\n",
              "          + ' to learn more about interactive tables.';\n",
              "        element.innerHTML = '';\n",
              "        dataTable['output_type'] = 'display_data';\n",
              "        await google.colab.output.renderOutput(dataTable, element);\n",
              "        const docLink = document.createElement('div');\n",
              "        docLink.innerHTML = docLinkHtml;\n",
              "        element.appendChild(docLink);\n",
              "      }\n",
              "    </script>\n",
              "  </div>\n",
              "\n",
              "    </div>\n",
              "  </div>\n"
            ]
          },
          "metadata": {},
          "execution_count": 14
        }
      ],
      "source": [
        "# Ademas, podemos evidenciar que el texto ya no contiene el caracter 'Ã'\n",
        "resultados = data[data['Textos_espanol'].str.contains('Ã', case=False, na=False)].drop(columns=['sdg'])\n",
        "resultados"
      ]
    },
    {
      "cell_type": "markdown",
      "metadata": {
        "id": "T2-h6mnmb-I1"
      },
      "source": [
        "- **conversion a texto plano:** es necesario eliminar los caracteres no deseados y darle un buen formato a los textos encontrados para que el modelo puedo aproximarse de mejor manera al resultado deseado. Para esto, haremos uso de la libreria python regular expresion ***(regex)***."
      ]
    },
    {
      "cell_type": "code",
      "execution_count": null,
      "metadata": {
        "colab": {
          "base_uri": "https://localhost:8080/"
        },
        "id": "MVX17eLPcVCm",
        "outputId": "44e43147-8ee7-4d87-dcfe-757fb69b4597"
      },
      "outputs": [
        {
          "output_type": "stream",
          "name": "stdout",
          "text": [
            "priii ñprueba eliminar stop words español [ NUM ] [ NUM ] [ NUM ] [ NUM ] [ NUM ]\n"
          ]
        }
      ],
      "source": [
        "# Definimos el preprocessador para transformar los textos y limpiarlos.\n",
        "def preprocessor(texto):\n",
        "\n",
        "    # Primero convertimos todas las palabras a lowercase y quitamos los simbolos\n",
        "    texto = re.sub('[\\W]+', ' ', texto.lower())\n",
        "\n",
        "    # Reemplazamos la \"ñ\" con un marcador temporal para que se tenga en cuenta y no se borre\n",
        "    texto = texto.replace(\"ñ\", \"TEMP_N\")\n",
        "\n",
        "    # Eliminamos tildes o acentos de las letras\n",
        "    texto = unidecode(texto)\n",
        "\n",
        "    # Restauramos la \"ñ\" desde el marcador temporal\n",
        "    texto = texto.replace(\"TEMP_N\", \"ñ\")\n",
        "\n",
        "    # Reemplazar los valores numéricos por un token específico (por ejemplo, \"[NUM]\")\n",
        "    texto = re.sub(r'\\d+(\\.\\d+)?', '[NUM]', texto)\n",
        "\n",
        "    # Ahora quitamos las stop words que nos otorga la libreria spacy en español\n",
        "    doc = nlp(texto)\n",
        "    texto = ' '.join(token.text for token in doc if not token.is_stop)\n",
        "\n",
        "    return texto\n",
        "\n",
        "print(preprocessor('Esto -es *** (una) \"!pRííí\" ñPRuebA!)) :) +) ????*^&(#$%%!@#!@#^&*^()) de como eliminar stop words en español. 123123 131.2 1,1'))"
      ]
    },
    {
      "cell_type": "markdown",
      "metadata": {
        "id": "JUj77H3GoVrB"
      },
      "source": [
        "- Ahora aplicamos las funciones del preprocessador a todos los textos del dataframe:"
      ]
    },
    {
      "cell_type": "code",
      "execution_count": null,
      "metadata": {
        "id": "Kom7WeRxoawD"
      },
      "outputs": [],
      "source": [
        "# Aplicamos la eliminacion del ruido\n",
        "data['Textos_espanol'] = data['Textos_espanol'].apply(preprocessor)"
      ]
    },
    {
      "cell_type": "code",
      "execution_count": null,
      "metadata": {
        "colab": {
          "base_uri": "https://localhost:8080/",
          "height": 206
        },
        "id": "dYexy0M2ou_S",
        "outputId": "76ffdd17-aab5-4110-f2f2-d0f1f1cfb5dd"
      },
      "outputs": [
        {
          "output_type": "execute_result",
          "data": {
            "text/plain": [
              "                                      Textos_espanol  sdg\n",
              "0  importante destacar año sequia espera disminuy...    6\n",
              "1  cantidad literatura australia area sugiere fue...    6\n",
              "2  procesos descentralizacion emprendidos serie a...    6\n",
              "3  consecuencias sustanciales calidad agua especi...    6\n",
              "4  funcion beneficio incorpora parametros afectan...    6"
            ],
            "text/html": [
              "\n",
              "  <div id=\"df-435d4065-0a41-48ff-93f8-9eb00160cd51\" class=\"colab-df-container\">\n",
              "    <div>\n",
              "<style scoped>\n",
              "    .dataframe tbody tr th:only-of-type {\n",
              "        vertical-align: middle;\n",
              "    }\n",
              "\n",
              "    .dataframe tbody tr th {\n",
              "        vertical-align: top;\n",
              "    }\n",
              "\n",
              "    .dataframe thead th {\n",
              "        text-align: right;\n",
              "    }\n",
              "</style>\n",
              "<table border=\"1\" class=\"dataframe\">\n",
              "  <thead>\n",
              "    <tr style=\"text-align: right;\">\n",
              "      <th></th>\n",
              "      <th>Textos_espanol</th>\n",
              "      <th>sdg</th>\n",
              "    </tr>\n",
              "  </thead>\n",
              "  <tbody>\n",
              "    <tr>\n",
              "      <th>0</th>\n",
              "      <td>importante destacar año sequia espera disminuy...</td>\n",
              "      <td>6</td>\n",
              "    </tr>\n",
              "    <tr>\n",
              "      <th>1</th>\n",
              "      <td>cantidad literatura australia area sugiere fue...</td>\n",
              "      <td>6</td>\n",
              "    </tr>\n",
              "    <tr>\n",
              "      <th>2</th>\n",
              "      <td>procesos descentralizacion emprendidos serie a...</td>\n",
              "      <td>6</td>\n",
              "    </tr>\n",
              "    <tr>\n",
              "      <th>3</th>\n",
              "      <td>consecuencias sustanciales calidad agua especi...</td>\n",
              "      <td>6</td>\n",
              "    </tr>\n",
              "    <tr>\n",
              "      <th>4</th>\n",
              "      <td>funcion beneficio incorpora parametros afectan...</td>\n",
              "      <td>6</td>\n",
              "    </tr>\n",
              "  </tbody>\n",
              "</table>\n",
              "</div>\n",
              "    <div class=\"colab-df-buttons\">\n",
              "\n",
              "  <div class=\"colab-df-container\">\n",
              "    <button class=\"colab-df-convert\" onclick=\"convertToInteractive('df-435d4065-0a41-48ff-93f8-9eb00160cd51')\"\n",
              "            title=\"Convert this dataframe to an interactive table.\"\n",
              "            style=\"display:none;\">\n",
              "\n",
              "  <svg xmlns=\"http://www.w3.org/2000/svg\" height=\"24px\" viewBox=\"0 -960 960 960\">\n",
              "    <path d=\"M120-120v-720h720v720H120Zm60-500h600v-160H180v160Zm220 220h160v-160H400v160Zm0 220h160v-160H400v160ZM180-400h160v-160H180v160Zm440 0h160v-160H620v160ZM180-180h160v-160H180v160Zm440 0h160v-160H620v160Z\"/>\n",
              "  </svg>\n",
              "    </button>\n",
              "\n",
              "  <style>\n",
              "    .colab-df-container {\n",
              "      display:flex;\n",
              "      gap: 12px;\n",
              "    }\n",
              "\n",
              "    .colab-df-convert {\n",
              "      background-color: #E8F0FE;\n",
              "      border: none;\n",
              "      border-radius: 50%;\n",
              "      cursor: pointer;\n",
              "      display: none;\n",
              "      fill: #1967D2;\n",
              "      height: 32px;\n",
              "      padding: 0 0 0 0;\n",
              "      width: 32px;\n",
              "    }\n",
              "\n",
              "    .colab-df-convert:hover {\n",
              "      background-color: #E2EBFA;\n",
              "      box-shadow: 0px 1px 2px rgba(60, 64, 67, 0.3), 0px 1px 3px 1px rgba(60, 64, 67, 0.15);\n",
              "      fill: #174EA6;\n",
              "    }\n",
              "\n",
              "    .colab-df-buttons div {\n",
              "      margin-bottom: 4px;\n",
              "    }\n",
              "\n",
              "    [theme=dark] .colab-df-convert {\n",
              "      background-color: #3B4455;\n",
              "      fill: #D2E3FC;\n",
              "    }\n",
              "\n",
              "    [theme=dark] .colab-df-convert:hover {\n",
              "      background-color: #434B5C;\n",
              "      box-shadow: 0px 1px 3px 1px rgba(0, 0, 0, 0.15);\n",
              "      filter: drop-shadow(0px 1px 2px rgba(0, 0, 0, 0.3));\n",
              "      fill: #FFFFFF;\n",
              "    }\n",
              "  </style>\n",
              "\n",
              "    <script>\n",
              "      const buttonEl =\n",
              "        document.querySelector('#df-435d4065-0a41-48ff-93f8-9eb00160cd51 button.colab-df-convert');\n",
              "      buttonEl.style.display =\n",
              "        google.colab.kernel.accessAllowed ? 'block' : 'none';\n",
              "\n",
              "      async function convertToInteractive(key) {\n",
              "        const element = document.querySelector('#df-435d4065-0a41-48ff-93f8-9eb00160cd51');\n",
              "        const dataTable =\n",
              "          await google.colab.kernel.invokeFunction('convertToInteractive',\n",
              "                                                    [key], {});\n",
              "        if (!dataTable) return;\n",
              "\n",
              "        const docLinkHtml = 'Like what you see? Visit the ' +\n",
              "          '<a target=\"_blank\" href=https://colab.research.google.com/notebooks/data_table.ipynb>data table notebook</a>'\n",
              "          + ' to learn more about interactive tables.';\n",
              "        element.innerHTML = '';\n",
              "        dataTable['output_type'] = 'display_data';\n",
              "        await google.colab.output.renderOutput(dataTable, element);\n",
              "        const docLink = document.createElement('div');\n",
              "        docLink.innerHTML = docLinkHtml;\n",
              "        element.appendChild(docLink);\n",
              "      }\n",
              "    </script>\n",
              "  </div>\n",
              "\n",
              "\n",
              "<div id=\"df-7f92f36c-bfb5-4720-a012-9c55c1d00ec3\">\n",
              "  <button class=\"colab-df-quickchart\" onclick=\"quickchart('df-7f92f36c-bfb5-4720-a012-9c55c1d00ec3')\"\n",
              "            title=\"Suggest charts.\"\n",
              "            style=\"display:none;\">\n",
              "\n",
              "<svg xmlns=\"http://www.w3.org/2000/svg\" height=\"24px\"viewBox=\"0 0 24 24\"\n",
              "     width=\"24px\">\n",
              "    <g>\n",
              "        <path d=\"M19 3H5c-1.1 0-2 .9-2 2v14c0 1.1.9 2 2 2h14c1.1 0 2-.9 2-2V5c0-1.1-.9-2-2-2zM9 17H7v-7h2v7zm4 0h-2V7h2v10zm4 0h-2v-4h2v4z\"/>\n",
              "    </g>\n",
              "</svg>\n",
              "  </button>\n",
              "\n",
              "<style>\n",
              "  .colab-df-quickchart {\n",
              "      --bg-color: #E8F0FE;\n",
              "      --fill-color: #1967D2;\n",
              "      --hover-bg-color: #E2EBFA;\n",
              "      --hover-fill-color: #174EA6;\n",
              "      --disabled-fill-color: #AAA;\n",
              "      --disabled-bg-color: #DDD;\n",
              "  }\n",
              "\n",
              "  [theme=dark] .colab-df-quickchart {\n",
              "      --bg-color: #3B4455;\n",
              "      --fill-color: #D2E3FC;\n",
              "      --hover-bg-color: #434B5C;\n",
              "      --hover-fill-color: #FFFFFF;\n",
              "      --disabled-bg-color: #3B4455;\n",
              "      --disabled-fill-color: #666;\n",
              "  }\n",
              "\n",
              "  .colab-df-quickchart {\n",
              "    background-color: var(--bg-color);\n",
              "    border: none;\n",
              "    border-radius: 50%;\n",
              "    cursor: pointer;\n",
              "    display: none;\n",
              "    fill: var(--fill-color);\n",
              "    height: 32px;\n",
              "    padding: 0;\n",
              "    width: 32px;\n",
              "  }\n",
              "\n",
              "  .colab-df-quickchart:hover {\n",
              "    background-color: var(--hover-bg-color);\n",
              "    box-shadow: 0 1px 2px rgba(60, 64, 67, 0.3), 0 1px 3px 1px rgba(60, 64, 67, 0.15);\n",
              "    fill: var(--button-hover-fill-color);\n",
              "  }\n",
              "\n",
              "  .colab-df-quickchart-complete:disabled,\n",
              "  .colab-df-quickchart-complete:disabled:hover {\n",
              "    background-color: var(--disabled-bg-color);\n",
              "    fill: var(--disabled-fill-color);\n",
              "    box-shadow: none;\n",
              "  }\n",
              "\n",
              "  .colab-df-spinner {\n",
              "    border: 2px solid var(--fill-color);\n",
              "    border-color: transparent;\n",
              "    border-bottom-color: var(--fill-color);\n",
              "    animation:\n",
              "      spin 1s steps(1) infinite;\n",
              "  }\n",
              "\n",
              "  @keyframes spin {\n",
              "    0% {\n",
              "      border-color: transparent;\n",
              "      border-bottom-color: var(--fill-color);\n",
              "      border-left-color: var(--fill-color);\n",
              "    }\n",
              "    20% {\n",
              "      border-color: transparent;\n",
              "      border-left-color: var(--fill-color);\n",
              "      border-top-color: var(--fill-color);\n",
              "    }\n",
              "    30% {\n",
              "      border-color: transparent;\n",
              "      border-left-color: var(--fill-color);\n",
              "      border-top-color: var(--fill-color);\n",
              "      border-right-color: var(--fill-color);\n",
              "    }\n",
              "    40% {\n",
              "      border-color: transparent;\n",
              "      border-right-color: var(--fill-color);\n",
              "      border-top-color: var(--fill-color);\n",
              "    }\n",
              "    60% {\n",
              "      border-color: transparent;\n",
              "      border-right-color: var(--fill-color);\n",
              "    }\n",
              "    80% {\n",
              "      border-color: transparent;\n",
              "      border-right-color: var(--fill-color);\n",
              "      border-bottom-color: var(--fill-color);\n",
              "    }\n",
              "    90% {\n",
              "      border-color: transparent;\n",
              "      border-bottom-color: var(--fill-color);\n",
              "    }\n",
              "  }\n",
              "</style>\n",
              "\n",
              "  <script>\n",
              "    async function quickchart(key) {\n",
              "      const quickchartButtonEl =\n",
              "        document.querySelector('#' + key + ' button');\n",
              "      quickchartButtonEl.disabled = true;  // To prevent multiple clicks.\n",
              "      quickchartButtonEl.classList.add('colab-df-spinner');\n",
              "      try {\n",
              "        const charts = await google.colab.kernel.invokeFunction(\n",
              "            'suggestCharts', [key], {});\n",
              "      } catch (error) {\n",
              "        console.error('Error during call to suggestCharts:', error);\n",
              "      }\n",
              "      quickchartButtonEl.classList.remove('colab-df-spinner');\n",
              "      quickchartButtonEl.classList.add('colab-df-quickchart-complete');\n",
              "    }\n",
              "    (() => {\n",
              "      let quickchartButtonEl =\n",
              "        document.querySelector('#df-7f92f36c-bfb5-4720-a012-9c55c1d00ec3 button');\n",
              "      quickchartButtonEl.style.display =\n",
              "        google.colab.kernel.accessAllowed ? 'block' : 'none';\n",
              "    })();\n",
              "  </script>\n",
              "</div>\n",
              "    </div>\n",
              "  </div>\n"
            ]
          },
          "metadata": {},
          "execution_count": 17
        }
      ],
      "source": [
        "data.head(5)"
      ]
    },
    {
      "cell_type": "markdown",
      "metadata": {
        "id": "kBwgz2TUqkG4"
      },
      "source": [
        "###2.3.2 Tokenización\n",
        "La tokenización permite dividir frases u oraciones en palabras. Con el fin de desglozar las palabras correctamente para el posterior análisis."
      ]
    },
    {
      "cell_type": "markdown",
      "metadata": {
        "id": "knO76iw1ta5m"
      },
      "source": [
        "La parte mas importante, la **tokenizacion** la realizaremos con la libreria spacy puesto esta en español y nos ayudara a enlistar las palabras que encontramos en cada texto. Tambien, es necesario hacer la **lematizacion** para asi poder llevar a todas las palabras a su lema, es decir a su forma inicial y asi eliminar el ruido que pueden generar diversas formas en la palabra que tienen el mismo significado. Todo esto sera realizado automaticamente en la funcion tokenizar ya que cada token sera el lemma de la palabra:"
      ]
    },
    {
      "cell_type": "code",
      "execution_count": null,
      "metadata": {
        "colab": {
          "base_uri": "https://localhost:8080/",
          "height": 206
        },
        "id": "rK--EGeht9go",
        "outputId": "ab3f06a9-4805-4f3a-b651-eee0acc62988"
      },
      "outputs": [
        {
          "output_type": "execute_result",
          "data": {
            "text/plain": [
              "                                      Textos_espanol  sdg  \\\n",
              "0  importante destacar año sequia espera disminuy...    6   \n",
              "1  cantidad literatura australia area sugiere fue...    6   \n",
              "2  procesos descentralizacion emprendidos serie a...    6   \n",
              "3  consecuencias sustanciales calidad agua especi...    6   \n",
              "4  funcion beneficio incorpora parametros afectan...    6   \n",
              "\n",
              "                                               words  \n",
              "0  [importante, destacar, año, sequia, esperar, d...  \n",
              "1  [cantidad, literatura, australio, areo, sugeri...  \n",
              "2  [proceso, descentralizacion, emprendido, serie...  \n",
              "3  [consecuencia, sustancial, calidad, agua, espe...  \n",
              "4  [funcion, beneficio, incorporar, parametro, af...  "
            ],
            "text/html": [
              "\n",
              "  <div id=\"df-b840d985-c1c2-4284-a187-07ee287a8272\" class=\"colab-df-container\">\n",
              "    <div>\n",
              "<style scoped>\n",
              "    .dataframe tbody tr th:only-of-type {\n",
              "        vertical-align: middle;\n",
              "    }\n",
              "\n",
              "    .dataframe tbody tr th {\n",
              "        vertical-align: top;\n",
              "    }\n",
              "\n",
              "    .dataframe thead th {\n",
              "        text-align: right;\n",
              "    }\n",
              "</style>\n",
              "<table border=\"1\" class=\"dataframe\">\n",
              "  <thead>\n",
              "    <tr style=\"text-align: right;\">\n",
              "      <th></th>\n",
              "      <th>Textos_espanol</th>\n",
              "      <th>sdg</th>\n",
              "      <th>words</th>\n",
              "    </tr>\n",
              "  </thead>\n",
              "  <tbody>\n",
              "    <tr>\n",
              "      <th>0</th>\n",
              "      <td>importante destacar año sequia espera disminuy...</td>\n",
              "      <td>6</td>\n",
              "      <td>[importante, destacar, año, sequia, esperar, d...</td>\n",
              "    </tr>\n",
              "    <tr>\n",
              "      <th>1</th>\n",
              "      <td>cantidad literatura australia area sugiere fue...</td>\n",
              "      <td>6</td>\n",
              "      <td>[cantidad, literatura, australio, areo, sugeri...</td>\n",
              "    </tr>\n",
              "    <tr>\n",
              "      <th>2</th>\n",
              "      <td>procesos descentralizacion emprendidos serie a...</td>\n",
              "      <td>6</td>\n",
              "      <td>[proceso, descentralizacion, emprendido, serie...</td>\n",
              "    </tr>\n",
              "    <tr>\n",
              "      <th>3</th>\n",
              "      <td>consecuencias sustanciales calidad agua especi...</td>\n",
              "      <td>6</td>\n",
              "      <td>[consecuencia, sustancial, calidad, agua, espe...</td>\n",
              "    </tr>\n",
              "    <tr>\n",
              "      <th>4</th>\n",
              "      <td>funcion beneficio incorpora parametros afectan...</td>\n",
              "      <td>6</td>\n",
              "      <td>[funcion, beneficio, incorporar, parametro, af...</td>\n",
              "    </tr>\n",
              "  </tbody>\n",
              "</table>\n",
              "</div>\n",
              "    <div class=\"colab-df-buttons\">\n",
              "\n",
              "  <div class=\"colab-df-container\">\n",
              "    <button class=\"colab-df-convert\" onclick=\"convertToInteractive('df-b840d985-c1c2-4284-a187-07ee287a8272')\"\n",
              "            title=\"Convert this dataframe to an interactive table.\"\n",
              "            style=\"display:none;\">\n",
              "\n",
              "  <svg xmlns=\"http://www.w3.org/2000/svg\" height=\"24px\" viewBox=\"0 -960 960 960\">\n",
              "    <path d=\"M120-120v-720h720v720H120Zm60-500h600v-160H180v160Zm220 220h160v-160H400v160Zm0 220h160v-160H400v160ZM180-400h160v-160H180v160Zm440 0h160v-160H620v160ZM180-180h160v-160H180v160Zm440 0h160v-160H620v160Z\"/>\n",
              "  </svg>\n",
              "    </button>\n",
              "\n",
              "  <style>\n",
              "    .colab-df-container {\n",
              "      display:flex;\n",
              "      gap: 12px;\n",
              "    }\n",
              "\n",
              "    .colab-df-convert {\n",
              "      background-color: #E8F0FE;\n",
              "      border: none;\n",
              "      border-radius: 50%;\n",
              "      cursor: pointer;\n",
              "      display: none;\n",
              "      fill: #1967D2;\n",
              "      height: 32px;\n",
              "      padding: 0 0 0 0;\n",
              "      width: 32px;\n",
              "    }\n",
              "\n",
              "    .colab-df-convert:hover {\n",
              "      background-color: #E2EBFA;\n",
              "      box-shadow: 0px 1px 2px rgba(60, 64, 67, 0.3), 0px 1px 3px 1px rgba(60, 64, 67, 0.15);\n",
              "      fill: #174EA6;\n",
              "    }\n",
              "\n",
              "    .colab-df-buttons div {\n",
              "      margin-bottom: 4px;\n",
              "    }\n",
              "\n",
              "    [theme=dark] .colab-df-convert {\n",
              "      background-color: #3B4455;\n",
              "      fill: #D2E3FC;\n",
              "    }\n",
              "\n",
              "    [theme=dark] .colab-df-convert:hover {\n",
              "      background-color: #434B5C;\n",
              "      box-shadow: 0px 1px 3px 1px rgba(0, 0, 0, 0.15);\n",
              "      filter: drop-shadow(0px 1px 2px rgba(0, 0, 0, 0.3));\n",
              "      fill: #FFFFFF;\n",
              "    }\n",
              "  </style>\n",
              "\n",
              "    <script>\n",
              "      const buttonEl =\n",
              "        document.querySelector('#df-b840d985-c1c2-4284-a187-07ee287a8272 button.colab-df-convert');\n",
              "      buttonEl.style.display =\n",
              "        google.colab.kernel.accessAllowed ? 'block' : 'none';\n",
              "\n",
              "      async function convertToInteractive(key) {\n",
              "        const element = document.querySelector('#df-b840d985-c1c2-4284-a187-07ee287a8272');\n",
              "        const dataTable =\n",
              "          await google.colab.kernel.invokeFunction('convertToInteractive',\n",
              "                                                    [key], {});\n",
              "        if (!dataTable) return;\n",
              "\n",
              "        const docLinkHtml = 'Like what you see? Visit the ' +\n",
              "          '<a target=\"_blank\" href=https://colab.research.google.com/notebooks/data_table.ipynb>data table notebook</a>'\n",
              "          + ' to learn more about interactive tables.';\n",
              "        element.innerHTML = '';\n",
              "        dataTable['output_type'] = 'display_data';\n",
              "        await google.colab.output.renderOutput(dataTable, element);\n",
              "        const docLink = document.createElement('div');\n",
              "        docLink.innerHTML = docLinkHtml;\n",
              "        element.appendChild(docLink);\n",
              "      }\n",
              "    </script>\n",
              "  </div>\n",
              "\n",
              "\n",
              "<div id=\"df-b6b26a6d-e46d-4f5c-87c8-4d563b01de3f\">\n",
              "  <button class=\"colab-df-quickchart\" onclick=\"quickchart('df-b6b26a6d-e46d-4f5c-87c8-4d563b01de3f')\"\n",
              "            title=\"Suggest charts.\"\n",
              "            style=\"display:none;\">\n",
              "\n",
              "<svg xmlns=\"http://www.w3.org/2000/svg\" height=\"24px\"viewBox=\"0 0 24 24\"\n",
              "     width=\"24px\">\n",
              "    <g>\n",
              "        <path d=\"M19 3H5c-1.1 0-2 .9-2 2v14c0 1.1.9 2 2 2h14c1.1 0 2-.9 2-2V5c0-1.1-.9-2-2-2zM9 17H7v-7h2v7zm4 0h-2V7h2v10zm4 0h-2v-4h2v4z\"/>\n",
              "    </g>\n",
              "</svg>\n",
              "  </button>\n",
              "\n",
              "<style>\n",
              "  .colab-df-quickchart {\n",
              "      --bg-color: #E8F0FE;\n",
              "      --fill-color: #1967D2;\n",
              "      --hover-bg-color: #E2EBFA;\n",
              "      --hover-fill-color: #174EA6;\n",
              "      --disabled-fill-color: #AAA;\n",
              "      --disabled-bg-color: #DDD;\n",
              "  }\n",
              "\n",
              "  [theme=dark] .colab-df-quickchart {\n",
              "      --bg-color: #3B4455;\n",
              "      --fill-color: #D2E3FC;\n",
              "      --hover-bg-color: #434B5C;\n",
              "      --hover-fill-color: #FFFFFF;\n",
              "      --disabled-bg-color: #3B4455;\n",
              "      --disabled-fill-color: #666;\n",
              "  }\n",
              "\n",
              "  .colab-df-quickchart {\n",
              "    background-color: var(--bg-color);\n",
              "    border: none;\n",
              "    border-radius: 50%;\n",
              "    cursor: pointer;\n",
              "    display: none;\n",
              "    fill: var(--fill-color);\n",
              "    height: 32px;\n",
              "    padding: 0;\n",
              "    width: 32px;\n",
              "  }\n",
              "\n",
              "  .colab-df-quickchart:hover {\n",
              "    background-color: var(--hover-bg-color);\n",
              "    box-shadow: 0 1px 2px rgba(60, 64, 67, 0.3), 0 1px 3px 1px rgba(60, 64, 67, 0.15);\n",
              "    fill: var(--button-hover-fill-color);\n",
              "  }\n",
              "\n",
              "  .colab-df-quickchart-complete:disabled,\n",
              "  .colab-df-quickchart-complete:disabled:hover {\n",
              "    background-color: var(--disabled-bg-color);\n",
              "    fill: var(--disabled-fill-color);\n",
              "    box-shadow: none;\n",
              "  }\n",
              "\n",
              "  .colab-df-spinner {\n",
              "    border: 2px solid var(--fill-color);\n",
              "    border-color: transparent;\n",
              "    border-bottom-color: var(--fill-color);\n",
              "    animation:\n",
              "      spin 1s steps(1) infinite;\n",
              "  }\n",
              "\n",
              "  @keyframes spin {\n",
              "    0% {\n",
              "      border-color: transparent;\n",
              "      border-bottom-color: var(--fill-color);\n",
              "      border-left-color: var(--fill-color);\n",
              "    }\n",
              "    20% {\n",
              "      border-color: transparent;\n",
              "      border-left-color: var(--fill-color);\n",
              "      border-top-color: var(--fill-color);\n",
              "    }\n",
              "    30% {\n",
              "      border-color: transparent;\n",
              "      border-left-color: var(--fill-color);\n",
              "      border-top-color: var(--fill-color);\n",
              "      border-right-color: var(--fill-color);\n",
              "    }\n",
              "    40% {\n",
              "      border-color: transparent;\n",
              "      border-right-color: var(--fill-color);\n",
              "      border-top-color: var(--fill-color);\n",
              "    }\n",
              "    60% {\n",
              "      border-color: transparent;\n",
              "      border-right-color: var(--fill-color);\n",
              "    }\n",
              "    80% {\n",
              "      border-color: transparent;\n",
              "      border-right-color: var(--fill-color);\n",
              "      border-bottom-color: var(--fill-color);\n",
              "    }\n",
              "    90% {\n",
              "      border-color: transparent;\n",
              "      border-bottom-color: var(--fill-color);\n",
              "    }\n",
              "  }\n",
              "</style>\n",
              "\n",
              "  <script>\n",
              "    async function quickchart(key) {\n",
              "      const quickchartButtonEl =\n",
              "        document.querySelector('#' + key + ' button');\n",
              "      quickchartButtonEl.disabled = true;  // To prevent multiple clicks.\n",
              "      quickchartButtonEl.classList.add('colab-df-spinner');\n",
              "      try {\n",
              "        const charts = await google.colab.kernel.invokeFunction(\n",
              "            'suggestCharts', [key], {});\n",
              "      } catch (error) {\n",
              "        console.error('Error during call to suggestCharts:', error);\n",
              "      }\n",
              "      quickchartButtonEl.classList.remove('colab-df-spinner');\n",
              "      quickchartButtonEl.classList.add('colab-df-quickchart-complete');\n",
              "    }\n",
              "    (() => {\n",
              "      let quickchartButtonEl =\n",
              "        document.querySelector('#df-b6b26a6d-e46d-4f5c-87c8-4d563b01de3f button');\n",
              "      quickchartButtonEl.style.display =\n",
              "        google.colab.kernel.accessAllowed ? 'block' : 'none';\n",
              "    })();\n",
              "  </script>\n",
              "</div>\n",
              "    </div>\n",
              "  </div>\n"
            ]
          },
          "metadata": {},
          "execution_count": 18
        }
      ],
      "source": [
        "# Función para tokenizar un texto y devolver una lista de tokens\n",
        "def tokenizar(texto):\n",
        "    doc = nlp(texto)\n",
        "    tokens = [token.lemma_ for token in doc]\n",
        "    return tokens\n",
        "\n",
        "# Aplicamos la función de tokenización a cada fila del DataFrame y agregar una nueva columna\n",
        "data['words'] = data['Textos_espanol'].apply(tokenizar)\n",
        "data.head(5)"
      ]
    },
    {
      "cell_type": "markdown",
      "metadata": {
        "id": "vosN-Xif1Fve"
      },
      "source": [
        "# 3. Implementacion del modelo (Tfidf (Term Frequency-Inverse Document Frequency))"
      ]
    },
    {
      "cell_type": "markdown",
      "metadata": {
        "id": "_j_MxqeYoGti"
      },
      "source": [
        "El algoritmo TF-IDF (Term Frequency-Inverse Document Frequency) es una técnica de procesamiento de lenguaje natural que se utiliza comúnmente para evaluar la importancia relativa de una palabra o término en un documento dentro de un corpus de documentos."
      ]
    },
    {
      "cell_type": "markdown",
      "metadata": {
        "id": "57wNs0T0qDj8"
      },
      "source": [
        "##3.1 Variable objetivo"
      ]
    },
    {
      "cell_type": "code",
      "execution_count": null,
      "metadata": {
        "colab": {
          "base_uri": "https://localhost:8080/"
        },
        "id": "KMWo9w9kqIx9",
        "outputId": "08c8e614-975f-4518-cc4e-803bcf951b50"
      },
      "outputs": [
        {
          "output_type": "execute_result",
          "data": {
            "text/plain": [
              "3"
            ]
          },
          "metadata": {},
          "execution_count": 19
        }
      ],
      "source": [
        "# Creación de variable objetivo (etiqueta).\n",
        "Y = data['sdg']\n",
        "\n",
        "# Creacion de las variables de entrada\n",
        "X = data.drop(['sdg'], axis=1)\n",
        "\n",
        "num_muestras = data.shape[1]\n",
        "num_muestras"
      ]
    },
    {
      "cell_type": "markdown",
      "metadata": {
        "id": "rRN9EOFXqUZU"
      },
      "source": [
        "##3.2 Entrenamiento"
      ]
    },
    {
      "cell_type": "markdown",
      "metadata": {
        "id": "PbA_qHhzrKOm"
      },
      "source": [
        "- Ahora usaremos un objeto de GridSearchCV para encontrar el conjunto de parametros optimo para nuestro modelo de regresion logistica usango 5-fold stratified cross-validation. Esto es necesario ya que asi no tendremos un modelo estatico si no un modelo que se entrene con mas divisiones de datos y no este sobre ajustado en un solo conjunto de datos en el entrenamiento."
      ]
    },
    {
      "cell_type": "code",
      "execution_count": null,
      "metadata": {
        "id": "6MgcbDtfqZKN"
      },
      "outputs": [],
      "source": [
        "# Dividimos el conjunto de datos\n",
        "X_train = data.loc[:2400, 'Textos_espanol'].values\n",
        "y_train = data.loc[:2400, 'sdg'].values\n",
        "X_test = data.loc[2400:, 'Textos_espanol'].values\n",
        "y_test = data.loc[2400:, 'sdg'].values\n",
        "\n",
        "# El algoritmo utiliza una clasificacion del tipo tfidf, asi que inicializamos el objeto\n",
        "tfidf = TfidfVectorizer(strip_accents=None,\n",
        "                        lowercase=False,\n",
        "                        preprocessor=None)\n",
        "\n",
        "# Usamos el tokenizer de spacy en español\n",
        "def spacy_tokenizer(text):\n",
        "    tokens = nlp(text)\n",
        "    return [token.text for token in tokens if not token.is_stop]"
      ]
    },
    {
      "cell_type": "code",
      "execution_count": null,
      "metadata": {
        "colab": {
          "base_uri": "https://localhost:8080/"
        },
        "id": "w3XLWtVIqWxI",
        "outputId": "41123d69-53ea-4ed5-f901-2ca64b57760a"
      },
      "outputs": [
        {
          "output_type": "stream",
          "name": "stdout",
          "text": [
            "Fitting 5 folds for each of 12 candidates, totalling 60 fits\n"
          ]
        },
        {
          "output_type": "stream",
          "name": "stderr",
          "text": [
            "/usr/local/lib/python3.10/dist-packages/sklearn/feature_extraction/text.py:528: UserWarning: The parameter 'token_pattern' will not be used since 'tokenizer' is not None'\n",
            "  warnings.warn(\n"
          ]
        },
        {
          "output_type": "stream",
          "name": "stdout",
          "text": [
            "[CV] END clf__C=1.0, clf__penalty=l1, vect__ngram_range=(1, 1), vect__tokenizer=<function spacy_tokenizer at 0x7efc952913f0>; total time=  29.6s\n"
          ]
        },
        {
          "output_type": "stream",
          "name": "stderr",
          "text": [
            "/usr/local/lib/python3.10/dist-packages/sklearn/feature_extraction/text.py:528: UserWarning: The parameter 'token_pattern' will not be used since 'tokenizer' is not None'\n",
            "  warnings.warn(\n"
          ]
        },
        {
          "output_type": "stream",
          "name": "stdout",
          "text": [
            "[CV] END clf__C=1.0, clf__penalty=l1, vect__ngram_range=(1, 1), vect__tokenizer=<function spacy_tokenizer at 0x7efc952913f0>; total time=  32.1s\n"
          ]
        },
        {
          "output_type": "stream",
          "name": "stderr",
          "text": [
            "/usr/local/lib/python3.10/dist-packages/sklearn/feature_extraction/text.py:528: UserWarning: The parameter 'token_pattern' will not be used since 'tokenizer' is not None'\n",
            "  warnings.warn(\n"
          ]
        },
        {
          "output_type": "stream",
          "name": "stdout",
          "text": [
            "[CV] END clf__C=1.0, clf__penalty=l1, vect__ngram_range=(1, 1), vect__tokenizer=<function spacy_tokenizer at 0x7efc952913f0>; total time=  27.1s\n"
          ]
        },
        {
          "output_type": "stream",
          "name": "stderr",
          "text": [
            "/usr/local/lib/python3.10/dist-packages/sklearn/feature_extraction/text.py:528: UserWarning: The parameter 'token_pattern' will not be used since 'tokenizer' is not None'\n",
            "  warnings.warn(\n"
          ]
        },
        {
          "output_type": "stream",
          "name": "stdout",
          "text": [
            "[CV] END clf__C=1.0, clf__penalty=l1, vect__ngram_range=(1, 1), vect__tokenizer=<function spacy_tokenizer at 0x7efc952913f0>; total time=  27.3s\n"
          ]
        },
        {
          "output_type": "stream",
          "name": "stderr",
          "text": [
            "/usr/local/lib/python3.10/dist-packages/sklearn/feature_extraction/text.py:528: UserWarning: The parameter 'token_pattern' will not be used since 'tokenizer' is not None'\n",
            "  warnings.warn(\n"
          ]
        },
        {
          "output_type": "stream",
          "name": "stdout",
          "text": [
            "[CV] END clf__C=1.0, clf__penalty=l1, vect__ngram_range=(1, 1), vect__tokenizer=<function spacy_tokenizer at 0x7efc952913f0>; total time=  28.4s\n"
          ]
        },
        {
          "output_type": "stream",
          "name": "stderr",
          "text": [
            "/usr/local/lib/python3.10/dist-packages/sklearn/feature_extraction/text.py:528: UserWarning: The parameter 'token_pattern' will not be used since 'tokenizer' is not None'\n",
            "  warnings.warn(\n"
          ]
        },
        {
          "output_type": "stream",
          "name": "stdout",
          "text": [
            "[CV] END clf__C=1.0, clf__penalty=l2, vect__ngram_range=(1, 1), vect__tokenizer=<function spacy_tokenizer at 0x7efc952913f0>; total time=  27.1s\n"
          ]
        },
        {
          "output_type": "stream",
          "name": "stderr",
          "text": [
            "/usr/local/lib/python3.10/dist-packages/sklearn/feature_extraction/text.py:528: UserWarning: The parameter 'token_pattern' will not be used since 'tokenizer' is not None'\n",
            "  warnings.warn(\n"
          ]
        },
        {
          "output_type": "stream",
          "name": "stdout",
          "text": [
            "[CV] END clf__C=1.0, clf__penalty=l2, vect__ngram_range=(1, 1), vect__tokenizer=<function spacy_tokenizer at 0x7efc952913f0>; total time=  26.6s\n"
          ]
        },
        {
          "output_type": "stream",
          "name": "stderr",
          "text": [
            "/usr/local/lib/python3.10/dist-packages/sklearn/feature_extraction/text.py:528: UserWarning: The parameter 'token_pattern' will not be used since 'tokenizer' is not None'\n",
            "  warnings.warn(\n"
          ]
        },
        {
          "output_type": "stream",
          "name": "stdout",
          "text": [
            "[CV] END clf__C=1.0, clf__penalty=l2, vect__ngram_range=(1, 1), vect__tokenizer=<function spacy_tokenizer at 0x7efc952913f0>; total time=  26.9s\n"
          ]
        },
        {
          "output_type": "stream",
          "name": "stderr",
          "text": [
            "/usr/local/lib/python3.10/dist-packages/sklearn/feature_extraction/text.py:528: UserWarning: The parameter 'token_pattern' will not be used since 'tokenizer' is not None'\n",
            "  warnings.warn(\n"
          ]
        },
        {
          "output_type": "stream",
          "name": "stdout",
          "text": [
            "[CV] END clf__C=1.0, clf__penalty=l2, vect__ngram_range=(1, 1), vect__tokenizer=<function spacy_tokenizer at 0x7efc952913f0>; total time=  26.8s\n"
          ]
        },
        {
          "output_type": "stream",
          "name": "stderr",
          "text": [
            "/usr/local/lib/python3.10/dist-packages/sklearn/feature_extraction/text.py:528: UserWarning: The parameter 'token_pattern' will not be used since 'tokenizer' is not None'\n",
            "  warnings.warn(\n"
          ]
        },
        {
          "output_type": "stream",
          "name": "stdout",
          "text": [
            "[CV] END clf__C=1.0, clf__penalty=l2, vect__ngram_range=(1, 1), vect__tokenizer=<function spacy_tokenizer at 0x7efc952913f0>; total time=  26.6s\n"
          ]
        },
        {
          "output_type": "stream",
          "name": "stderr",
          "text": [
            "/usr/local/lib/python3.10/dist-packages/sklearn/feature_extraction/text.py:528: UserWarning: The parameter 'token_pattern' will not be used since 'tokenizer' is not None'\n",
            "  warnings.warn(\n"
          ]
        },
        {
          "output_type": "stream",
          "name": "stdout",
          "text": [
            "[CV] END clf__C=10.0, clf__penalty=l1, vect__ngram_range=(1, 1), vect__tokenizer=<function spacy_tokenizer at 0x7efc952913f0>; total time=  26.7s\n"
          ]
        },
        {
          "output_type": "stream",
          "name": "stderr",
          "text": [
            "/usr/local/lib/python3.10/dist-packages/sklearn/feature_extraction/text.py:528: UserWarning: The parameter 'token_pattern' will not be used since 'tokenizer' is not None'\n",
            "  warnings.warn(\n"
          ]
        },
        {
          "output_type": "stream",
          "name": "stdout",
          "text": [
            "[CV] END clf__C=10.0, clf__penalty=l1, vect__ngram_range=(1, 1), vect__tokenizer=<function spacy_tokenizer at 0x7efc952913f0>; total time=  26.6s\n"
          ]
        },
        {
          "output_type": "stream",
          "name": "stderr",
          "text": [
            "/usr/local/lib/python3.10/dist-packages/sklearn/feature_extraction/text.py:528: UserWarning: The parameter 'token_pattern' will not be used since 'tokenizer' is not None'\n",
            "  warnings.warn(\n"
          ]
        },
        {
          "output_type": "stream",
          "name": "stdout",
          "text": [
            "[CV] END clf__C=10.0, clf__penalty=l1, vect__ngram_range=(1, 1), vect__tokenizer=<function spacy_tokenizer at 0x7efc952913f0>; total time=  26.8s\n"
          ]
        },
        {
          "output_type": "stream",
          "name": "stderr",
          "text": [
            "/usr/local/lib/python3.10/dist-packages/sklearn/feature_extraction/text.py:528: UserWarning: The parameter 'token_pattern' will not be used since 'tokenizer' is not None'\n",
            "  warnings.warn(\n"
          ]
        },
        {
          "output_type": "stream",
          "name": "stdout",
          "text": [
            "[CV] END clf__C=10.0, clf__penalty=l1, vect__ngram_range=(1, 1), vect__tokenizer=<function spacy_tokenizer at 0x7efc952913f0>; total time=  27.1s\n"
          ]
        },
        {
          "output_type": "stream",
          "name": "stderr",
          "text": [
            "/usr/local/lib/python3.10/dist-packages/sklearn/feature_extraction/text.py:528: UserWarning: The parameter 'token_pattern' will not be used since 'tokenizer' is not None'\n",
            "  warnings.warn(\n"
          ]
        },
        {
          "output_type": "stream",
          "name": "stdout",
          "text": [
            "[CV] END clf__C=10.0, clf__penalty=l1, vect__ngram_range=(1, 1), vect__tokenizer=<function spacy_tokenizer at 0x7efc952913f0>; total time=  27.4s\n"
          ]
        },
        {
          "output_type": "stream",
          "name": "stderr",
          "text": [
            "/usr/local/lib/python3.10/dist-packages/sklearn/feature_extraction/text.py:528: UserWarning: The parameter 'token_pattern' will not be used since 'tokenizer' is not None'\n",
            "  warnings.warn(\n"
          ]
        },
        {
          "output_type": "stream",
          "name": "stdout",
          "text": [
            "[CV] END clf__C=10.0, clf__penalty=l2, vect__ngram_range=(1, 1), vect__tokenizer=<function spacy_tokenizer at 0x7efc952913f0>; total time=  26.7s\n"
          ]
        },
        {
          "output_type": "stream",
          "name": "stderr",
          "text": [
            "/usr/local/lib/python3.10/dist-packages/sklearn/feature_extraction/text.py:528: UserWarning: The parameter 'token_pattern' will not be used since 'tokenizer' is not None'\n",
            "  warnings.warn(\n"
          ]
        },
        {
          "output_type": "stream",
          "name": "stdout",
          "text": [
            "[CV] END clf__C=10.0, clf__penalty=l2, vect__ngram_range=(1, 1), vect__tokenizer=<function spacy_tokenizer at 0x7efc952913f0>; total time=  26.7s\n"
          ]
        },
        {
          "output_type": "stream",
          "name": "stderr",
          "text": [
            "/usr/local/lib/python3.10/dist-packages/sklearn/feature_extraction/text.py:528: UserWarning: The parameter 'token_pattern' will not be used since 'tokenizer' is not None'\n",
            "  warnings.warn(\n"
          ]
        },
        {
          "output_type": "stream",
          "name": "stdout",
          "text": [
            "[CV] END clf__C=10.0, clf__penalty=l2, vect__ngram_range=(1, 1), vect__tokenizer=<function spacy_tokenizer at 0x7efc952913f0>; total time=  26.6s\n"
          ]
        },
        {
          "output_type": "stream",
          "name": "stderr",
          "text": [
            "/usr/local/lib/python3.10/dist-packages/sklearn/feature_extraction/text.py:528: UserWarning: The parameter 'token_pattern' will not be used since 'tokenizer' is not None'\n",
            "  warnings.warn(\n"
          ]
        },
        {
          "output_type": "stream",
          "name": "stdout",
          "text": [
            "[CV] END clf__C=10.0, clf__penalty=l2, vect__ngram_range=(1, 1), vect__tokenizer=<function spacy_tokenizer at 0x7efc952913f0>; total time=  26.7s\n"
          ]
        },
        {
          "output_type": "stream",
          "name": "stderr",
          "text": [
            "/usr/local/lib/python3.10/dist-packages/sklearn/feature_extraction/text.py:528: UserWarning: The parameter 'token_pattern' will not be used since 'tokenizer' is not None'\n",
            "  warnings.warn(\n"
          ]
        },
        {
          "output_type": "stream",
          "name": "stdout",
          "text": [
            "[CV] END clf__C=10.0, clf__penalty=l2, vect__ngram_range=(1, 1), vect__tokenizer=<function spacy_tokenizer at 0x7efc952913f0>; total time=  27.0s\n"
          ]
        },
        {
          "output_type": "stream",
          "name": "stderr",
          "text": [
            "/usr/local/lib/python3.10/dist-packages/sklearn/feature_extraction/text.py:528: UserWarning: The parameter 'token_pattern' will not be used since 'tokenizer' is not None'\n",
            "  warnings.warn(\n"
          ]
        },
        {
          "output_type": "stream",
          "name": "stdout",
          "text": [
            "[CV] END clf__C=100.0, clf__penalty=l1, vect__ngram_range=(1, 1), vect__tokenizer=<function spacy_tokenizer at 0x7efc952913f0>; total time=  26.7s\n"
          ]
        },
        {
          "output_type": "stream",
          "name": "stderr",
          "text": [
            "/usr/local/lib/python3.10/dist-packages/sklearn/feature_extraction/text.py:528: UserWarning: The parameter 'token_pattern' will not be used since 'tokenizer' is not None'\n",
            "  warnings.warn(\n"
          ]
        },
        {
          "output_type": "stream",
          "name": "stdout",
          "text": [
            "[CV] END clf__C=100.0, clf__penalty=l1, vect__ngram_range=(1, 1), vect__tokenizer=<function spacy_tokenizer at 0x7efc952913f0>; total time=  26.6s\n"
          ]
        },
        {
          "output_type": "stream",
          "name": "stderr",
          "text": [
            "/usr/local/lib/python3.10/dist-packages/sklearn/feature_extraction/text.py:528: UserWarning: The parameter 'token_pattern' will not be used since 'tokenizer' is not None'\n",
            "  warnings.warn(\n"
          ]
        },
        {
          "output_type": "stream",
          "name": "stdout",
          "text": [
            "[CV] END clf__C=100.0, clf__penalty=l1, vect__ngram_range=(1, 1), vect__tokenizer=<function spacy_tokenizer at 0x7efc952913f0>; total time=  26.6s\n"
          ]
        },
        {
          "output_type": "stream",
          "name": "stderr",
          "text": [
            "/usr/local/lib/python3.10/dist-packages/sklearn/feature_extraction/text.py:528: UserWarning: The parameter 'token_pattern' will not be used since 'tokenizer' is not None'\n",
            "  warnings.warn(\n"
          ]
        },
        {
          "output_type": "stream",
          "name": "stdout",
          "text": [
            "[CV] END clf__C=100.0, clf__penalty=l1, vect__ngram_range=(1, 1), vect__tokenizer=<function spacy_tokenizer at 0x7efc952913f0>; total time=  27.3s\n"
          ]
        },
        {
          "output_type": "stream",
          "name": "stderr",
          "text": [
            "/usr/local/lib/python3.10/dist-packages/sklearn/feature_extraction/text.py:528: UserWarning: The parameter 'token_pattern' will not be used since 'tokenizer' is not None'\n",
            "  warnings.warn(\n"
          ]
        },
        {
          "output_type": "stream",
          "name": "stdout",
          "text": [
            "[CV] END clf__C=100.0, clf__penalty=l1, vect__ngram_range=(1, 1), vect__tokenizer=<function spacy_tokenizer at 0x7efc952913f0>; total time=  27.3s\n"
          ]
        },
        {
          "output_type": "stream",
          "name": "stderr",
          "text": [
            "/usr/local/lib/python3.10/dist-packages/sklearn/feature_extraction/text.py:528: UserWarning: The parameter 'token_pattern' will not be used since 'tokenizer' is not None'\n",
            "  warnings.warn(\n"
          ]
        },
        {
          "output_type": "stream",
          "name": "stdout",
          "text": [
            "[CV] END clf__C=100.0, clf__penalty=l2, vect__ngram_range=(1, 1), vect__tokenizer=<function spacy_tokenizer at 0x7efc952913f0>; total time=  26.7s\n"
          ]
        },
        {
          "output_type": "stream",
          "name": "stderr",
          "text": [
            "/usr/local/lib/python3.10/dist-packages/sklearn/feature_extraction/text.py:528: UserWarning: The parameter 'token_pattern' will not be used since 'tokenizer' is not None'\n",
            "  warnings.warn(\n"
          ]
        },
        {
          "output_type": "stream",
          "name": "stdout",
          "text": [
            "[CV] END clf__C=100.0, clf__penalty=l2, vect__ngram_range=(1, 1), vect__tokenizer=<function spacy_tokenizer at 0x7efc952913f0>; total time=  26.6s\n"
          ]
        },
        {
          "output_type": "stream",
          "name": "stderr",
          "text": [
            "/usr/local/lib/python3.10/dist-packages/sklearn/feature_extraction/text.py:528: UserWarning: The parameter 'token_pattern' will not be used since 'tokenizer' is not None'\n",
            "  warnings.warn(\n"
          ]
        },
        {
          "output_type": "stream",
          "name": "stdout",
          "text": [
            "[CV] END clf__C=100.0, clf__penalty=l2, vect__ngram_range=(1, 1), vect__tokenizer=<function spacy_tokenizer at 0x7efc952913f0>; total time=  26.4s\n"
          ]
        },
        {
          "output_type": "stream",
          "name": "stderr",
          "text": [
            "/usr/local/lib/python3.10/dist-packages/sklearn/feature_extraction/text.py:528: UserWarning: The parameter 'token_pattern' will not be used since 'tokenizer' is not None'\n",
            "  warnings.warn(\n"
          ]
        },
        {
          "output_type": "stream",
          "name": "stdout",
          "text": [
            "[CV] END clf__C=100.0, clf__penalty=l2, vect__ngram_range=(1, 1), vect__tokenizer=<function spacy_tokenizer at 0x7efc952913f0>; total time=  26.9s\n"
          ]
        },
        {
          "output_type": "stream",
          "name": "stderr",
          "text": [
            "/usr/local/lib/python3.10/dist-packages/sklearn/feature_extraction/text.py:528: UserWarning: The parameter 'token_pattern' will not be used since 'tokenizer' is not None'\n",
            "  warnings.warn(\n"
          ]
        },
        {
          "output_type": "stream",
          "name": "stdout",
          "text": [
            "[CV] END clf__C=100.0, clf__penalty=l2, vect__ngram_range=(1, 1), vect__tokenizer=<function spacy_tokenizer at 0x7efc952913f0>; total time=  26.8s\n"
          ]
        },
        {
          "output_type": "stream",
          "name": "stderr",
          "text": [
            "/usr/local/lib/python3.10/dist-packages/sklearn/feature_extraction/text.py:528: UserWarning: The parameter 'token_pattern' will not be used since 'tokenizer' is not None'\n",
            "  warnings.warn(\n"
          ]
        },
        {
          "output_type": "stream",
          "name": "stdout",
          "text": [
            "[CV] END clf__C=1.0, clf__penalty=l1, vect__ngram_range=(1, 1), vect__norm=None, vect__tokenizer=<function spacy_tokenizer at 0x7efc952913f0>, vect__use_idf=False; total time=  26.7s\n"
          ]
        },
        {
          "output_type": "stream",
          "name": "stderr",
          "text": [
            "/usr/local/lib/python3.10/dist-packages/sklearn/feature_extraction/text.py:528: UserWarning: The parameter 'token_pattern' will not be used since 'tokenizer' is not None'\n",
            "  warnings.warn(\n"
          ]
        },
        {
          "output_type": "stream",
          "name": "stdout",
          "text": [
            "[CV] END clf__C=1.0, clf__penalty=l1, vect__ngram_range=(1, 1), vect__norm=None, vect__tokenizer=<function spacy_tokenizer at 0x7efc952913f0>, vect__use_idf=False; total time=  26.7s\n"
          ]
        },
        {
          "output_type": "stream",
          "name": "stderr",
          "text": [
            "/usr/local/lib/python3.10/dist-packages/sklearn/feature_extraction/text.py:528: UserWarning: The parameter 'token_pattern' will not be used since 'tokenizer' is not None'\n",
            "  warnings.warn(\n"
          ]
        },
        {
          "output_type": "stream",
          "name": "stdout",
          "text": [
            "[CV] END clf__C=1.0, clf__penalty=l1, vect__ngram_range=(1, 1), vect__norm=None, vect__tokenizer=<function spacy_tokenizer at 0x7efc952913f0>, vect__use_idf=False; total time=  26.7s\n"
          ]
        },
        {
          "output_type": "stream",
          "name": "stderr",
          "text": [
            "/usr/local/lib/python3.10/dist-packages/sklearn/feature_extraction/text.py:528: UserWarning: The parameter 'token_pattern' will not be used since 'tokenizer' is not None'\n",
            "  warnings.warn(\n"
          ]
        },
        {
          "output_type": "stream",
          "name": "stdout",
          "text": [
            "[CV] END clf__C=1.0, clf__penalty=l1, vect__ngram_range=(1, 1), vect__norm=None, vect__tokenizer=<function spacy_tokenizer at 0x7efc952913f0>, vect__use_idf=False; total time=  26.8s\n"
          ]
        },
        {
          "output_type": "stream",
          "name": "stderr",
          "text": [
            "/usr/local/lib/python3.10/dist-packages/sklearn/feature_extraction/text.py:528: UserWarning: The parameter 'token_pattern' will not be used since 'tokenizer' is not None'\n",
            "  warnings.warn(\n"
          ]
        },
        {
          "output_type": "stream",
          "name": "stdout",
          "text": [
            "[CV] END clf__C=1.0, clf__penalty=l1, vect__ngram_range=(1, 1), vect__norm=None, vect__tokenizer=<function spacy_tokenizer at 0x7efc952913f0>, vect__use_idf=False; total time=  27.5s\n"
          ]
        },
        {
          "output_type": "stream",
          "name": "stderr",
          "text": [
            "/usr/local/lib/python3.10/dist-packages/sklearn/feature_extraction/text.py:528: UserWarning: The parameter 'token_pattern' will not be used since 'tokenizer' is not None'\n",
            "  warnings.warn(\n"
          ]
        },
        {
          "output_type": "stream",
          "name": "stdout",
          "text": [
            "[CV] END clf__C=1.0, clf__penalty=l2, vect__ngram_range=(1, 1), vect__norm=None, vect__tokenizer=<function spacy_tokenizer at 0x7efc952913f0>, vect__use_idf=False; total time=  26.7s\n"
          ]
        },
        {
          "output_type": "stream",
          "name": "stderr",
          "text": [
            "/usr/local/lib/python3.10/dist-packages/sklearn/feature_extraction/text.py:528: UserWarning: The parameter 'token_pattern' will not be used since 'tokenizer' is not None'\n",
            "  warnings.warn(\n"
          ]
        },
        {
          "output_type": "stream",
          "name": "stdout",
          "text": [
            "[CV] END clf__C=1.0, clf__penalty=l2, vect__ngram_range=(1, 1), vect__norm=None, vect__tokenizer=<function spacy_tokenizer at 0x7efc952913f0>, vect__use_idf=False; total time=  26.6s\n"
          ]
        },
        {
          "output_type": "stream",
          "name": "stderr",
          "text": [
            "/usr/local/lib/python3.10/dist-packages/sklearn/feature_extraction/text.py:528: UserWarning: The parameter 'token_pattern' will not be used since 'tokenizer' is not None'\n",
            "  warnings.warn(\n"
          ]
        },
        {
          "output_type": "stream",
          "name": "stdout",
          "text": [
            "[CV] END clf__C=1.0, clf__penalty=l2, vect__ngram_range=(1, 1), vect__norm=None, vect__tokenizer=<function spacy_tokenizer at 0x7efc952913f0>, vect__use_idf=False; total time=  27.0s\n"
          ]
        },
        {
          "output_type": "stream",
          "name": "stderr",
          "text": [
            "/usr/local/lib/python3.10/dist-packages/sklearn/feature_extraction/text.py:528: UserWarning: The parameter 'token_pattern' will not be used since 'tokenizer' is not None'\n",
            "  warnings.warn(\n"
          ]
        },
        {
          "output_type": "stream",
          "name": "stdout",
          "text": [
            "[CV] END clf__C=1.0, clf__penalty=l2, vect__ngram_range=(1, 1), vect__norm=None, vect__tokenizer=<function spacy_tokenizer at 0x7efc952913f0>, vect__use_idf=False; total time=  26.6s\n"
          ]
        },
        {
          "output_type": "stream",
          "name": "stderr",
          "text": [
            "/usr/local/lib/python3.10/dist-packages/sklearn/feature_extraction/text.py:528: UserWarning: The parameter 'token_pattern' will not be used since 'tokenizer' is not None'\n",
            "  warnings.warn(\n"
          ]
        },
        {
          "output_type": "stream",
          "name": "stdout",
          "text": [
            "[CV] END clf__C=1.0, clf__penalty=l2, vect__ngram_range=(1, 1), vect__norm=None, vect__tokenizer=<function spacy_tokenizer at 0x7efc952913f0>, vect__use_idf=False; total time=  26.7s\n"
          ]
        },
        {
          "output_type": "stream",
          "name": "stderr",
          "text": [
            "/usr/local/lib/python3.10/dist-packages/sklearn/feature_extraction/text.py:528: UserWarning: The parameter 'token_pattern' will not be used since 'tokenizer' is not None'\n",
            "  warnings.warn(\n"
          ]
        },
        {
          "output_type": "stream",
          "name": "stdout",
          "text": [
            "[CV] END clf__C=10.0, clf__penalty=l1, vect__ngram_range=(1, 1), vect__norm=None, vect__tokenizer=<function spacy_tokenizer at 0x7efc952913f0>, vect__use_idf=False; total time=  26.7s\n"
          ]
        },
        {
          "output_type": "stream",
          "name": "stderr",
          "text": [
            "/usr/local/lib/python3.10/dist-packages/sklearn/feature_extraction/text.py:528: UserWarning: The parameter 'token_pattern' will not be used since 'tokenizer' is not None'\n",
            "  warnings.warn(\n"
          ]
        },
        {
          "output_type": "stream",
          "name": "stdout",
          "text": [
            "[CV] END clf__C=10.0, clf__penalty=l1, vect__ngram_range=(1, 1), vect__norm=None, vect__tokenizer=<function spacy_tokenizer at 0x7efc952913f0>, vect__use_idf=False; total time=  26.6s\n"
          ]
        },
        {
          "output_type": "stream",
          "name": "stderr",
          "text": [
            "/usr/local/lib/python3.10/dist-packages/sklearn/feature_extraction/text.py:528: UserWarning: The parameter 'token_pattern' will not be used since 'tokenizer' is not None'\n",
            "  warnings.warn(\n"
          ]
        },
        {
          "output_type": "stream",
          "name": "stdout",
          "text": [
            "[CV] END clf__C=10.0, clf__penalty=l1, vect__ngram_range=(1, 1), vect__norm=None, vect__tokenizer=<function spacy_tokenizer at 0x7efc952913f0>, vect__use_idf=False; total time=  26.8s\n"
          ]
        },
        {
          "output_type": "stream",
          "name": "stderr",
          "text": [
            "/usr/local/lib/python3.10/dist-packages/sklearn/feature_extraction/text.py:528: UserWarning: The parameter 'token_pattern' will not be used since 'tokenizer' is not None'\n",
            "  warnings.warn(\n"
          ]
        },
        {
          "output_type": "stream",
          "name": "stdout",
          "text": [
            "[CV] END clf__C=10.0, clf__penalty=l1, vect__ngram_range=(1, 1), vect__norm=None, vect__tokenizer=<function spacy_tokenizer at 0x7efc952913f0>, vect__use_idf=False; total time=  27.5s\n"
          ]
        },
        {
          "output_type": "stream",
          "name": "stderr",
          "text": [
            "/usr/local/lib/python3.10/dist-packages/sklearn/feature_extraction/text.py:528: UserWarning: The parameter 'token_pattern' will not be used since 'tokenizer' is not None'\n",
            "  warnings.warn(\n"
          ]
        },
        {
          "output_type": "stream",
          "name": "stdout",
          "text": [
            "[CV] END clf__C=10.0, clf__penalty=l1, vect__ngram_range=(1, 1), vect__norm=None, vect__tokenizer=<function spacy_tokenizer at 0x7efc952913f0>, vect__use_idf=False; total time=  26.9s\n"
          ]
        },
        {
          "output_type": "stream",
          "name": "stderr",
          "text": [
            "/usr/local/lib/python3.10/dist-packages/sklearn/feature_extraction/text.py:528: UserWarning: The parameter 'token_pattern' will not be used since 'tokenizer' is not None'\n",
            "  warnings.warn(\n"
          ]
        },
        {
          "output_type": "stream",
          "name": "stdout",
          "text": [
            "[CV] END clf__C=10.0, clf__penalty=l2, vect__ngram_range=(1, 1), vect__norm=None, vect__tokenizer=<function spacy_tokenizer at 0x7efc952913f0>, vect__use_idf=False; total time=  26.8s\n"
          ]
        },
        {
          "output_type": "stream",
          "name": "stderr",
          "text": [
            "/usr/local/lib/python3.10/dist-packages/sklearn/feature_extraction/text.py:528: UserWarning: The parameter 'token_pattern' will not be used since 'tokenizer' is not None'\n",
            "  warnings.warn(\n"
          ]
        },
        {
          "output_type": "stream",
          "name": "stdout",
          "text": [
            "[CV] END clf__C=10.0, clf__penalty=l2, vect__ngram_range=(1, 1), vect__norm=None, vect__tokenizer=<function spacy_tokenizer at 0x7efc952913f0>, vect__use_idf=False; total time=  26.8s\n"
          ]
        },
        {
          "output_type": "stream",
          "name": "stderr",
          "text": [
            "/usr/local/lib/python3.10/dist-packages/sklearn/feature_extraction/text.py:528: UserWarning: The parameter 'token_pattern' will not be used since 'tokenizer' is not None'\n",
            "  warnings.warn(\n"
          ]
        },
        {
          "output_type": "stream",
          "name": "stdout",
          "text": [
            "[CV] END clf__C=10.0, clf__penalty=l2, vect__ngram_range=(1, 1), vect__norm=None, vect__tokenizer=<function spacy_tokenizer at 0x7efc952913f0>, vect__use_idf=False; total time=  26.5s\n"
          ]
        },
        {
          "output_type": "stream",
          "name": "stderr",
          "text": [
            "/usr/local/lib/python3.10/dist-packages/sklearn/feature_extraction/text.py:528: UserWarning: The parameter 'token_pattern' will not be used since 'tokenizer' is not None'\n",
            "  warnings.warn(\n"
          ]
        },
        {
          "output_type": "stream",
          "name": "stdout",
          "text": [
            "[CV] END clf__C=10.0, clf__penalty=l2, vect__ngram_range=(1, 1), vect__norm=None, vect__tokenizer=<function spacy_tokenizer at 0x7efc952913f0>, vect__use_idf=False; total time=  26.7s\n"
          ]
        },
        {
          "output_type": "stream",
          "name": "stderr",
          "text": [
            "/usr/local/lib/python3.10/dist-packages/sklearn/feature_extraction/text.py:528: UserWarning: The parameter 'token_pattern' will not be used since 'tokenizer' is not None'\n",
            "  warnings.warn(\n"
          ]
        },
        {
          "output_type": "stream",
          "name": "stdout",
          "text": [
            "[CV] END clf__C=10.0, clf__penalty=l2, vect__ngram_range=(1, 1), vect__norm=None, vect__tokenizer=<function spacy_tokenizer at 0x7efc952913f0>, vect__use_idf=False; total time=  26.7s\n"
          ]
        },
        {
          "output_type": "stream",
          "name": "stderr",
          "text": [
            "/usr/local/lib/python3.10/dist-packages/sklearn/feature_extraction/text.py:528: UserWarning: The parameter 'token_pattern' will not be used since 'tokenizer' is not None'\n",
            "  warnings.warn(\n"
          ]
        },
        {
          "output_type": "stream",
          "name": "stdout",
          "text": [
            "[CV] END clf__C=100.0, clf__penalty=l1, vect__ngram_range=(1, 1), vect__norm=None, vect__tokenizer=<function spacy_tokenizer at 0x7efc952913f0>, vect__use_idf=False; total time=  26.5s\n"
          ]
        },
        {
          "output_type": "stream",
          "name": "stderr",
          "text": [
            "/usr/local/lib/python3.10/dist-packages/sklearn/feature_extraction/text.py:528: UserWarning: The parameter 'token_pattern' will not be used since 'tokenizer' is not None'\n",
            "  warnings.warn(\n"
          ]
        },
        {
          "output_type": "stream",
          "name": "stdout",
          "text": [
            "[CV] END clf__C=100.0, clf__penalty=l1, vect__ngram_range=(1, 1), vect__norm=None, vect__tokenizer=<function spacy_tokenizer at 0x7efc952913f0>, vect__use_idf=False; total time=  26.7s\n"
          ]
        },
        {
          "output_type": "stream",
          "name": "stderr",
          "text": [
            "/usr/local/lib/python3.10/dist-packages/sklearn/feature_extraction/text.py:528: UserWarning: The parameter 'token_pattern' will not be used since 'tokenizer' is not None'\n",
            "  warnings.warn(\n"
          ]
        },
        {
          "output_type": "stream",
          "name": "stdout",
          "text": [
            "[CV] END clf__C=100.0, clf__penalty=l1, vect__ngram_range=(1, 1), vect__norm=None, vect__tokenizer=<function spacy_tokenizer at 0x7efc952913f0>, vect__use_idf=False; total time=  26.8s\n"
          ]
        },
        {
          "output_type": "stream",
          "name": "stderr",
          "text": [
            "/usr/local/lib/python3.10/dist-packages/sklearn/feature_extraction/text.py:528: UserWarning: The parameter 'token_pattern' will not be used since 'tokenizer' is not None'\n",
            "  warnings.warn(\n"
          ]
        },
        {
          "output_type": "stream",
          "name": "stdout",
          "text": [
            "[CV] END clf__C=100.0, clf__penalty=l1, vect__ngram_range=(1, 1), vect__norm=None, vect__tokenizer=<function spacy_tokenizer at 0x7efc952913f0>, vect__use_idf=False; total time=  27.8s\n"
          ]
        },
        {
          "output_type": "stream",
          "name": "stderr",
          "text": [
            "/usr/local/lib/python3.10/dist-packages/sklearn/feature_extraction/text.py:528: UserWarning: The parameter 'token_pattern' will not be used since 'tokenizer' is not None'\n",
            "  warnings.warn(\n"
          ]
        },
        {
          "output_type": "stream",
          "name": "stdout",
          "text": [
            "[CV] END clf__C=100.0, clf__penalty=l1, vect__ngram_range=(1, 1), vect__norm=None, vect__tokenizer=<function spacy_tokenizer at 0x7efc952913f0>, vect__use_idf=False; total time=  26.6s\n"
          ]
        },
        {
          "output_type": "stream",
          "name": "stderr",
          "text": [
            "/usr/local/lib/python3.10/dist-packages/sklearn/feature_extraction/text.py:528: UserWarning: The parameter 'token_pattern' will not be used since 'tokenizer' is not None'\n",
            "  warnings.warn(\n"
          ]
        },
        {
          "output_type": "stream",
          "name": "stdout",
          "text": [
            "[CV] END clf__C=100.0, clf__penalty=l2, vect__ngram_range=(1, 1), vect__norm=None, vect__tokenizer=<function spacy_tokenizer at 0x7efc952913f0>, vect__use_idf=False; total time=  26.8s\n"
          ]
        },
        {
          "output_type": "stream",
          "name": "stderr",
          "text": [
            "/usr/local/lib/python3.10/dist-packages/sklearn/feature_extraction/text.py:528: UserWarning: The parameter 'token_pattern' will not be used since 'tokenizer' is not None'\n",
            "  warnings.warn(\n"
          ]
        },
        {
          "output_type": "stream",
          "name": "stdout",
          "text": [
            "[CV] END clf__C=100.0, clf__penalty=l2, vect__ngram_range=(1, 1), vect__norm=None, vect__tokenizer=<function spacy_tokenizer at 0x7efc952913f0>, vect__use_idf=False; total time=  26.8s\n"
          ]
        },
        {
          "output_type": "stream",
          "name": "stderr",
          "text": [
            "/usr/local/lib/python3.10/dist-packages/sklearn/feature_extraction/text.py:528: UserWarning: The parameter 'token_pattern' will not be used since 'tokenizer' is not None'\n",
            "  warnings.warn(\n"
          ]
        },
        {
          "output_type": "stream",
          "name": "stdout",
          "text": [
            "[CV] END clf__C=100.0, clf__penalty=l2, vect__ngram_range=(1, 1), vect__norm=None, vect__tokenizer=<function spacy_tokenizer at 0x7efc952913f0>, vect__use_idf=False; total time=  26.7s\n"
          ]
        },
        {
          "output_type": "stream",
          "name": "stderr",
          "text": [
            "/usr/local/lib/python3.10/dist-packages/sklearn/feature_extraction/text.py:528: UserWarning: The parameter 'token_pattern' will not be used since 'tokenizer' is not None'\n",
            "  warnings.warn(\n"
          ]
        },
        {
          "output_type": "stream",
          "name": "stdout",
          "text": [
            "[CV] END clf__C=100.0, clf__penalty=l2, vect__ngram_range=(1, 1), vect__norm=None, vect__tokenizer=<function spacy_tokenizer at 0x7efc952913f0>, vect__use_idf=False; total time=  26.7s\n"
          ]
        },
        {
          "output_type": "stream",
          "name": "stderr",
          "text": [
            "/usr/local/lib/python3.10/dist-packages/sklearn/feature_extraction/text.py:528: UserWarning: The parameter 'token_pattern' will not be used since 'tokenizer' is not None'\n",
            "  warnings.warn(\n"
          ]
        },
        {
          "output_type": "stream",
          "name": "stdout",
          "text": [
            "[CV] END clf__C=100.0, clf__penalty=l2, vect__ngram_range=(1, 1), vect__norm=None, vect__tokenizer=<function spacy_tokenizer at 0x7efc952913f0>, vect__use_idf=False; total time=  26.7s\n"
          ]
        },
        {
          "output_type": "stream",
          "name": "stderr",
          "text": [
            "/usr/local/lib/python3.10/dist-packages/sklearn/feature_extraction/text.py:528: UserWarning: The parameter 'token_pattern' will not be used since 'tokenizer' is not None'\n",
            "  warnings.warn(\n"
          ]
        },
        {
          "output_type": "execute_result",
          "data": {
            "text/plain": [
              "GridSearchCV(cv=5,\n",
              "             estimator=Pipeline(steps=[('vect',\n",
              "                                        TfidfVectorizer(lowercase=False)),\n",
              "                                       ('clf',\n",
              "                                        LogisticRegression(random_state=0,\n",
              "                                                           solver='liblinear'))]),\n",
              "             n_jobs=1,\n",
              "             param_grid=[{'clf__C': [1.0, 10.0, 100.0],\n",
              "                          'clf__penalty': ['l1', 'l2'],\n",
              "                          'vect__ngram_range': [(1, 1)],\n",
              "                          'vect__tokenizer': [<function spacy_tokenizer at 0x7efc952913f0>]},\n",
              "                         {'clf__C': [1.0, 10.0, 100.0],\n",
              "                          'clf__penalty': ['l1', 'l2'],\n",
              "                          'vect__ngram_range': [(1, 1)], 'vect__norm': [None],\n",
              "                          'vect__tokenizer': [<function spacy_tokenizer at 0x7efc952913f0>],\n",
              "                          'vect__use_idf': [False]}],\n",
              "             scoring='accuracy', verbose=2)"
            ],
            "text/html": [
              "<style>#sk-container-id-1 {color: black;background-color: white;}#sk-container-id-1 pre{padding: 0;}#sk-container-id-1 div.sk-toggleable {background-color: white;}#sk-container-id-1 label.sk-toggleable__label {cursor: pointer;display: block;width: 100%;margin-bottom: 0;padding: 0.3em;box-sizing: border-box;text-align: center;}#sk-container-id-1 label.sk-toggleable__label-arrow:before {content: \"▸\";float: left;margin-right: 0.25em;color: #696969;}#sk-container-id-1 label.sk-toggleable__label-arrow:hover:before {color: black;}#sk-container-id-1 div.sk-estimator:hover label.sk-toggleable__label-arrow:before {color: black;}#sk-container-id-1 div.sk-toggleable__content {max-height: 0;max-width: 0;overflow: hidden;text-align: left;background-color: #f0f8ff;}#sk-container-id-1 div.sk-toggleable__content pre {margin: 0.2em;color: black;border-radius: 0.25em;background-color: #f0f8ff;}#sk-container-id-1 input.sk-toggleable__control:checked~div.sk-toggleable__content {max-height: 200px;max-width: 100%;overflow: auto;}#sk-container-id-1 input.sk-toggleable__control:checked~label.sk-toggleable__label-arrow:before {content: \"▾\";}#sk-container-id-1 div.sk-estimator input.sk-toggleable__control:checked~label.sk-toggleable__label {background-color: #d4ebff;}#sk-container-id-1 div.sk-label input.sk-toggleable__control:checked~label.sk-toggleable__label {background-color: #d4ebff;}#sk-container-id-1 input.sk-hidden--visually {border: 0;clip: rect(1px 1px 1px 1px);clip: rect(1px, 1px, 1px, 1px);height: 1px;margin: -1px;overflow: hidden;padding: 0;position: absolute;width: 1px;}#sk-container-id-1 div.sk-estimator {font-family: monospace;background-color: #f0f8ff;border: 1px dotted black;border-radius: 0.25em;box-sizing: border-box;margin-bottom: 0.5em;}#sk-container-id-1 div.sk-estimator:hover {background-color: #d4ebff;}#sk-container-id-1 div.sk-parallel-item::after {content: \"\";width: 100%;border-bottom: 1px solid gray;flex-grow: 1;}#sk-container-id-1 div.sk-label:hover label.sk-toggleable__label {background-color: #d4ebff;}#sk-container-id-1 div.sk-serial::before {content: \"\";position: absolute;border-left: 1px solid gray;box-sizing: border-box;top: 0;bottom: 0;left: 50%;z-index: 0;}#sk-container-id-1 div.sk-serial {display: flex;flex-direction: column;align-items: center;background-color: white;padding-right: 0.2em;padding-left: 0.2em;position: relative;}#sk-container-id-1 div.sk-item {position: relative;z-index: 1;}#sk-container-id-1 div.sk-parallel {display: flex;align-items: stretch;justify-content: center;background-color: white;position: relative;}#sk-container-id-1 div.sk-item::before, #sk-container-id-1 div.sk-parallel-item::before {content: \"\";position: absolute;border-left: 1px solid gray;box-sizing: border-box;top: 0;bottom: 0;left: 50%;z-index: -1;}#sk-container-id-1 div.sk-parallel-item {display: flex;flex-direction: column;z-index: 1;position: relative;background-color: white;}#sk-container-id-1 div.sk-parallel-item:first-child::after {align-self: flex-end;width: 50%;}#sk-container-id-1 div.sk-parallel-item:last-child::after {align-self: flex-start;width: 50%;}#sk-container-id-1 div.sk-parallel-item:only-child::after {width: 0;}#sk-container-id-1 div.sk-dashed-wrapped {border: 1px dashed gray;margin: 0 0.4em 0.5em 0.4em;box-sizing: border-box;padding-bottom: 0.4em;background-color: white;}#sk-container-id-1 div.sk-label label {font-family: monospace;font-weight: bold;display: inline-block;line-height: 1.2em;}#sk-container-id-1 div.sk-label-container {text-align: center;}#sk-container-id-1 div.sk-container {/* jupyter's `normalize.less` sets `[hidden] { display: none; }` but bootstrap.min.css set `[hidden] { display: none !important; }` so we also need the `!important` here to be able to override the default hidden behavior on the sphinx rendered scikit-learn.org. See: https://github.com/scikit-learn/scikit-learn/issues/21755 */display: inline-block !important;position: relative;}#sk-container-id-1 div.sk-text-repr-fallback {display: none;}</style><div id=\"sk-container-id-1\" class=\"sk-top-container\"><div class=\"sk-text-repr-fallback\"><pre>GridSearchCV(cv=5,\n",
              "             estimator=Pipeline(steps=[(&#x27;vect&#x27;,\n",
              "                                        TfidfVectorizer(lowercase=False)),\n",
              "                                       (&#x27;clf&#x27;,\n",
              "                                        LogisticRegression(random_state=0,\n",
              "                                                           solver=&#x27;liblinear&#x27;))]),\n",
              "             n_jobs=1,\n",
              "             param_grid=[{&#x27;clf__C&#x27;: [1.0, 10.0, 100.0],\n",
              "                          &#x27;clf__penalty&#x27;: [&#x27;l1&#x27;, &#x27;l2&#x27;],\n",
              "                          &#x27;vect__ngram_range&#x27;: [(1, 1)],\n",
              "                          &#x27;vect__tokenizer&#x27;: [&lt;function spacy_tokenizer at 0x7efc952913f0&gt;]},\n",
              "                         {&#x27;clf__C&#x27;: [1.0, 10.0, 100.0],\n",
              "                          &#x27;clf__penalty&#x27;: [&#x27;l1&#x27;, &#x27;l2&#x27;],\n",
              "                          &#x27;vect__ngram_range&#x27;: [(1, 1)], &#x27;vect__norm&#x27;: [None],\n",
              "                          &#x27;vect__tokenizer&#x27;: [&lt;function spacy_tokenizer at 0x7efc952913f0&gt;],\n",
              "                          &#x27;vect__use_idf&#x27;: [False]}],\n",
              "             scoring=&#x27;accuracy&#x27;, verbose=2)</pre><b>In a Jupyter environment, please rerun this cell to show the HTML representation or trust the notebook. <br />On GitHub, the HTML representation is unable to render, please try loading this page with nbviewer.org.</b></div><div class=\"sk-container\" hidden><div class=\"sk-item sk-dashed-wrapped\"><div class=\"sk-label-container\"><div class=\"sk-label sk-toggleable\"><input class=\"sk-toggleable__control sk-hidden--visually\" id=\"sk-estimator-id-1\" type=\"checkbox\" ><label for=\"sk-estimator-id-1\" class=\"sk-toggleable__label sk-toggleable__label-arrow\">GridSearchCV</label><div class=\"sk-toggleable__content\"><pre>GridSearchCV(cv=5,\n",
              "             estimator=Pipeline(steps=[(&#x27;vect&#x27;,\n",
              "                                        TfidfVectorizer(lowercase=False)),\n",
              "                                       (&#x27;clf&#x27;,\n",
              "                                        LogisticRegression(random_state=0,\n",
              "                                                           solver=&#x27;liblinear&#x27;))]),\n",
              "             n_jobs=1,\n",
              "             param_grid=[{&#x27;clf__C&#x27;: [1.0, 10.0, 100.0],\n",
              "                          &#x27;clf__penalty&#x27;: [&#x27;l1&#x27;, &#x27;l2&#x27;],\n",
              "                          &#x27;vect__ngram_range&#x27;: [(1, 1)],\n",
              "                          &#x27;vect__tokenizer&#x27;: [&lt;function spacy_tokenizer at 0x7efc952913f0&gt;]},\n",
              "                         {&#x27;clf__C&#x27;: [1.0, 10.0, 100.0],\n",
              "                          &#x27;clf__penalty&#x27;: [&#x27;l1&#x27;, &#x27;l2&#x27;],\n",
              "                          &#x27;vect__ngram_range&#x27;: [(1, 1)], &#x27;vect__norm&#x27;: [None],\n",
              "                          &#x27;vect__tokenizer&#x27;: [&lt;function spacy_tokenizer at 0x7efc952913f0&gt;],\n",
              "                          &#x27;vect__use_idf&#x27;: [False]}],\n",
              "             scoring=&#x27;accuracy&#x27;, verbose=2)</pre></div></div></div><div class=\"sk-parallel\"><div class=\"sk-parallel-item\"><div class=\"sk-item\"><div class=\"sk-label-container\"><div class=\"sk-label sk-toggleable\"><input class=\"sk-toggleable__control sk-hidden--visually\" id=\"sk-estimator-id-2\" type=\"checkbox\" ><label for=\"sk-estimator-id-2\" class=\"sk-toggleable__label sk-toggleable__label-arrow\">estimator: Pipeline</label><div class=\"sk-toggleable__content\"><pre>Pipeline(steps=[(&#x27;vect&#x27;, TfidfVectorizer(lowercase=False)),\n",
              "                (&#x27;clf&#x27;,\n",
              "                 LogisticRegression(random_state=0, solver=&#x27;liblinear&#x27;))])</pre></div></div></div><div class=\"sk-serial\"><div class=\"sk-item\"><div class=\"sk-serial\"><div class=\"sk-item\"><div class=\"sk-estimator sk-toggleable\"><input class=\"sk-toggleable__control sk-hidden--visually\" id=\"sk-estimator-id-3\" type=\"checkbox\" ><label for=\"sk-estimator-id-3\" class=\"sk-toggleable__label sk-toggleable__label-arrow\">TfidfVectorizer</label><div class=\"sk-toggleable__content\"><pre>TfidfVectorizer(lowercase=False)</pre></div></div></div><div class=\"sk-item\"><div class=\"sk-estimator sk-toggleable\"><input class=\"sk-toggleable__control sk-hidden--visually\" id=\"sk-estimator-id-4\" type=\"checkbox\" ><label for=\"sk-estimator-id-4\" class=\"sk-toggleable__label sk-toggleable__label-arrow\">LogisticRegression</label><div class=\"sk-toggleable__content\"><pre>LogisticRegression(random_state=0, solver=&#x27;liblinear&#x27;)</pre></div></div></div></div></div></div></div></div></div></div></div></div>"
            ]
          },
          "metadata": {},
          "execution_count": 21
        }
      ],
      "source": [
        "# Definimos el diccionario de parametros para la busqueda en el gridsearchCV\n",
        "param_grid = [\n",
        "      {'vect__ngram_range': [(1,1)],\n",
        "                'vect__tokenizer': [spacy_tokenizer],\n",
        "                'clf__penalty': ['l1', 'l2'],\n",
        "                'clf__C': [1.0, 10.0, 100.0]},\n",
        "               {'vect__ngram_range': [(1,1)],\n",
        "                'vect__tokenizer': [spacy_tokenizer],\n",
        "                'vect__use_idf':[False],\n",
        "                'vect__norm':[None],\n",
        "                'clf__penalty': ['l1', 'l2'],\n",
        "               'clf__C': [1.0, 10.0, 100.0]}\n",
        "\n",
        "]\n",
        "\n",
        "lr_tfidf = Pipeline([('vect', tfidf),\n",
        "                      ('clf',\n",
        "                       LogisticRegression(random_state=0,\n",
        "                                          solver='liblinear'))])\n",
        "\n",
        "gs_lr_tfidf = GridSearchCV(lr_tfidf, param_grid,\n",
        "                            scoring='accuracy',\n",
        "                            cv=5, verbose=2,\n",
        "                            n_jobs=1)\n",
        "\n",
        "gs_lr_tfidf.fit(X_train, y_train)\n"
      ]
    },
    {
      "cell_type": "markdown",
      "metadata": {
        "id": "JiK69jRVF_TI"
      },
      "source": [
        "\n",
        "- Ademas, en el primer diccinoario estamos utsando TfidVectorizer con sus parametros por defecto para calcular el tf-idfs; en el segundo diccionario estamos usando los parametros use_idf=False, smooth_idf=False, y norm=None para entrenar un modelo basado en frecuencias de terminos brutos.\n",
        "\n",
        "- Finalmente, considere que tambien usamos dos tipos de normalizacion para comparar la fuerza con la que la regresion logistica normaliza los vectores\n",
        "\n",
        "- Ahora, imprimimos el mejor conjunto de parametros que encontramos con el GridSearchCV:"
      ]
    },
    {
      "cell_type": "code",
      "execution_count": null,
      "metadata": {
        "colab": {
          "base_uri": "https://localhost:8080/"
        },
        "id": "9OOwRDYA59j4",
        "outputId": "fa8f516a-b408-46f1-c8a2-1edb4436c4ba"
      },
      "outputs": [
        {
          "output_type": "stream",
          "name": "stdout",
          "text": [
            "Best parameter set: {'clf__C': 100.0, 'clf__penalty': 'l2', 'vect__ngram_range': (1, 1), 'vect__tokenizer': <function spacy_tokenizer at 0x7efc952913f0>} \n"
          ]
        }
      ],
      "source": [
        "print('Best parameter set: %s ' % gs_lr_tfidf.best_params_)"
      ]
    },
    {
      "cell_type": "markdown",
      "metadata": {
        "id": "zfuBGYx9G5g_"
      },
      "source": [
        "- Note que los mejores hiperparametros son:\n",
        "  - C = 100, es decir que tan fuerte es la regularizacion del modelo, en este caso, un valor de 100 puntos significa que el modelo tolera muchos errores en el conjunto de entrenamiento, pero puede tener un sobreajuste que se vera representado en el conjunto de prueba\n",
        "\n",
        "  - penalty = l2, parece que la normalizacion l2 es la que mejor penaliza los vectores en sus normas generando un modelo mas aproximado a la solucion verdadera\n",
        "\n",
        "  - ngram = 1, es decir, que la busqueda nos indica que el mejor valor para cortar las palabras es 1, osea, que usaremos palabras individuales como tokens en vez de conjuntos de palabras\n",
        "\n",
        "- Ahora imprimimos los scores del cross validation 5-fold:"
      ]
    },
    {
      "cell_type": "code",
      "execution_count": null,
      "metadata": {
        "id": "8-Pju7hnIBjh",
        "colab": {
          "base_uri": "https://localhost:8080/"
        },
        "outputId": "136bb91f-9d64-4386-8821-946f413f0cb0"
      },
      "outputs": [
        {
          "output_type": "stream",
          "name": "stdout",
          "text": [
            "CV Accuracy: 0.986\n",
            "Test Accuracy: 0.995\n"
          ]
        }
      ],
      "source": [
        "print('CV Accuracy: %.3f'\n",
        "      % gs_lr_tfidf.best_score_)\n",
        "\n",
        "clf = gs_lr_tfidf.best_estimator_\n",
        "print('Test Accuracy: %.3f'\n",
        "       % clf.score(X_test, y_test))"
      ]
    },
    {
      "cell_type": "markdown",
      "metadata": {
        "id": "x1fg1YJFIMJg"
      },
      "source": [
        "Esto indica que nuestro modelo de machine learning puede clasificar a que etiqueta pertenece el texto con una precision del 99%."
      ]
    },
    {
      "cell_type": "markdown",
      "metadata": {
        "id": "eWwdrf6gJ-5l"
      },
      "source": [
        "- Ahora, podemos poner a entrenar el modelo con los parametros ideales que hemos encontrado:"
      ]
    },
    {
      "cell_type": "code",
      "execution_count": null,
      "metadata": {
        "colab": {
          "base_uri": "https://localhost:8080/"
        },
        "id": "eWyUl64GI5zV",
        "outputId": "94026e3c-c7e6-4e36-abca-f94507fc0215"
      },
      "outputs": [
        {
          "output_type": "stream",
          "name": "stderr",
          "text": [
            "/usr/local/lib/python3.10/dist-packages/sklearn/feature_extraction/text.py:528: UserWarning: The parameter 'token_pattern' will not be used since 'tokenizer' is not None'\n",
            "  warnings.warn(\n",
            "/usr/local/lib/python3.10/dist-packages/sklearn/linear_model/_logistic.py:458: ConvergenceWarning: lbfgs failed to converge (status=1):\n",
            "STOP: TOTAL NO. of ITERATIONS REACHED LIMIT.\n",
            "\n",
            "Increase the number of iterations (max_iter) or scale the data as shown in:\n",
            "    https://scikit-learn.org/stable/modules/preprocessing.html\n",
            "Please also refer to the documentation for alternative solver options:\n",
            "    https://scikit-learn.org/stable/modules/linear_model.html#logistic-regression\n",
            "  n_iter_i = _check_optimize_result(\n"
          ]
        }
      ],
      "source": [
        "best_params = {\n",
        "    'vect': {\n",
        "        'ngram_range': (1, 1),\n",
        "        'tokenizer': spacy_tokenizer,\n",
        "    },\n",
        "    'clf': {\n",
        "        'C': 100.0,\n",
        "        'penalty': 'l2',\n",
        "    }\n",
        "}\n",
        "\n",
        "# Creamos un nuevo pipeline con TfidfVectorizer y LogisticRegression con los mejores parámetros\n",
        "best_lr_tfidf = Pipeline([\n",
        "    ('vect', TfidfVectorizer(**best_params['vect'])),  # Configura el vectorizador con los mejores parámetros\n",
        "    ('clf', LogisticRegression(**best_params['clf']))  # Configura el clasificador con los mejores parámetros\n",
        "])\n",
        "\n",
        "# Ajustamos el nuevo pipeline a los datos de entrenamiento originales\n",
        "best_lr_tfidf.fit(X_train, y_train)\n",
        "\n",
        "# Usamos el modelo para hacer predicciones en tus datos de prueba y asignar etiquetas\n",
        "y_pred = best_lr_tfidf.predict(X_test)"
      ]
    },
    {
      "cell_type": "markdown",
      "metadata": {
        "id": "wX5WQk8fKaIU"
      },
      "source": [
        "- Ahora probemos que tal es el resultado obtenido para los datos de prueba no etiquetados:"
      ]
    },
    {
      "cell_type": "code",
      "execution_count": null,
      "metadata": {
        "colab": {
          "base_uri": "https://localhost:8080/"
        },
        "id": "AkuYL-UlKZaH",
        "outputId": "a9a8e214-8b9d-4151-e194-d69015dce2d0"
      },
      "outputs": [
        {
          "output_type": "execute_result",
          "data": {
            "text/plain": [
              "                                        Textos_espanol  sdg_predict\n",
              "0    [ NUM ] [ NUM ] introduccion estructura derech...           16\n",
              "1    agua subterranea debatido contexto tarificacio...            6\n",
              "2    presente contribucion evalua jurisprudencio tr...           16\n",
              "3    creditir fiscal expirar [ NUM ] wemau [ NUM]a ...            7\n",
              "4    estudio explorar actitud comportamiento percep...           16\n",
              "..                                                 ...          ...\n",
              "975  articulo explorar historia impacto accion afir...           16\n",
              "976  enfasis manipulacion precio financiacion merca...            7\n",
              "977  innovacion importante garantizar soporte efect...            7\n",
              "978  salvador continuo luchar nivel elevado violenc...           16\n",
              "979  reflejar bajo conciencia papel jugar recurso a...            6\n",
              "\n",
              "[980 rows x 2 columns]"
            ],
            "text/html": [
              "\n",
              "  <div id=\"df-90b954a3-3316-4bb2-ab11-90337526f657\" class=\"colab-df-container\">\n",
              "    <div>\n",
              "<style scoped>\n",
              "    .dataframe tbody tr th:only-of-type {\n",
              "        vertical-align: middle;\n",
              "    }\n",
              "\n",
              "    .dataframe tbody tr th {\n",
              "        vertical-align: top;\n",
              "    }\n",
              "\n",
              "    .dataframe thead th {\n",
              "        text-align: right;\n",
              "    }\n",
              "</style>\n",
              "<table border=\"1\" class=\"dataframe\">\n",
              "  <thead>\n",
              "    <tr style=\"text-align: right;\">\n",
              "      <th></th>\n",
              "      <th>Textos_espanol</th>\n",
              "      <th>sdg_predict</th>\n",
              "    </tr>\n",
              "  </thead>\n",
              "  <tbody>\n",
              "    <tr>\n",
              "      <th>0</th>\n",
              "      <td>[ NUM ] [ NUM ] introduccion estructura derech...</td>\n",
              "      <td>16</td>\n",
              "    </tr>\n",
              "    <tr>\n",
              "      <th>1</th>\n",
              "      <td>agua subterranea debatido contexto tarificacio...</td>\n",
              "      <td>6</td>\n",
              "    </tr>\n",
              "    <tr>\n",
              "      <th>2</th>\n",
              "      <td>presente contribucion evalua jurisprudencio tr...</td>\n",
              "      <td>16</td>\n",
              "    </tr>\n",
              "    <tr>\n",
              "      <th>3</th>\n",
              "      <td>creditir fiscal expirar [ NUM ] wemau [ NUM]a ...</td>\n",
              "      <td>7</td>\n",
              "    </tr>\n",
              "    <tr>\n",
              "      <th>4</th>\n",
              "      <td>estudio explorar actitud comportamiento percep...</td>\n",
              "      <td>16</td>\n",
              "    </tr>\n",
              "    <tr>\n",
              "      <th>...</th>\n",
              "      <td>...</td>\n",
              "      <td>...</td>\n",
              "    </tr>\n",
              "    <tr>\n",
              "      <th>975</th>\n",
              "      <td>articulo explorar historia impacto accion afir...</td>\n",
              "      <td>16</td>\n",
              "    </tr>\n",
              "    <tr>\n",
              "      <th>976</th>\n",
              "      <td>enfasis manipulacion precio financiacion merca...</td>\n",
              "      <td>7</td>\n",
              "    </tr>\n",
              "    <tr>\n",
              "      <th>977</th>\n",
              "      <td>innovacion importante garantizar soporte efect...</td>\n",
              "      <td>7</td>\n",
              "    </tr>\n",
              "    <tr>\n",
              "      <th>978</th>\n",
              "      <td>salvador continuo luchar nivel elevado violenc...</td>\n",
              "      <td>16</td>\n",
              "    </tr>\n",
              "    <tr>\n",
              "      <th>979</th>\n",
              "      <td>reflejar bajo conciencia papel jugar recurso a...</td>\n",
              "      <td>6</td>\n",
              "    </tr>\n",
              "  </tbody>\n",
              "</table>\n",
              "<p>980 rows × 2 columns</p>\n",
              "</div>\n",
              "    <div class=\"colab-df-buttons\">\n",
              "\n",
              "  <div class=\"colab-df-container\">\n",
              "    <button class=\"colab-df-convert\" onclick=\"convertToInteractive('df-90b954a3-3316-4bb2-ab11-90337526f657')\"\n",
              "            title=\"Convert this dataframe to an interactive table.\"\n",
              "            style=\"display:none;\">\n",
              "\n",
              "  <svg xmlns=\"http://www.w3.org/2000/svg\" height=\"24px\" viewBox=\"0 -960 960 960\">\n",
              "    <path d=\"M120-120v-720h720v720H120Zm60-500h600v-160H180v160Zm220 220h160v-160H400v160Zm0 220h160v-160H400v160ZM180-400h160v-160H180v160Zm440 0h160v-160H620v160ZM180-180h160v-160H180v160Zm440 0h160v-160H620v160Z\"/>\n",
              "  </svg>\n",
              "    </button>\n",
              "\n",
              "  <style>\n",
              "    .colab-df-container {\n",
              "      display:flex;\n",
              "      gap: 12px;\n",
              "    }\n",
              "\n",
              "    .colab-df-convert {\n",
              "      background-color: #E8F0FE;\n",
              "      border: none;\n",
              "      border-radius: 50%;\n",
              "      cursor: pointer;\n",
              "      display: none;\n",
              "      fill: #1967D2;\n",
              "      height: 32px;\n",
              "      padding: 0 0 0 0;\n",
              "      width: 32px;\n",
              "    }\n",
              "\n",
              "    .colab-df-convert:hover {\n",
              "      background-color: #E2EBFA;\n",
              "      box-shadow: 0px 1px 2px rgba(60, 64, 67, 0.3), 0px 1px 3px 1px rgba(60, 64, 67, 0.15);\n",
              "      fill: #174EA6;\n",
              "    }\n",
              "\n",
              "    .colab-df-buttons div {\n",
              "      margin-bottom: 4px;\n",
              "    }\n",
              "\n",
              "    [theme=dark] .colab-df-convert {\n",
              "      background-color: #3B4455;\n",
              "      fill: #D2E3FC;\n",
              "    }\n",
              "\n",
              "    [theme=dark] .colab-df-convert:hover {\n",
              "      background-color: #434B5C;\n",
              "      box-shadow: 0px 1px 3px 1px rgba(0, 0, 0, 0.15);\n",
              "      filter: drop-shadow(0px 1px 2px rgba(0, 0, 0, 0.3));\n",
              "      fill: #FFFFFF;\n",
              "    }\n",
              "  </style>\n",
              "\n",
              "    <script>\n",
              "      const buttonEl =\n",
              "        document.querySelector('#df-90b954a3-3316-4bb2-ab11-90337526f657 button.colab-df-convert');\n",
              "      buttonEl.style.display =\n",
              "        google.colab.kernel.accessAllowed ? 'block' : 'none';\n",
              "\n",
              "      async function convertToInteractive(key) {\n",
              "        const element = document.querySelector('#df-90b954a3-3316-4bb2-ab11-90337526f657');\n",
              "        const dataTable =\n",
              "          await google.colab.kernel.invokeFunction('convertToInteractive',\n",
              "                                                    [key], {});\n",
              "        if (!dataTable) return;\n",
              "\n",
              "        const docLinkHtml = 'Like what you see? Visit the ' +\n",
              "          '<a target=\"_blank\" href=https://colab.research.google.com/notebooks/data_table.ipynb>data table notebook</a>'\n",
              "          + ' to learn more about interactive tables.';\n",
              "        element.innerHTML = '';\n",
              "        dataTable['output_type'] = 'display_data';\n",
              "        await google.colab.output.renderOutput(dataTable, element);\n",
              "        const docLink = document.createElement('div');\n",
              "        docLink.innerHTML = docLinkHtml;\n",
              "        element.appendChild(docLink);\n",
              "      }\n",
              "    </script>\n",
              "  </div>\n",
              "\n",
              "\n",
              "<div id=\"df-7819815d-7feb-409b-bee7-90f1ac65d8da\">\n",
              "  <button class=\"colab-df-quickchart\" onclick=\"quickchart('df-7819815d-7feb-409b-bee7-90f1ac65d8da')\"\n",
              "            title=\"Suggest charts.\"\n",
              "            style=\"display:none;\">\n",
              "\n",
              "<svg xmlns=\"http://www.w3.org/2000/svg\" height=\"24px\"viewBox=\"0 0 24 24\"\n",
              "     width=\"24px\">\n",
              "    <g>\n",
              "        <path d=\"M19 3H5c-1.1 0-2 .9-2 2v14c0 1.1.9 2 2 2h14c1.1 0 2-.9 2-2V5c0-1.1-.9-2-2-2zM9 17H7v-7h2v7zm4 0h-2V7h2v10zm4 0h-2v-4h2v4z\"/>\n",
              "    </g>\n",
              "</svg>\n",
              "  </button>\n",
              "\n",
              "<style>\n",
              "  .colab-df-quickchart {\n",
              "      --bg-color: #E8F0FE;\n",
              "      --fill-color: #1967D2;\n",
              "      --hover-bg-color: #E2EBFA;\n",
              "      --hover-fill-color: #174EA6;\n",
              "      --disabled-fill-color: #AAA;\n",
              "      --disabled-bg-color: #DDD;\n",
              "  }\n",
              "\n",
              "  [theme=dark] .colab-df-quickchart {\n",
              "      --bg-color: #3B4455;\n",
              "      --fill-color: #D2E3FC;\n",
              "      --hover-bg-color: #434B5C;\n",
              "      --hover-fill-color: #FFFFFF;\n",
              "      --disabled-bg-color: #3B4455;\n",
              "      --disabled-fill-color: #666;\n",
              "  }\n",
              "\n",
              "  .colab-df-quickchart {\n",
              "    background-color: var(--bg-color);\n",
              "    border: none;\n",
              "    border-radius: 50%;\n",
              "    cursor: pointer;\n",
              "    display: none;\n",
              "    fill: var(--fill-color);\n",
              "    height: 32px;\n",
              "    padding: 0;\n",
              "    width: 32px;\n",
              "  }\n",
              "\n",
              "  .colab-df-quickchart:hover {\n",
              "    background-color: var(--hover-bg-color);\n",
              "    box-shadow: 0 1px 2px rgba(60, 64, 67, 0.3), 0 1px 3px 1px rgba(60, 64, 67, 0.15);\n",
              "    fill: var(--button-hover-fill-color);\n",
              "  }\n",
              "\n",
              "  .colab-df-quickchart-complete:disabled,\n",
              "  .colab-df-quickchart-complete:disabled:hover {\n",
              "    background-color: var(--disabled-bg-color);\n",
              "    fill: var(--disabled-fill-color);\n",
              "    box-shadow: none;\n",
              "  }\n",
              "\n",
              "  .colab-df-spinner {\n",
              "    border: 2px solid var(--fill-color);\n",
              "    border-color: transparent;\n",
              "    border-bottom-color: var(--fill-color);\n",
              "    animation:\n",
              "      spin 1s steps(1) infinite;\n",
              "  }\n",
              "\n",
              "  @keyframes spin {\n",
              "    0% {\n",
              "      border-color: transparent;\n",
              "      border-bottom-color: var(--fill-color);\n",
              "      border-left-color: var(--fill-color);\n",
              "    }\n",
              "    20% {\n",
              "      border-color: transparent;\n",
              "      border-left-color: var(--fill-color);\n",
              "      border-top-color: var(--fill-color);\n",
              "    }\n",
              "    30% {\n",
              "      border-color: transparent;\n",
              "      border-left-color: var(--fill-color);\n",
              "      border-top-color: var(--fill-color);\n",
              "      border-right-color: var(--fill-color);\n",
              "    }\n",
              "    40% {\n",
              "      border-color: transparent;\n",
              "      border-right-color: var(--fill-color);\n",
              "      border-top-color: var(--fill-color);\n",
              "    }\n",
              "    60% {\n",
              "      border-color: transparent;\n",
              "      border-right-color: var(--fill-color);\n",
              "    }\n",
              "    80% {\n",
              "      border-color: transparent;\n",
              "      border-right-color: var(--fill-color);\n",
              "      border-bottom-color: var(--fill-color);\n",
              "    }\n",
              "    90% {\n",
              "      border-color: transparent;\n",
              "      border-bottom-color: var(--fill-color);\n",
              "    }\n",
              "  }\n",
              "</style>\n",
              "\n",
              "  <script>\n",
              "    async function quickchart(key) {\n",
              "      const quickchartButtonEl =\n",
              "        document.querySelector('#' + key + ' button');\n",
              "      quickchartButtonEl.disabled = true;  // To prevent multiple clicks.\n",
              "      quickchartButtonEl.classList.add('colab-df-spinner');\n",
              "      try {\n",
              "        const charts = await google.colab.kernel.invokeFunction(\n",
              "            'suggestCharts', [key], {});\n",
              "      } catch (error) {\n",
              "        console.error('Error during call to suggestCharts:', error);\n",
              "      }\n",
              "      quickchartButtonEl.classList.remove('colab-df-spinner');\n",
              "      quickchartButtonEl.classList.add('colab-df-quickchart-complete');\n",
              "    }\n",
              "    (() => {\n",
              "      let quickchartButtonEl =\n",
              "        document.querySelector('#df-7819815d-7feb-409b-bee7-90f1ac65d8da button');\n",
              "      quickchartButtonEl.style.display =\n",
              "        google.colab.kernel.accessAllowed ? 'block' : 'none';\n",
              "    })();\n",
              "  </script>\n",
              "</div>\n",
              "    </div>\n",
              "  </div>\n"
            ]
          },
          "metadata": {},
          "execution_count": 25
        }
      ],
      "source": [
        "# Cargamos el nuevo archivo CSV que contiene solo la columna 'Textos_espanol'\n",
        "nuevo_data = pd.read_excel('./data/SinEtiquetatest_cat_6716.xlsx')\n",
        "\n",
        "# Limpiamos y preparamos el nuevo data set\n",
        "nuevo_data['Textos_espanol'] = nuevo_data['Textos_espanol'].apply(preprocessor)\n",
        "nuevo_data['Textos_espanol'] = nuevo_data['Textos_espanol'].str.replace('Ã¡', 'a')\n",
        "nuevo_data['Textos_espanol'] = nuevo_data['Textos_espanol'].str.replace('Ã©', 'e')\n",
        "nuevo_data['Textos_espanol'] = nuevo_data['Textos_espanol'].str.replace('Ã³', 'o')\n",
        "nuevo_data['Textos_espanol'] = nuevo_data['Textos_espanol'].str.replace('Ã±', 'ñ')\n",
        "nuevo_data['Textos_espanol'] = nuevo_data['Textos_espanol'].str.replace('Ã', 'i')\n",
        "nuevo_data['Textos_espanol'] = nuevo_data['Textos_espanol'].apply(tokenizar)\n",
        "nuevo_data['Textos_espanol'] = nuevo_data['Textos_espanol'].apply(lambda x: ' '.join(map(str, x)))\n",
        "\n",
        "X_nuevo = nuevo_data['Textos_espanol'].values\n",
        "\n",
        "# Realizamos las predicciones en el nuevo archivo\n",
        "y_pred_nuevo = best_lr_tfidf.predict(X_nuevo)\n",
        "\n",
        "nuevo_data['sdg_predict'] = y_pred_nuevo\n",
        "nuevo_data.drop(columns=['sdg'], inplace=True)\n",
        "\n",
        "# Guardamos el nuevo resultado etiquetado en un archivo\n",
        "nuevo_data.to_csv('etiquetas_predichas_Tfidf.csv', index=False)\n",
        "nuevo_data"
      ]
    },
    {
      "cell_type": "markdown",
      "metadata": {
        "id": "EE8cbQYILqPc"
      },
      "source": [
        "Miremos la matriz de confusion para analizar que tal fue el desempeño del modelo para los falsos negativos y los positivos verdaderos:"
      ]
    },
    {
      "cell_type": "code",
      "execution_count": null,
      "metadata": {
        "colab": {
          "base_uri": "https://localhost:8080/",
          "height": 54
        },
        "id": "gqypMBoaLphR",
        "outputId": "c1e83034-3276-427f-ea75-ea989310cd41"
      },
      "outputs": [
        {
          "output_type": "display_data",
          "data": {
            "text/plain": [
              "<Figure size 800x600 with 2 Axes>"
            ],
            "image/png": "[encoded data removed]"
          },
          "metadata": {}
        }
      ],
      "source": [
        "cm = confusion_matrix(y_test, y_pred)\n",
        "\n",
        "# Creamos una visualización de la matriz de confusión\n",
        "plt.figure(figsize=(8, 6))\n",
        "sns.heatmap(cm, annot=True, fmt=\"d\", cmap=\"Spectral\", linewidths=.5, square=True, cbar=True)\n",
        "plt.xlabel('Predicciones')\n",
        "plt.ylabel('Etiquetas Verdaderas')\n",
        "plt.title('Matriz de Confusión')\n",
        "plt.show()"
      ]
    },
    {
      "cell_type": "markdown",
      "metadata": {
        "id": "o-m-ejtNNYP1"
      },
      "source": [
        "Finalmente observemos la relacion armonica entre la precision y la exactitud de nuestro modelo atraves de el puntaje f1-score:"
      ]
    },
    {
      "cell_type": "code",
      "execution_count": null,
      "metadata": {
        "colab": {
          "base_uri": "https://localhost:8080/"
        },
        "id": "0u_ui4YmNefc",
        "outputId": "f289b25a-847a-48d3-e9d7-0d141876ce4b"
      },
      "outputs": [
        {
          "output_type": "stream",
          "name": "stdout",
          "text": [
            "F1-score: 0.9966555183946489\n"
          ]
        }
      ],
      "source": [
        "\n",
        "# Calcula el F1-score\n",
        "f1 = f1_score(y_test, y_pred, average='weighted')\n",
        "print(\"F1-score:\", f1)"
      ]
    },
    {
      "cell_type": "markdown",
      "metadata": {
        "id": "hKmKloWRUR76"
      },
      "source": [
        "#4. Implementacion del modelo (bag of words)"
      ]
    },
    {
      "cell_type": "markdown",
      "metadata": {
        "id": "b_cyaZCMd0fX"
      },
      "source": [
        " Bag of words consiste en representar un texto como una colección desordenada de palabras, ignorando el orden y la estructura gramatical. Se crea un \"saco de palabras\" que contiene todas las palabras únicas en un corpus de texto y se cuentan cuántas veces aparece cada palabra en un documento específico. Esta representación se utiliza para construir características numéricas que alimentan algoritmos de machine learning, permitiendo analizar y comparar textos en función de la frecuencia de palabras. A pesar de su simplicidad, el BoW es efectivo en tareas como la clasificación de documentos y la recuperación de información.\n",
        " <br>\n",
        " En este caso vamos a utilziar bag of words junto con el clasificador Naive Bayes. Ya estos dos funcionan muy bien juntos.\n",
        " El clasificador Naive Bayes es un algoritmo de aprendizaje supervisado que se basa en el teorema de Bayes para realizar tareas de clasificación. A pesar de su simplicidad, a menudo funciona muy bien en una variedad de aplicaciones, como la clasificación de texto, detección de spam, diagnóstico médico y más."
      ]
    },
    {
      "cell_type": "markdown",
      "metadata": {
        "id": "QiBMNAiNSOVo"
      },
      "source": [
        "##4.1 Variable objetivo"
      ]
    },
    {
      "cell_type": "markdown",
      "metadata": {
        "id": "byLOnACIST8x"
      },
      "source": [
        "Vamos a usar la misma variable objetivo y de entrada que en el modelo anterior ya que lo que buscamos es clasificar los textos segun el ODS"
      ]
    },
    {
      "cell_type": "code",
      "execution_count": null,
      "metadata": {
        "colab": {
          "base_uri": "https://localhost:8080/"
        },
        "id": "pdZWBPDBSgCH",
        "outputId": "477a6cf8-ef63-4029-d91d-ba18cbd7e577"
      },
      "outputs": [
        {
          "name": "stdout",
          "output_type": "stream",
          "text": [
            "3000\n"
          ]
        }
      ],
      "source": [
        "Y = data['sdg']\n",
        "\n",
        "X = data.drop(['sdg'], axis=1)\n",
        "\n",
        "num_muestras = data.shape[0]\n",
        "print(num_muestras)"
      ]
    },
    {
      "cell_type": "markdown",
      "metadata": {
        "id": "BmIwltAoexku"
      },
      "source": [
        "### 4.2 Transformacion de las palabras en vectores"
      ]
    },
    {
      "cell_type": "code",
      "execution_count": null,
      "metadata": {
        "colab": {
          "base_uri": "https://localhost:8080/"
        },
        "id": "IEPE_SQae2WA",
        "outputId": "2a701526-ec33-493e-fc39-f40db050c7d2"
      },
      "outputs": [
        {
          "name": "stdout",
          "output_type": "stream",
          "text": [
            "(2401, 16381) (2401,)\n"
          ]
        }
      ],
      "source": [
        "X_train = data.loc[:2400, 'Textos_espanol'].values\n",
        "y_train = data.loc[:2400, 'sdg'].values\n",
        "X_test = data.loc[2400:, 'Textos_espanol'].values\n",
        "y_test = data.loc[2400:, 'sdg'].values\n",
        "\n",
        "# Crear un vectorizador\n",
        "count = CountVectorizer()\n",
        "\n",
        "# Ajustar y transformar los datos de entrenamiento\n",
        "train_bag = count.fit_transform(X_train)\n",
        "\n",
        "# Transformar los datos de prueba\n",
        "test_bag = count.transform(X_test)\n",
        "\n",
        "print(train_bag.shape, y_train.shape)\n",
        "\n"
      ]
    },
    {
      "cell_type": "markdown",
      "metadata": {
        "id": "cEleo_NrYJSa"
      },
      "source": [
        "Se dividieron los datos de esta forma ya que la tradicional suele dar problemas por las dimensiones de los datos"
      ]
    },
    {
      "cell_type": "markdown",
      "metadata": {
        "id": "ZXQT3PO4FYip"
      },
      "source": [
        "### 4.3 Entrenamiento"
      ]
    },
    {
      "cell_type": "markdown",
      "metadata": {
        "id": "W527jbP9DgFJ"
      },
      "source": [
        "Para Naive Bayes se utilizara una distribución multinomial, ya que es la que mejor encaja con nuestra distribucion de datos. Y el aplha en 1 para que las palabras poco frecuentes no afecten el modelo."
      ]
    },
    {
      "cell_type": "code",
      "execution_count": null,
      "metadata": {
        "id": "hvd4HqzuFZBh"
      },
      "outputs": [],
      "source": [
        "# Crear y entrenar el modelo\n",
        "bagmodel = MultinomialNB(alpha=1.0)\n",
        "bagmodel.fit(train_bag, y_train)\n",
        "\n",
        "# Realizar predicciones\n",
        "y_pred = bagmodel.predict(test_bag)\n",
        "\n"
      ]
    },
    {
      "cell_type": "markdown",
      "metadata": {
        "id": "w-CGNTWfIbBV"
      },
      "source": [
        "###4.4 Resultados y metricas"
      ]
    },
    {
      "cell_type": "code",
      "execution_count": null,
      "metadata": {
        "colab": {
          "base_uri": "https://localhost:8080/"
        },
        "id": "77109chlIe3i",
        "outputId": "49e95201-5d9c-47ca-c48c-1e28938e5054"
      },
      "outputs": [
        {
          "name": "stdout",
          "output_type": "stream",
          "text": [
            "Precisión del modelo: 0.9933333333333333\n"
          ]
        }
      ],
      "source": [
        "accuracy = accuracy_score(y_test, y_pred)\n",
        "print(\"Precisión del modelo:\", accuracy)"
      ]
    },
    {
      "cell_type": "code",
      "execution_count": null,
      "metadata": {
        "colab": {
          "base_uri": "https://localhost:8080/"
        },
        "id": "noCTY0JIEUuH",
        "outputId": "3ba30ec9-31c6-42cd-8de8-0641e8a9ebda"
      },
      "outputs": [
        {
          "name": "stdout",
          "output_type": "stream",
          "text": [
            "Precisión (Precision): 1.00\n"
          ]
        }
      ],
      "source": [
        "precision = precision_score(y_test, y_pred, average='weighted')\n",
        "print(f\"Precisión (Precision): {precision:.2f}\")\n"
      ]
    },
    {
      "cell_type": "markdown",
      "metadata": {
        "id": "DDeJL70iXucq"
      },
      "source": [
        "Una alta precisión significa que la mayoría de las predicciones positivas son correctas."
      ]
    },
    {
      "cell_type": "code",
      "execution_count": null,
      "metadata": {
        "colab": {
          "base_uri": "https://localhost:8080/"
        },
        "id": "9IczLVNFXRkl",
        "outputId": "b32d517c-e8c4-4cef-9638-44806e3c3ca9"
      },
      "outputs": [
        {
          "name": "stdout",
          "output_type": "stream",
          "text": [
            "Recuperación (Recall): 0.99\n"
          ]
        },
        {
          "name": "stderr",
          "output_type": "stream",
          "text": [
            "/usr/local/lib/python3.10/dist-packages/sklearn/metrics/_classification.py:1344: UndefinedMetricWarning: Recall is ill-defined and being set to 0.0 in labels with no true samples. Use `zero_division` parameter to control this behavior.\n",
            "  _warn_prf(average, modifier, msg_start, len(result))\n"
          ]
        }
      ],
      "source": [
        "recall = recall_score(y_test, y_pred, average='weighted')\n",
        "print(f\"Recuperación (Recall): {recall:.2f}\")\n"
      ]
    },
    {
      "cell_type": "markdown",
      "metadata": {
        "id": "mxkoq-gqXxmR"
      },
      "source": [
        " Una alta recuperación significa que el modelo puede encontrar la mayoría de los ejemplos positivos en el conjunto de datos."
      ]
    },
    {
      "cell_type": "code",
      "execution_count": null,
      "metadata": {
        "colab": {
          "base_uri": "https://localhost:8080/"
        },
        "id": "6kL0ECvKXWIA",
        "outputId": "38f4c919-ffa6-4f02-f993-e72d255724e3"
      },
      "outputs": [
        {
          "name": "stdout",
          "output_type": "stream",
          "text": [
            "Puntuación F1 (F1 Score): 1.00\n"
          ]
        }
      ],
      "source": [
        "f1 = f1_score(y_test, y_pred, average='weighted')\n",
        "print(f\"Puntuación F1 (F1 Score): {f1:.2f}\")\n"
      ]
    },
    {
      "cell_type": "markdown",
      "metadata": {
        "id": "41mw8Ey6Xm1x"
      },
      "source": [
        "un puntaje F1 alto refleja un buen equilibrio entre la capacidad del modelo para hacer predicciones precisas y su capacidad para encontrar ejemplos positivos en el conjunto de datos, lo que lo convierte en una métrica valiosa para evaluar el rendimiento de un modelo de clasificación."
      ]
    },
    {
      "cell_type": "markdown",
      "metadata": {
        "id": "teZXCsns-pam"
      },
      "source": [
        "Como se puede ver el modelo tiene una alta precisión, por lo que se puede considerar util para el negocio."
      ]
    },
    {
      "cell_type": "code",
      "execution_count": null,
      "metadata": {
        "colab": {
          "base_uri": "https://localhost:8080/"
        },
        "id": "XISCLJm7-nHF",
        "outputId": "40216343-76ae-4b8a-d9e2-4d78c0f7ef6b"
      },
      "outputs": [
        {
          "data": {
            "image/png": "[encoded data removed]",
            "text/plain": [
              "<Figure size 640x480 with 2 Axes>"
            ]
          },
          "metadata": {},
          "output_type": "display_data"
        }
      ],
      "source": [
        "confusion = confusion_matrix(y_test, y_pred)\n",
        "\n",
        "# Crea una gráfica de matriz de confusión\n",
        "sns.heatmap(confusion, annot=True, fmt=\"d\", cmap=\"Blues\" ,square=True, cbar=True)\n",
        "plt.xlabel(\"Predicciones\")\n",
        "plt.ylabel(\"Valores Verdaderos\")\n",
        "plt.title(\"Matriz de Confusión\")\n",
        "plt.show()\n",
        "\n"
      ]
    },
    {
      "cell_type": "markdown",
      "metadata": {
        "id": "MHPLVFyJ7atC"
      },
      "source": [
        "Aunque una matriz de confusión no es la mejor manera de analizar los resultados, podemos ver que solo hubo 4 predicciones fallidas en el modelo. Lo cual es una muestra de su alta calidad."
      ]
    },
    {
      "cell_type": "markdown",
      "metadata": {
        "id": "kGcmEEOfEtqO"
      },
      "source": [
        "### 4.5 Aplicación a datos sin etiquetar"
      ]
    },
    {
      "cell_type": "code",
      "execution_count": null,
      "metadata": {
        "colab": {
          "base_uri": "https://localhost:8080/"
        },
        "id": "dRcYyWzeg4GO",
        "outputId": "fea87cc9-d054-4e8d-c0ad-c4ad767de813"
      },
      "outputs": [
        {
          "data": {
            "text/html": [
              "\n",
              "  <div id=\"df-27901cab-a97c-4c00-aa8f-42aee5e803ef\" class=\"colab-df-container\">\n",
              "    <div>\n",
              "<style scoped>\n",
              "    .dataframe tbody tr th:only-of-type {\n",
              "        vertical-align: middle;\n",
              "    }\n",
              "\n",
              "    .dataframe tbody tr th {\n",
              "        vertical-align: top;\n",
              "    }\n",
              "\n",
              "    .dataframe thead th {\n",
              "        text-align: right;\n",
              "    }\n",
              "</style>\n",
              "<table border=\"1\" class=\"dataframe\">\n",
              "  <thead>\n",
              "    <tr style=\"text-align: right;\">\n",
              "      <th></th>\n",
              "      <th>Textos_espanol</th>\n",
              "      <th>sdg_predict</th>\n",
              "    </tr>\n",
              "  </thead>\n",
              "  <tbody>\n",
              "    <tr>\n",
              "      <th>0</th>\n",
              "      <td>[ NUM ] [ NUM ] introduccion estructura derech...</td>\n",
              "      <td>16</td>\n",
              "    </tr>\n",
              "    <tr>\n",
              "      <th>1</th>\n",
              "      <td>agua subterranea debatido contexto tarificacio...</td>\n",
              "      <td>6</td>\n",
              "    </tr>\n",
              "    <tr>\n",
              "      <th>2</th>\n",
              "      <td>presente contribucion evalua jurisprudencio tr...</td>\n",
              "      <td>16</td>\n",
              "    </tr>\n",
              "    <tr>\n",
              "      <th>3</th>\n",
              "      <td>creditir fiscal expirar [ NUM ] wemau [ NUM]a ...</td>\n",
              "      <td>7</td>\n",
              "    </tr>\n",
              "    <tr>\n",
              "      <th>4</th>\n",
              "      <td>estudio explorar actitud comportamiento percep...</td>\n",
              "      <td>16</td>\n",
              "    </tr>\n",
              "    <tr>\n",
              "      <th>...</th>\n",
              "      <td>...</td>\n",
              "      <td>...</td>\n",
              "    </tr>\n",
              "    <tr>\n",
              "      <th>975</th>\n",
              "      <td>articulo explorar historia impacto accion afir...</td>\n",
              "      <td>16</td>\n",
              "    </tr>\n",
              "    <tr>\n",
              "      <th>976</th>\n",
              "      <td>enfasis manipulacion precio financiacion merca...</td>\n",
              "      <td>7</td>\n",
              "    </tr>\n",
              "    <tr>\n",
              "      <th>977</th>\n",
              "      <td>innovacion importante garantizar soporte efect...</td>\n",
              "      <td>7</td>\n",
              "    </tr>\n",
              "    <tr>\n",
              "      <th>978</th>\n",
              "      <td>salvador continuo luchar nivel elevado violenc...</td>\n",
              "      <td>16</td>\n",
              "    </tr>\n",
              "    <tr>\n",
              "      <th>979</th>\n",
              "      <td>reflejar bajo conciencia papel jugar recurso a...</td>\n",
              "      <td>6</td>\n",
              "    </tr>\n",
              "  </tbody>\n",
              "</table>\n",
              "<p>980 rows × 2 columns</p>\n",
              "</div>\n",
              "    <div class=\"colab-df-buttons\">\n",
              "\n",
              "  <div class=\"colab-df-container\">\n",
              "    <button class=\"colab-df-convert\" onclick=\"convertToInteractive('df-27901cab-a97c-4c00-aa8f-42aee5e803ef')\"\n",
              "            title=\"Convert this dataframe to an interactive table.\"\n",
              "            style=\"display:none;\">\n",
              "\n",
              "  <svg xmlns=\"http://www.w3.org/2000/svg\" height=\"24px\" viewBox=\"0 -960 960 960\">\n",
              "    <path d=\"M120-120v-720h720v720H120Zm60-500h600v-160H180v160Zm220 220h160v-160H400v160Zm0 220h160v-160H400v160ZM180-400h160v-160H180v160Zm440 0h160v-160H620v160ZM180-180h160v-160H180v160Zm440 0h160v-160H620v160Z\"/>\n",
              "  </svg>\n",
              "    </button>\n",
              "\n",
              "  <style>\n",
              "    .colab-df-container {\n",
              "      display:flex;\n",
              "      gap: 12px;\n",
              "    }\n",
              "\n",
              "    .colab-df-convert {\n",
              "      background-color: #E8F0FE;\n",
              "      border: none;\n",
              "      border-radius: 50%;\n",
              "      cursor: pointer;\n",
              "      display: none;\n",
              "      fill: #1967D2;\n",
              "      height: 32px;\n",
              "      padding: 0 0 0 0;\n",
              "      width: 32px;\n",
              "    }\n",
              "\n",
              "    .colab-df-convert:hover {\n",
              "      background-color: #E2EBFA;\n",
              "      box-shadow: 0px 1px 2px rgba(60, 64, 67, 0.3), 0px 1px 3px 1px rgba(60, 64, 67, 0.15);\n",
              "      fill: #174EA6;\n",
              "    }\n",
              "\n",
              "    .colab-df-buttons div {\n",
              "      margin-bottom: 4px;\n",
              "    }\n",
              "\n",
              "    [theme=dark] .colab-df-convert {\n",
              "      background-color: #3B4455;\n",
              "      fill: #D2E3FC;\n",
              "    }\n",
              "\n",
              "    [theme=dark] .colab-df-convert:hover {\n",
              "      background-color: #434B5C;\n",
              "      box-shadow: 0px 1px 3px 1px rgba(0, 0, 0, 0.15);\n",
              "      filter: drop-shadow(0px 1px 2px rgba(0, 0, 0, 0.3));\n",
              "      fill: #FFFFFF;\n",
              "    }\n",
              "  </style>\n",
              "\n",
              "    <script>\n",
              "      const buttonEl =\n",
              "        document.querySelector('#df-27901cab-a97c-4c00-aa8f-42aee5e803ef button.colab-df-convert');\n",
              "      buttonEl.style.display =\n",
              "        google.colab.kernel.accessAllowed ? 'block' : 'none';\n",
              "\n",
              "      async function convertToInteractive(key) {\n",
              "        const element = document.querySelector('#df-27901cab-a97c-4c00-aa8f-42aee5e803ef');\n",
              "        const dataTable =\n",
              "          await google.colab.kernel.invokeFunction('convertToInteractive',\n",
              "                                                    [key], {});\n",
              "        if (!dataTable) return;\n",
              "\n",
              "        const docLinkHtml = 'Like what you see? Visit the ' +\n",
              "          '<a target=\"_blank\" href=https://colab.research.google.com/notebooks/data_table.ipynb>data table notebook</a>'\n",
              "          + ' to learn more about interactive tables.';\n",
              "        element.innerHTML = '';\n",
              "        dataTable['output_type'] = 'display_data';\n",
              "        await google.colab.output.renderOutput(dataTable, element);\n",
              "        const docLink = document.createElement('div');\n",
              "        docLink.innerHTML = docLinkHtml;\n",
              "        element.appendChild(docLink);\n",
              "      }\n",
              "    </script>\n",
              "  </div>\n",
              "\n",
              "\n",
              "<div id=\"df-ab1f30c8-0f39-43f7-91c5-de08a333a412\">\n",
              "  <button class=\"colab-df-quickchart\" onclick=\"quickchart('df-ab1f30c8-0f39-43f7-91c5-de08a333a412')\"\n",
              "            title=\"Suggest charts.\"\n",
              "            style=\"display:none;\">\n",
              "\n",
              "<svg xmlns=\"http://www.w3.org/2000/svg\" height=\"24px\"viewBox=\"0 0 24 24\"\n",
              "     width=\"24px\">\n",
              "    <g>\n",
              "        <path d=\"M19 3H5c-1.1 0-2 .9-2 2v14c0 1.1.9 2 2 2h14c1.1 0 2-.9 2-2V5c0-1.1-.9-2-2-2zM9 17H7v-7h2v7zm4 0h-2V7h2v10zm4 0h-2v-4h2v4z\"/>\n",
              "    </g>\n",
              "</svg>\n",
              "  </button>\n",
              "\n",
              "<style>\n",
              "  .colab-df-quickchart {\n",
              "      --bg-color: #E8F0FE;\n",
              "      --fill-color: #1967D2;\n",
              "      --hover-bg-color: #E2EBFA;\n",
              "      --hover-fill-color: #174EA6;\n",
              "      --disabled-fill-color: #AAA;\n",
              "      --disabled-bg-color: #DDD;\n",
              "  }\n",
              "\n",
              "  [theme=dark] .colab-df-quickchart {\n",
              "      --bg-color: #3B4455;\n",
              "      --fill-color: #D2E3FC;\n",
              "      --hover-bg-color: #434B5C;\n",
              "      --hover-fill-color: #FFFFFF;\n",
              "      --disabled-bg-color: #3B4455;\n",
              "      --disabled-fill-color: #666;\n",
              "  }\n",
              "\n",
              "  .colab-df-quickchart {\n",
              "    background-color: var(--bg-color);\n",
              "    border: none;\n",
              "    border-radius: 50%;\n",
              "    cursor: pointer;\n",
              "    display: none;\n",
              "    fill: var(--fill-color);\n",
              "    height: 32px;\n",
              "    padding: 0;\n",
              "    width: 32px;\n",
              "  }\n",
              "\n",
              "  .colab-df-quickchart:hover {\n",
              "    background-color: var(--hover-bg-color);\n",
              "    box-shadow: 0 1px 2px rgba(60, 64, 67, 0.3), 0 1px 3px 1px rgba(60, 64, 67, 0.15);\n",
              "    fill: var(--button-hover-fill-color);\n",
              "  }\n",
              "\n",
              "  .colab-df-quickchart-complete:disabled,\n",
              "  .colab-df-quickchart-complete:disabled:hover {\n",
              "    background-color: var(--disabled-bg-color);\n",
              "    fill: var(--disabled-fill-color);\n",
              "    box-shadow: none;\n",
              "  }\n",
              "\n",
              "  .colab-df-spinner {\n",
              "    border: 2px solid var(--fill-color);\n",
              "    border-color: transparent;\n",
              "    border-bottom-color: var(--fill-color);\n",
              "    animation:\n",
              "      spin 1s steps(1) infinite;\n",
              "  }\n",
              "\n",
              "  @keyframes spin {\n",
              "    0% {\n",
              "      border-color: transparent;\n",
              "      border-bottom-color: var(--fill-color);\n",
              "      border-left-color: var(--fill-color);\n",
              "    }\n",
              "    20% {\n",
              "      border-color: transparent;\n",
              "      border-left-color: var(--fill-color);\n",
              "      border-top-color: var(--fill-color);\n",
              "    }\n",
              "    30% {\n",
              "      border-color: transparent;\n",
              "      border-left-color: var(--fill-color);\n",
              "      border-top-color: var(--fill-color);\n",
              "      border-right-color: var(--fill-color);\n",
              "    }\n",
              "    40% {\n",
              "      border-color: transparent;\n",
              "      border-right-color: var(--fill-color);\n",
              "      border-top-color: var(--fill-color);\n",
              "    }\n",
              "    60% {\n",
              "      border-color: transparent;\n",
              "      border-right-color: var(--fill-color);\n",
              "    }\n",
              "    80% {\n",
              "      border-color: transparent;\n",
              "      border-right-color: var(--fill-color);\n",
              "      border-bottom-color: var(--fill-color);\n",
              "    }\n",
              "    90% {\n",
              "      border-color: transparent;\n",
              "      border-bottom-color: var(--fill-color);\n",
              "    }\n",
              "  }\n",
              "</style>\n",
              "\n",
              "  <script>\n",
              "    async function quickchart(key) {\n",
              "      const quickchartButtonEl =\n",
              "        document.querySelector('#' + key + ' button');\n",
              "      quickchartButtonEl.disabled = true;  // To prevent multiple clicks.\n",
              "      quickchartButtonEl.classList.add('colab-df-spinner');\n",
              "      try {\n",
              "        const charts = await google.colab.kernel.invokeFunction(\n",
              "            'suggestCharts', [key], {});\n",
              "      } catch (error) {\n",
              "        console.error('Error during call to suggestCharts:', error);\n",
              "      }\n",
              "      quickchartButtonEl.classList.remove('colab-df-spinner');\n",
              "      quickchartButtonEl.classList.add('colab-df-quickchart-complete');\n",
              "    }\n",
              "    (() => {\n",
              "      let quickchartButtonEl =\n",
              "        document.querySelector('#df-ab1f30c8-0f39-43f7-91c5-de08a333a412 button');\n",
              "      quickchartButtonEl.style.display =\n",
              "        google.colab.kernel.accessAllowed ? 'block' : 'none';\n",
              "    })();\n",
              "  </script>\n",
              "</div>\n",
              "    </div>\n",
              "  </div>\n"
            ],
            "text/plain": [
              "                                        Textos_espanol  sdg_predict\n",
              "0    [ NUM ] [ NUM ] introduccion estructura derech...           16\n",
              "1    agua subterranea debatido contexto tarificacio...            6\n",
              "2    presente contribucion evalua jurisprudencio tr...           16\n",
              "3    creditir fiscal expirar [ NUM ] wemau [ NUM]a ...            7\n",
              "4    estudio explorar actitud comportamiento percep...           16\n",
              "..                                                 ...          ...\n",
              "975  articulo explorar historia impacto accion afir...           16\n",
              "976  enfasis manipulacion precio financiacion merca...            7\n",
              "977  innovacion importante garantizar soporte efect...            7\n",
              "978  salvador continuo luchar nivel elevado violenc...           16\n",
              "979  reflejar bajo conciencia papel jugar recurso a...            6\n",
              "\n",
              "[980 rows x 2 columns]"
            ]
          },
          "execution_count": 47,
          "metadata": {},
          "output_type": "execute_result"
        }
      ],
      "source": [
        "\n",
        "# Cargamos el nuevo archivo CSV que contiene solo la columna 'Textos_espanol'\n",
        "nuevo_data = pd.read_excel('./data/SinEtiquetatest_cat_6716.xlsx')\n",
        "\n",
        "# Limpiamos y preparamos el nuevo data set\n",
        "nuevo_data['Textos_espanol'] = nuevo_data['Textos_espanol'].apply(preprocessor)\n",
        "nuevo_data['Textos_espanol'] = nuevo_data['Textos_espanol'].str.replace('Ã¡', 'a')\n",
        "nuevo_data['Textos_espanol'] = nuevo_data['Textos_espanol'].str.replace('Ã©', 'e')\n",
        "nuevo_data['Textos_espanol'] = nuevo_data['Textos_espanol'].str.replace('Ã³', 'o')\n",
        "nuevo_data['Textos_espanol'] = nuevo_data['Textos_espanol'].str.replace('Ã±', 'ñ')\n",
        "nuevo_data['Textos_espanol'] = nuevo_data['Textos_espanol'].str.replace('Ã', 'i')\n",
        "nuevo_data['Textos_espanol'] = nuevo_data['Textos_espanol'].apply(tokenizar)\n",
        "nuevo_data['Textos_espanol'] = nuevo_data['Textos_espanol'].apply(lambda x: ' '.join(map(str, x)))\n",
        "\n",
        "X_nuevo = nuevo_data['Textos_espanol'].values\n",
        "unlabeled_bag = count.transform(X_nuevo)\n",
        "# Realizamos las predicciones en el nuevo archivo\n",
        "y_pred_nuevo = bagmodel.predict(unlabeled_bag)\n",
        "\n",
        "nuevo_data['sdg_predict'] = y_pred_nuevo\n",
        "nuevo_data.drop(columns=['sdg'], inplace=True)\n",
        "\n",
        "# Guardamos el nuevo resultado etiquetado en un archivo\n",
        "nuevo_data.to_csv('etiquetas_predichas_bagofwords.csv', index=False)\n",
        "nuevo_data"
      ]
    },
    {
      "cell_type": "markdown",
      "metadata": {
        "id": "F1Bgh3GEXrQq"
      },
      "source": [
        "#5. Implementacion del modelo BERT (Bidirectional Encoder Representations from Transformers)"
      ]
    },
    {
      "cell_type": "markdown",
      "metadata": {
        "id": "Jo3sd6NHEpvI"
      },
      "source": [
        "BERT es una algoritmo implementado para una tarea de pre-entrenamiento bidireccional. Esto significa que BERT puede entender el contexto de una palabra o una frase al observar todas las palabras de la oración simultáneamente, tanto a la izquierda como a la derecha de la palabra en cuestión. Esta capacidad hace que BERT sea extremadamente eficaz para tareas de procesamiento del lenguaje natural (NLP) que implican comprensión del contexto y relación semántica entre palabras y oraciones.\n",
        "Esta capacidad de definir las palabras como elemento polisemicos, nos permite  definir representaciones contextuales de palabras. Esto significa que el significado de una palabra puede variar según su contexto en una oración."
      ]
    },
    {
      "cell_type": "markdown",
      "metadata": {
        "id": "dhoJdFVP8ZFL"
      },
      "source": [
        "## 5.1 Variable Objetivo:"
      ]
    },
    {
      "cell_type": "markdown",
      "metadata": {
        "id": "eeFXKaVBTbAZ"
      },
      "source": [
        "Se espera realizar la clasificación de textos, de los textos que representan la voz de los habitantes locales sobre problemáticas de su entorno. Este proceso tendra de la finalidad clasificar de modo que permitan hacer un análisis automatizado de opiniones. Para esta finalidad, definimos la etiqueta (que sera asignada) como nuestra variable Objetivo. Estos valores pueden exisitir entre los diferentes valores posibles para sdg (ODS).\n"
      ]
    },
    {
      "cell_type": "code",
      "execution_count": null,
      "metadata": {
        "colab": {
          "background_save": true,
          "base_uri": "https://localhost:8080/"
        },
        "id": "lrp2nQmxF6di",
        "outputId": "fcffc0ee-0077-4dda-f80d-d97836732165"
      },
      "outputs": [
        {
          "name": "stdout",
          "output_type": "stream",
          "text": [
            "Requirement already satisfied: transformers in /usr/local/lib/python3.10/dist-packages (4.34.0)\n",
            "Requirement already satisfied: filelock in /usr/local/lib/python3.10/dist-packages (from transformers) (3.12.4)\n",
            "Requirement already satisfied: huggingface-hub<1.0,>=0.16.4 in /usr/local/lib/python3.10/dist-packages (from transformers) (0.17.3)\n",
            "Requirement already satisfied: numpy>=1.17 in /usr/local/lib/python3.10/dist-packages (from transformers) (1.23.5)\n",
            "Requirement already satisfied: packaging>=20.0 in /usr/local/lib/python3.10/dist-packages (from transformers) (23.2)\n",
            "Requirement already satisfied: pyyaml>=5.1 in /usr/local/lib/python3.10/dist-packages (from transformers) (6.0.1)\n",
            "Requirement already satisfied: regex!=2019.12.17 in /usr/local/lib/python3.10/dist-packages (from transformers) (2023.6.3)\n",
            "Requirement already satisfied: requests in /usr/local/lib/python3.10/dist-packages (from transformers) (2.31.0)\n",
            "Requirement already satisfied: tokenizers<0.15,>=0.14 in /usr/local/lib/python3.10/dist-packages (from transformers) (0.14.1)\n",
            "Requirement already satisfied: safetensors>=0.3.1 in /usr/local/lib/python3.10/dist-packages (from transformers) (0.4.0)\n",
            "Requirement already satisfied: tqdm>=4.27 in /usr/local/lib/python3.10/dist-packages (from transformers) (4.66.1)\n",
            "Requirement already satisfied: fsspec in /usr/local/lib/python3.10/dist-packages (from huggingface-hub<1.0,>=0.16.4->transformers) (2023.6.0)\n",
            "Requirement already satisfied: typing-extensions>=3.7.4.3 in /usr/local/lib/python3.10/dist-packages (from huggingface-hub<1.0,>=0.16.4->transformers) (4.5.0)\n",
            "Requirement already satisfied: charset-normalizer<4,>=2 in /usr/local/lib/python3.10/dist-packages (from requests->transformers) (3.3.0)\n",
            "Requirement already satisfied: idna<4,>=2.5 in /usr/local/lib/python3.10/dist-packages (from requests->transformers) (3.4)\n",
            "Requirement already satisfied: urllib3<3,>=1.21.1 in /usr/local/lib/python3.10/dist-packages (from requests->transformers) (2.0.6)\n",
            "Requirement already satisfied: certifi>=2017.4.17 in /usr/local/lib/python3.10/dist-packages (from requests->transformers) (2023.7.22)\n",
            "Requirement already satisfied: torch in /usr/local/lib/python3.10/dist-packages (2.0.1+cu118)\n",
            "Requirement already satisfied: filelock in /usr/local/lib/python3.10/dist-packages (from torch) (3.12.4)\n",
            "Requirement already satisfied: typing-extensions in /usr/local/lib/python3.10/dist-packages (from torch) (4.5.0)\n",
            "Requirement already satisfied: sympy in /usr/local/lib/python3.10/dist-packages (from torch) (1.12)\n",
            "Requirement already satisfied: networkx in /usr/local/lib/python3.10/dist-packages (from torch) (3.1)\n",
            "Requirement already satisfied: jinja2 in /usr/local/lib/python3.10/dist-packages (from torch) (3.1.2)\n",
            "Requirement already satisfied: triton==2.0.0 in /usr/local/lib/python3.10/dist-packages (from torch) (2.0.0)\n",
            "Requirement already satisfied: cmake in /usr/local/lib/python3.10/dist-packages (from triton==2.0.0->torch) (3.27.6)\n",
            "Requirement already satisfied: lit in /usr/local/lib/python3.10/dist-packages (from triton==2.0.0->torch) (17.0.2)\n",
            "Requirement already satisfied: MarkupSafe>=2.0 in /usr/local/lib/python3.10/dist-packages (from jinja2->torch) (2.1.3)\n",
            "Requirement already satisfied: mpmath>=0.19 in /usr/local/lib/python3.10/dist-packages (from sympy->torch) (1.3.0)\n",
            "Requirement already satisfied: unidecode in /usr/local/lib/python3.10/dist-packages (1.3.7)\n",
            "Requirement already satisfied: nltk in /usr/local/lib/python3.10/dist-packages (3.8.1)\n",
            "Requirement already satisfied: click in /usr/local/lib/python3.10/dist-packages (from nltk) (8.1.7)\n",
            "Requirement already satisfied: joblib in /usr/local/lib/python3.10/dist-packages (from nltk) (1.3.2)\n",
            "Requirement already satisfied: regex>=2021.8.3 in /usr/local/lib/python3.10/dist-packages (from nltk) (2023.6.3)\n",
            "Requirement already satisfied: tqdm in /usr/local/lib/python3.10/dist-packages (from nltk) (4.66.1)\n",
            "Requirement already satisfied: spacy in /usr/local/lib/python3.10/dist-packages (3.6.1)\n",
            "Requirement already satisfied: spacy-legacy<3.1.0,>=3.0.11 in /usr/local/lib/python3.10/dist-packages (from spacy) (3.0.12)\n",
            "Requirement already satisfied: spacy-loggers<2.0.0,>=1.0.0 in /usr/local/lib/python3.10/dist-packages (from spacy) (1.0.5)\n",
            "Requirement already satisfied: murmurhash<1.1.0,>=0.28.0 in /usr/local/lib/python3.10/dist-packages (from spacy) (1.0.10)\n",
            "Requirement already satisfied: cymem<2.1.0,>=2.0.2 in /usr/local/lib/python3.10/dist-packages (from spacy) (2.0.8)\n",
            "Requirement already satisfied: preshed<3.1.0,>=3.0.2 in /usr/local/lib/python3.10/dist-packages (from spacy) (3.0.9)\n",
            "Requirement already satisfied: thinc<8.2.0,>=8.1.8 in /usr/local/lib/python3.10/dist-packages (from spacy) (8.1.12)\n",
            "Requirement already satisfied: wasabi<1.2.0,>=0.9.1 in /usr/local/lib/python3.10/dist-packages (from spacy) (1.1.2)\n",
            "Requirement already satisfied: srsly<3.0.0,>=2.4.3 in /usr/local/lib/python3.10/dist-packages (from spacy) (2.4.8)\n",
            "Requirement already satisfied: catalogue<2.1.0,>=2.0.6 in /usr/local/lib/python3.10/dist-packages (from spacy) (2.0.10)\n",
            "Requirement already satisfied: typer<0.10.0,>=0.3.0 in /usr/local/lib/python3.10/dist-packages (from spacy) (0.9.0)\n",
            "Requirement already satisfied: pathy>=0.10.0 in /usr/local/lib/python3.10/dist-packages (from spacy) (0.10.2)\n",
            "Requirement already satisfied: smart-open<7.0.0,>=5.2.1 in /usr/local/lib/python3.10/dist-packages (from spacy) (6.4.0)\n",
            "Requirement already satisfied: tqdm<5.0.0,>=4.38.0 in /usr/local/lib/python3.10/dist-packages (from spacy) (4.66.1)\n",
            "Requirement already satisfied: numpy>=1.15.0 in /usr/local/lib/python3.10/dist-packages (from spacy) (1.23.5)\n",
            "Requirement already satisfied: requests<3.0.0,>=2.13.0 in /usr/local/lib/python3.10/dist-packages (from spacy) (2.31.0)\n",
            "Requirement already satisfied: pydantic!=1.8,!=1.8.1,<3.0.0,>=1.7.4 in /usr/local/lib/python3.10/dist-packages (from spacy) (1.10.13)\n",
            "Requirement already satisfied: jinja2 in /usr/local/lib/python3.10/dist-packages (from spacy) (3.1.2)\n",
            "Requirement already satisfied: setuptools in /usr/local/lib/python3.10/dist-packages (from spacy) (67.7.2)\n",
            "Requirement already satisfied: packaging>=20.0 in /usr/local/lib/python3.10/dist-packages (from spacy) (23.2)\n",
            "Requirement already satisfied: langcodes<4.0.0,>=3.2.0 in /usr/local/lib/python3.10/dist-packages (from spacy) (3.3.0)\n",
            "Requirement already satisfied: typing-extensions>=4.2.0 in /usr/local/lib/python3.10/dist-packages (from pydantic!=1.8,!=1.8.1,<3.0.0,>=1.7.4->spacy) (4.5.0)\n",
            "Requirement already satisfied: charset-normalizer<4,>=2 in /usr/local/lib/python3.10/dist-packages (from requests<3.0.0,>=2.13.0->spacy) (3.3.0)\n",
            "Requirement already satisfied: idna<4,>=2.5 in /usr/local/lib/python3.10/dist-packages (from requests<3.0.0,>=2.13.0->spacy) (3.4)\n",
            "Requirement already satisfied: urllib3<3,>=1.21.1 in /usr/local/lib/python3.10/dist-packages (from requests<3.0.0,>=2.13.0->spacy) (2.0.6)\n",
            "Requirement already satisfied: certifi>=2017.4.17 in /usr/local/lib/python3.10/dist-packages (from requests<3.0.0,>=2.13.0->spacy) (2023.7.22)\n",
            "Requirement already satisfied: blis<0.8.0,>=0.7.8 in /usr/local/lib/python3.10/dist-packages (from thinc<8.2.0,>=8.1.8->spacy) (0.7.11)\n",
            "Requirement already satisfied: confection<1.0.0,>=0.0.1 in /usr/local/lib/python3.10/dist-packages (from thinc<8.2.0,>=8.1.8->spacy) (0.1.3)\n",
            "Requirement already satisfied: click<9.0.0,>=7.1.1 in /usr/local/lib/python3.10/dist-packages (from typer<0.10.0,>=0.3.0->spacy) (8.1.7)\n",
            "Requirement already satisfied: MarkupSafe>=2.0 in /usr/local/lib/python3.10/dist-packages (from jinja2->spacy) (2.1.3)\n"
          ]
        },
        {
          "name": "stderr",
          "output_type": "stream",
          "text": [
            "[nltk_data] Downloading package punkt to /root/nltk_data...\n",
            "[nltk_data]   Package punkt is already up-to-date!\n",
            "[nltk_data] Downloading package stopwords to /root/nltk_data...\n",
            "[nltk_data]   Package stopwords is already up-to-date!\n"
          ]
        },
        {
          "name": "stdout",
          "output_type": "stream",
          "text": [
            "Palabra: Los, POS: DET, FlexiÃ³n gramatical: Definite=Def|Gender=Masc|Number=Plur|PronType=Art\n",
            "Palabra: gatos, POS: NOUN, FlexiÃ³n gramatical: Gender=Masc|Number=Plur\n",
            "Palabra: estÃ¡n, POS: AUX, FlexiÃ³n gramatical: Mood=Cnd|Number=Plur|Person=3|VerbForm=Fin\n",
            "Palabra: saltando, POS: VERB, FlexiÃ³n gramatical: VerbForm=Ger\n",
            "Palabra: sobre, POS: ADP, FlexiÃ³n gramatical: \n",
            "Palabra: las, POS: DET, FlexiÃ³n gramatical: Definite=Def|Gender=Fem|Number=Plur|PronType=Art\n",
            "Palabra: cajas, POS: NOUN, FlexiÃ³n gramatical: Gender=Fem|Number=Plur\n",
            "Palabra: ., POS: PUNCT, FlexiÃ³n gramatical: PunctType=Peri\n"
          ]
        }
      ],
      "source": [
        "!pip install transformers\n",
        "!pip install torch\n",
        "!pip install unidecode\n",
        "!pip install nltk\n",
        "!pip install spacy\n",
        "\n",
        "# librerÃ­a Natural Language Toolkit, usada para trabajar con textos\n",
        "import nltk\n",
        "import numpy as np\n",
        "\n",
        "# librerÃ­as bases\n",
        "import pandas as pd\n",
        "import matplotlib.pyplot as plt\n",
        "from unidecode import unidecode\n",
        "from sklearn.model_selection import train_test_split\n",
        "import seaborn as sns\n",
        "# Librerias para hacer el entrenamiento y la regresion logistica con parametros adecuados\n",
        "from sklearn.model_selection import GridSearchCV\n",
        "from sklearn.pipeline import Pipeline\n",
        "from sklearn.linear_model import LogisticRegression\n",
        "from sklearn.feature_extraction.text import TfidfVectorizer\n",
        "from sklearn.feature_extraction.text import CountVectorizer\n",
        "from sklearn.naive_bayes import MultinomialNB\n",
        "from sklearn.metrics import accuracy_score\n",
        "from sklearn.metrics import confusion_matrix\n",
        "from sklearn.metrics import accuracy_score, precision_score, recall_score, f1_score, confusion_matrix\n",
        "\n",
        "# librerÃ­a para lematizar los textos en espaÃ±ol y realizar flexiones gramaticales\n",
        "# Nota: Un lema es la forma base de una palabra.\n",
        "import spacy\n",
        "\n",
        "# librerÃ­a para limpiar el texto con expresiones regulares, regex de python\n",
        "import re\n",
        "\n",
        "# Punkt nos permite separar un texto en frases.\n",
        "nltk.download('punkt')\n",
        "\n",
        "# Descargamos todas las palabras vacias, es decir, aquellas que no aportan nada al significado del texto\n",
        "nltk.download('stopwords')\n",
        "\n",
        "\n",
        "import spacy\n",
        "\n",
        "# Carga el modelo en espaÃ±ol\n",
        "nlp = spacy.load(\"es_core_news_sm\")\n",
        "\n",
        "# Texto que deseas analizar\n",
        "texto = \"Los gatos estÃ¡n saltando sobre las cajas.\"\n",
        "\n",
        "# Procesa el texto\n",
        "doc = nlp(texto)\n",
        "\n",
        "# Itera a travÃ©s de las palabras del texto y obtÃ©n informaciÃ³n gramatical\n",
        "for token in doc:\n",
        "    print(f\"Palabra: {token.text}, POS: {token.pos_}, FlexiÃ³n gramatical: {token.morph}\")\n",
        "\n",
        "# Usamos la libreria pandas para leer el archivo excel\n",
        "data = pd.read_excel(\"./data/cat_6716.xlsx\")\n",
        "data.shape\n",
        "\n",
        "# Primero miremos como esta una fila antes de los cambios a realizar\n",
        "valor = data.at[293, 'Textos_espanol']\n",
        "\n",
        "# Ahora hagamos el cambio manual de las tildes en todas las filas y miremos el resultado\n",
        "\n",
        "data['Textos_espanol'] = data['Textos_espanol'].str.replace('ÃÂ¡', 'a')\n",
        "data['Textos_espanol'] = data['Textos_espanol'].str.replace('ÃÂ©', 'e')\n",
        "data['Textos_espanol'] = data['Textos_espanol'].str.replace('ÃÂ³', 'o')\n",
        "# Tambien realicemos un cambio para que se pueda detectar la Ã±\n",
        "data['Textos_espanol'] = data['Textos_espanol'].str.replace('ÃÂ±', 'Ã±')\n",
        "data['Textos_espanol'] = data['Textos_espanol'].str.replace('Ã', 'i')\n",
        "\n",
        "# Ahora veamos como esta la fila actualizada\n",
        "valor = data.at[293, 'Textos_espanol']\n",
        "\n",
        "# Definimos el preprocessador para transformar los textos y limpiarlos.\n",
        "def preprocessor(texto):\n",
        "\n",
        "    # Primero convertimos todas las palabras a lowercase y quitamos los simbolos\n",
        "    texto = re.sub('[\\W]+', ' ', texto.lower())\n",
        "\n",
        "    # Reemplazamos la \"Ã±\" con un marcador temporal para que se tenga en cuenta y no se borre\n",
        "    texto = texto.replace(\"Ã±\", \"TEMP_N\")\n",
        "\n",
        "    # Eliminamos tildes o acentos de las letras\n",
        "    texto = unidecode(texto)\n",
        "\n",
        "    # Restauramos la \"Ã±\" desde el marcador temporal\n",
        "    texto = texto.replace(\"TEMP_N\", \"Ã±\")\n",
        "\n",
        "    # Reemplazar los valores numÃ©ricos por un token especÃ­fico (por ejemplo, \"[NUM]\")\n",
        "    texto = re.sub(r'\\d+(\\.\\d+)?', '[NUM]', texto)\n",
        "\n",
        "    # Ahora quitamos las stop words que nos otorga la libreria spacy en espaÃ±ol\n",
        "    doc = nlp(texto)\n",
        "    texto = ' '.join(token.text for token in doc if not token.is_stop)\n",
        "\n",
        "    return texto\n",
        "\n",
        "data['Textos_espanol'] = data['Textos_espanol'].apply(preprocessor)"
      ]
    },
    {
      "cell_type": "code",
      "execution_count": null,
      "metadata": {
        "colab": {
          "background_save": true
        },
        "id": "Z_bMrajuUvyH"
      },
      "outputs": [],
      "source": [
        "from transformers import BertTokenizer, BertForSequenceClassification,DistilBertTokenizer,DistilBertForSequenceClassification\n",
        "import torch\n",
        "\n",
        "# Supongamos que el DataFrame tiene dos columnas: 'texto' y 'etiqueta'\n",
        "textos = data['Textos_espanol'].values\n",
        "etiquetas = data['sdg'].values"
      ]
    },
    {
      "cell_type": "markdown",
      "metadata": {
        "id": "nfYxyY3X8g-D"
      },
      "source": [
        "## 5.2 Entrenamiento:"
      ]
    },
    {
      "cell_type": "markdown",
      "metadata": {
        "id": "v6gU4T0WBL6W"
      },
      "source": [
        "Para el modelamiento con Bert, es necesario escoger el modelo que mejor se adopte a las necesidades de la compañia y los requerimientos de los datos. Es por eso que se tomaron las siguientes decisiones:\n",
        "Modelo: bert - base- uncased\n",
        "Bert: Representa un modelo BERT, por la capacidad de analisis bidireccional es exccelente para el procesamiento de texto natural y capturar el contexto de los mensajes\n",
        "Base: Hace referencia a la arquitectura del modelo. Define el numero de capas y parametros que procesa el modelo. Se selecciono \"Base\" dado que contamos con una base de datos con mayor complejidad;, y dado que \"large\" es una arquitectura más costosa en procesamiento y especializada en labores especificas.\n",
        "Uncased: Nos ayuda con el manejo de mayusculas y minusculas, para que el modelo no haga disitnción entre palabras iguales con diferencias en Mayusculas o Minusculas."
      ]
    },
    {
      "cell_type": "code",
      "execution_count": null,
      "metadata": {
        "id": "hV2G8z2EIKl4"
      },
      "outputs": [],
      "source": [
        "# Tokenización utilizando BERT\n",
        "model_name = 'bert-base-uncased'  # Modelo BERT pre-entrenado\n",
        "tokenizer = BertTokenizer.from_pretrained(model_name)"
      ]
    },
    {
      "cell_type": "code",
      "execution_count": null,
      "metadata": {
        "colab": {
          "base_uri": "https://localhost:8080/"
        },
        "id": "95cImEDH-Ehe",
        "outputId": "c26655cd-45dc-4a20-8889-80f439462063"
      },
      "outputs": [
        {
          "name": "stderr",
          "output_type": "stream",
          "text": [
            "Some weights of BertForSequenceClassification were not initialized from the model checkpoint at bert-base-uncased and are newly initialized: ['classifier.weight', 'classifier.bias']\n",
            "You should probably TRAIN this model on a down-stream task to be able to use it for predictions and inference.\n"
          ]
        },
        {
          "name": "stdout",
          "output_type": "stream",
          "text": [
            "tensor([[0.6312, 0.3688]], grad_fn=<SoftmaxBackward0>)\n"
          ]
        }
      ],
      "source": [
        "from transformers import BertTokenizer, BertForSequenceClassification,DistilBertTokenizer,DistilBertForSequenceClassification\n",
        "import torch\n",
        "\n",
        "# Supongamos que el DataFrame tiene dos columnas: 'texto' y 'etiqueta'\n",
        "textos = data['Textos_espanol'].values\n",
        "etiquetas = data['sdg'].values\n",
        "\n",
        "# TokenizaciÃ³n utilizando BERT\n",
        "model_name = 'bert-base-uncased'  # Modelo BERT pre-entrenado\n",
        "tokenizer = BertTokenizer.from_pretrained(model_name)\n",
        "inputs = tokenizer(textos.tolist(), padding=True, truncation=True, return_tensors='pt')\n",
        "\n",
        "# Cargar modelo BERT pre-entrenado para clasificaciÃ³n de secuencias\n",
        "model = BertForSequenceClassification.from_pretrained(model_name)\n",
        "\n",
        "# Ajuste fino del modelo BERT\n",
        "with torch.no_grad():\n",
        "    outputs = model(**inputs)\n",
        "\n",
        "# Representaciones de caracterÃ­sticas de BERT\n",
        "features = outputs.logits\n",
        "\n",
        "# Dividir los datos en conjuntos de entrenamiento y prueba\n",
        "X_train, X_test, y_train, y_test = train_test_split(features, etiquetas, test_size=0.2, random_state=42)\n",
        "\n",
        "# Entrenar un modelo de regresiÃ³n logÃ­stica\n",
        "modelo_logistico = LogisticRegression(max_iter=1000)\n",
        "modelo_logistico.fit(X_train, y_train)\n",
        "\n",
        "# Realizar predicciones en el conjunto de prueba\n",
        "predicciones = modelo_logistico.predict(X_test)\n",
        "\n",
        "# Calcular la precisiÃ³n\n",
        "precision = accuracy_score(y_test, predicciones)\n",
        "print(f'PrecisiÃ³n del modelo: {precision}')\n",
        "\n",
        "# Para hacer predicciones en nuevos datos, tokeniza los nuevos textos y utiliza el modelo de regresiÃ³n logÃ­stica entrenado.\n",
        "\n"
      ]
    },
    {
      "cell_type": "markdown",
      "metadata": {
        "id": "DmmoohlQkXLf"
      },
      "source": [
        "Los resultados de el entrenamiento de los datos arrojan un desbordamiento en la capacidad de la memoria RAM. Esto se puede deber dado que BERT utiliza una arquitectura de red neuronal profunda con múltiples capas. Cada capa de la red introduce una cantidad significativa de parámetros y requiere recursos adicionales para el cálculo de los gradientes durante el entrenamiento y la inferencia. Dando como resultado un mayor uso de la memoria.\n",
        "\n",
        "Como alternativa se propone la implenetacion de TinyBert. Esta es una versión más ligera y compacta del modelo BERT (Bidirectional Encoder Representations from Transformers) que está diseñada para ser más eficiente en términos de consumo de recursos, especialmente en entornos con restricciones de memoria, como dispositivos con recursos limitados o aplicaciones que requieren una carga rápida."
      ]
    },
    {
      "cell_type": "code",
      "execution_count": null,
      "metadata": {
        "colab": {
          "base_uri": "https://localhost:8080/"
        },
        "id": "Y_QIwg5ukoon",
        "outputId": "8c84e372-b02d-4472-c860-3da92095a228"
      },
      "outputs": [
        {
          "name": "stderr",
          "output_type": "stream",
          "text": [
            "Asking to truncate to max_length but no maximum length is provided and the model has no predefined maximum length. Default to no truncation.\n",
            "Some weights of BertForSequenceClassification were not initialized from the model checkpoint at prajjwal1/bert-tiny and are newly initialized: ['classifier.weight', 'classifier.bias']\n",
            "You should probably TRAIN this model on a down-stream task to be able to use it for predictions and inference.\n"
          ]
        }
      ],
      "source": [
        "import pandas as pd\n",
        "from sklearn.feature_extraction.text import TfidfVectorizer\n",
        "from sklearn.linear_model import LogisticRegression\n",
        "from sklearn.model_selection import train_test_split\n",
        "from sklearn.metrics import accuracy_score\n",
        "\n",
        "# Tokenización utilizando el tokenizador de TinyBERT\n",
        "data = pd.read_excel(\"./data/cat_6716.xlsx\")\n",
        "\n",
        "# Extract text and labels from the DataFrame\n",
        "texts = data['Textos_espanol'].values\n",
        "labels = data['sdg'].values\n",
        "\n",
        "model_name = 'prajjwal1/bert-tiny'  # Modelo TinyBERT pre-entrenado\n",
        "tokenizer = BertTokenizer.from_pretrained(model_name)\n",
        "inputs = tokenizer(textos.tolist(), padding=True, truncation=True, return_tensors='pt')\n",
        "\n",
        "# Cargar modelo TinyBERT pre-entrenado para clasificación de secuencias\n",
        "model = BertForSequenceClassification.from_pretrained(model_name)\n",
        "\n",
        "# Ajuste fino del modelo TinyBERT\n",
        "with torch.no_grad():\n",
        "    outputs = model(**inputs)\n",
        "\n",
        "# Representaciones de características de TinyBERT (puedes usar estas como entrada para el modelo de regresión logística)\n",
        "features = outputs.logits\n",
        "\n",
        "# Dividir los datos en conjuntos de entrenamiento y prueba\n",
        "X_train, X_test, y_train, y_test = train_test_split(features, etiquetas, test_size=0.2, random_state=42)\n",
        "\n",
        "# Entrenar un modelo de regresión logística\n",
        "modelo_logistico = LogisticRegression(max_iter=100)\n",
        "modelo_logistico.fit(X_train, y_train)\n",
        "\n",
        "# Realizar predicciones en el conjunto de prueba\n",
        "predicciones = modelo_logistico.predict(X_test)\n",
        "\n",
        "# Calcular la precisión\n",
        "precision = accuracy_score(y_test, predicciones)\n",
        "print(f'Precisión del modelo: {precision}')"
      ]
    },
    {
      "cell_type": "markdown",
      "metadata": {
        "id": "_IxSehVW8jbb"
      },
      "source": [
        "## 5.3 Resultados y metricas:"
      ]
    },
    {
      "cell_type": "markdown",
      "metadata": {
        "id": "CBWkQvFH9RW1"
      },
      "source": [
        "La precisión obtenida es relativamente baja, con un valor de 0.44. Esto sugiere que el modelo no está funcionando de manera óptima para esta tarea de clasificación. Esto se puede deber principalmente a las capacidades del sistema. Si el modelo BERT es muy grande y los recursos son limitados, puede haber dificultades para entrenar o inferir con precisión. Como lo es en este caso especifico, en el cual tuvimos que realizar un cambio de modelo, sacrificando la precision del modelo más completo/complejo para optar por un modelo con un uso más eficiente de los recursos. Adicionalmente,podemos considerar factores tales como:  Los hiperparámetros y la arquitectura del modelo de clasificación o fallos la limpieza y preprocesamiento de los datos."
      ]
    },
    {
      "cell_type": "markdown",
      "metadata": {
        "id": "jZCdF8pwXbxL"
      },
      "source": [
        "## 5.4 Aplicación a datos sin etiquetar:"
      ]
    },
    {
      "cell_type": "code",
      "execution_count": null,
      "metadata": {
        "id": "5ZV0NHUwXbej"
      },
      "outputs": [],
      "source": [
        "\n",
        "# Cargamos el nuevo archivo CSV que contiene solo la columna 'Textos_espanol'\n",
        "nuevo_data = pd.read_excel('./data/SinEtiquetatest_cat_6716.xlsx')\n",
        "\n",
        "# Limpiamos y preparamos el nuevo data set\n",
        "nuevo_data['Textos_espanol'] = nuevo_data['Textos_espanol'].apply(preprocessor)\n",
        "nuevo_data['Textos_espanol'] = nuevo_data['Textos_espanol'].str.replace('Ã¡', 'a')\n",
        "nuevo_data['Textos_espanol'] = nuevo_data['Textos_espanol'].str.replace('Ã©', 'e')\n",
        "nuevo_data['Textos_espanol'] = nuevo_data['Textos_espanol'].str.replace('Ã³', 'o')\n",
        "nuevo_data['Textos_espanol'] = nuevo_data['Textos_espanol'].str.replace('Ã±', 'ñ')\n",
        "nuevo_data['Textos_espanol'] = nuevo_data['Textos_espanol'].str.replace('Ã', 'i')\n",
        "nuevo_data['Textos_espanol'] = nuevo_data['Textos_espanol'].apply(tokenizar)\n",
        "nuevo_data['Textos_espanol'] = nuevo_data['Textos_espanol'].apply(lambda x: ' '.join(map(str, x)))\n",
        "\n",
        "X_nuevo = nuevo_data['Textos_espanol'].values\n",
        "unlabeled_bag = count.transform(X_nuevo)\n",
        "# Realizamos las predicciones en el nuevo archivo\n",
        "predicciones = modelo_logistico.predict(unlabeled_bag)\n",
        "\n",
        "nuevo_data['sdg_predict'] = y_pred_nuevo\n",
        "nuevo_data.drop(columns=['sdg'], inplace=True)\n",
        "\n",
        "# Guardamos el nuevo resultado etiquetado en un archivo\n",
        "nuevo_data.to_csv('etiquetas_predichas_bagofwords.csv', index=False)\n",
        "nuevo_data"
      ]
    },
    {
      "cell_type": "markdown",
      "metadata": {
        "id": "Y4hBD4nbXrwS"
      },
      "source": [
        "Matriz de Confusion:"
      ]
    },
    {
      "cell_type": "code",
      "execution_count": null,
      "metadata": {
        "id": "K3YbrL3aXq2G"
      },
      "outputs": [],
      "source": [
        "confusion = confusion_matrix(y_test, y_pred)\n",
        "\n",
        "# Crea una gráfica de matriz de confusión\n",
        "sns.heatmap(confusion, annot=True, fmt=\"d\", cmap=\"Blues\")\n",
        "plt.xlabel(\"Predicciones\")\n",
        "plt.ylabel(\"Valores Verdaderos\")\n",
        "plt.title(\"Matriz de Confusión\")\n",
        "plt.show()"
      ]
    },
    {
      "cell_type": "markdown",
      "metadata": {
        "id": "4bz0QAtTV6di"
      },
      "source": [
        "#6. Conclusiones"
      ]
    },
    {
      "cell_type": "markdown",
      "metadata": {
        "id": "hS__U1wjV9U9"
      },
      "source": [
        "##6.1 conclusiones sobre los modelos\n",
        "\n",
        "El mejor modelo, gracias al analisis del f1 score y la matriz de confusion, se ha decidido que es el modelo Tfidf. El modelo Tfidf tiene un puntaje de 99.6%, es decir que el modelo puede predecir con un 99 porciento de precision/exactitud en a que ODS un texto pertenece. Note que, el negocio puede utilizar este modelo como una herramienta crucial al momento de analizar que estructuras caracterizan a los objetivos de desarrollo sostenible y hacer analisis mucho mas profundo sobre los datos ofrecidos. Algunas consideraciones se tomaron en cuenta, como que la limpieza de datos implico cambiar manualmente el encoding para ciertos caracteres como las tildes, por lo cual se recomienda al negocio para futuras muestras tener mas cuidado con como estos caracteres se estan mapeando al excel, csv, o archivo en el que esten almacenando estos datos. Ademas, se encontraron algunas sentencias en ingles las cuales se omitieron puesto el negocio no especifica la utilidad o el enfoque de este idioma, solo se expresa brevemente que los datos estan orientados al idioma español."
      ]
    },
    {
      "cell_type": "markdown",
      "metadata": {
        "id": "9v9gWe1MWA6Z"
      },
      "source": [
        "##6.2 Mapa de actores"
      ]
    },
    {
      "cell_type": "code",
      "execution_count": null,
      "metadata": {
        "colab": {
          "base_uri": "https://localhost:8080/"
        },
        "id": "4wRITPL0WTsl",
        "outputId": "a66559dd-ceda-436a-e265-9bebe24908b1"
      },
      "outputs": [
        {
          "name": "stdout",
          "output_type": "stream",
          "text": [
            "Requirement already satisfied: prettytable in /usr/local/lib/python3.10/dist-packages (3.9.0)\n",
            "Requirement already satisfied: wcwidth in /usr/local/lib/python3.10/dist-packages (from prettytable) (0.2.8)\n"
          ]
        }
      ],
      "source": [
        "!pip install prettytable"
      ]
    },
    {
      "cell_type": "code",
      "execution_count": null,
      "metadata": {
        "colab": {
          "base_uri": "https://localhost:8080/"
        },
        "id": "LCatruSTWVXs",
        "outputId": "2e3b5308-0f97-441f-d3a1-65fee0c81bdf"
      },
      "outputs": [
        {
          "name": "stdout",
          "output_type": "stream",
          "text": [
            "+-----------------------------------------------------+--------------------------------------+--------------------------------------------------------------------------------------------------------------------------------------------------------------------------------+-----------------------------------------------------------------------------------------------------------------------------------------------+\n",
            "|            Rol dentro de la Organización            |            Tipo de Actor             |                                                                                   Beneficio                                                                                    |                                                                     Riesgo                                                                    |\n",
            "+-----------------------------------------------------+--------------------------------------+--------------------------------------------------------------------------------------------------------------------------------------------------------------------------------+-----------------------------------------------------------------------------------------------------------------------------------------------+\n",
            "| Fondo de Poblaciones de las Naciones Unidas (UNFPA) |     Cliente / Usuario Principal      |         - Mayor eficiencia en la evaluación de opiniones relacionadas con los ODS. - Mayor capacidad de toma de decisiones informadas basadas en el análisis de datos.         |                             - Riesgo de resultados inexactos o sesgados si el modelo no se entrena adecuadamente.                             |\n",
            "|               Universidad de los Andes              | Colaborador / Proveedor de Expertise |                      - Fortalecimiento de la colaboración y la experiencia en investigación. - Posibilidad de aplicar conocimientos en un contexto real.                       |                    - Riesgo de que la implementación del modelo sea compleja o que no se ajuste a las necesidades de UNFPA.                   |\n",
            "|                  Entidades Públicas                 |     Cliente / Usuario Potencial      |       - Acceso a un análisis automatizado de opiniones de los ciudadanos relacionado con políticas públicas y ODS. - Información más precisa para la toma de decisiones.       |                         - Riesgo de no comprender completamente cómo utilizar el modelo o interpretar los resultados.                         |\n",
            "|                  Ciudadanos Locales                 |             Beneficiados             |  - Mayor participación y voz en la planificación y desarrollo a nivel territorial. - Posibilidad de que sus opiniones sean tenidas en cuenta en la formulación de políticas.   | - Riesgo de preocupaciones de privacidad o seguridad de datos si se recopilan opiniones de manera inapropiada o no se protegen adecuadamente. |\n",
            "|             Desarrolladores de Software             |      Proveedor de la Aplicación      | - Posibilidad de aplicar habilidades técnicas en el desarrollo de la aplicación para interactuar con el modelo. - Contribución al desarrollo de tecnología con impacto social. |                                      - Riesgo de desafíos técnicos en la implementación de la aplicación.                                     |\n",
            "+-----------------------------------------------------+--------------------------------------+--------------------------------------------------------------------------------------------------------------------------------------------------------------------------------+-----------------------------------------------------------------------------------------------------------------------------------------------+\n"
          ]
        }
      ],
      "source": [
        "from prettytable import PrettyTable\n",
        "\n",
        "# Diseñamos la tabla con el mapa de actores\n",
        "tabla = PrettyTable()\n",
        "tabla.field_names = [\"Rol dentro de la Organización\", \"Tipo de Actor\", \"Beneficio\", \"Riesgo\"]\n",
        "tabla.add_row([\"Fondo de Poblaciones de las Naciones Unidas (UNFPA)\", \"Cliente / Usuario Principal\", \"- Mayor eficiencia en la evaluación de opiniones relacionadas con los ODS. - Mayor capacidad de toma de decisiones informadas basadas en el análisis de datos.\", \"- Riesgo de resultados inexactos o sesgados si el modelo no se entrena adecuadamente.\"])\n",
        "tabla.add_row([\"Universidad de los Andes\", \"Colaborador / Proveedor de Expertise\", \"- Fortalecimiento de la colaboración y la experiencia en investigación. - Posibilidad de aplicar conocimientos en un contexto real.\", \"- Riesgo de que la implementación del modelo sea compleja o que no se ajuste a las necesidades de UNFPA.\"])\n",
        "tabla.add_row([\"Entidades Públicas\", \"Cliente / Usuario Potencial\", \"- Acceso a un análisis automatizado de opiniones de los ciudadanos relacionado con políticas públicas y ODS. - Información más precisa para la toma de decisiones.\", \"- Riesgo de no comprender completamente cómo utilizar el modelo o interpretar los resultados.\"])\n",
        "tabla.add_row([\"Ciudadanos Locales\", \"Beneficiados\", \"- Mayor participación y voz en la planificación y desarrollo a nivel territorial. - Posibilidad de que sus opiniones sean tenidas en cuenta en la formulación de políticas.\", \"- Riesgo de preocupaciones de privacidad o seguridad de datos si se recopilan opiniones de manera inapropiada o no se protegen adecuadamente.\"])\n",
        "tabla.add_row([\"Desarrolladores de Software\", \"Proveedor de la Aplicación\", \"- Posibilidad de aplicar habilidades técnicas en el desarrollo de la aplicación para interactuar con el modelo. - Contribución al desarrollo de tecnología con impacto social.\", \"- Riesgo de desafíos técnicos en la implementación de la aplicación.\"])\n",
        "\n",
        "# Imprimimos la tabla\n",
        "print(tabla)\n"
      ]
    }
  ],
  "metadata": {
    "accelerator": "GPU",
    "colab": {
      "collapsed_sections": [
        "5vS8Qlxhw-BZ",
        "KTjti_2S1Xfi",
        "dhoJdFVP8ZFL",
        "4bz0QAtTV6di"
      ],
      "provenance": []
    },
    "kernelspec": {
      "display_name": "Python 3",
      "name": "python3"
    },
    "language_info": {
      "name": "python"
    }
  },
  "nbformat": 4,
  "nbformat_minor": 0
}